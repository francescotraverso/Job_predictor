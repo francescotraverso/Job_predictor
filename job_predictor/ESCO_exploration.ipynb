{
 "cells": [
  {
   "cell_type": "code",
   "execution_count": 32,
   "id": "84dc9f49",
   "metadata": {},
   "outputs": [],
   "source": [
    "import pandas as pd\n",
    "import numpy as np\n",
    "import requests"
   ]
  },
  {
   "cell_type": "code",
   "execution_count": 45,
   "id": "f662c3a3",
   "metadata": {},
   "outputs": [],
   "source": [
    "df_occupations = pd.read_csv('data/ESCO/occupations_en.csv')"
   ]
  },
  {
   "cell_type": "code",
   "execution_count": 86,
   "id": "54a5a04e",
   "metadata": {},
   "outputs": [],
   "source": [
    "# search for all jobs that have 'manager' in their title  --- IGNORE this cell for now\n",
    "url_title = \"https://ec.europa.eu/esco/api/search\"\n",
    "\n",
    "params = {\n",
    "    'language': 'en',\n",
    "    'type': 'occupation',\n",
    "    'text': 'pig'\n",
    "         }\n",
    "\n",
    "api_title = requests.get(url=url, params=params).json()"
   ]
  },
  {
   "cell_type": "code",
   "execution_count": 131,
   "id": "0c17a1a8",
   "metadata": {},
   "outputs": [],
   "source": [
    "# select a role\n",
    "role = 'cattle breeder'"
   ]
  },
  {
   "cell_type": "code",
   "execution_count": 132,
   "id": "b3822e7d",
   "metadata": {},
   "outputs": [
    {
     "name": "stdout",
     "output_type": "stream",
     "text": [
      "*** SKILL LIST: ['assist animal birth', 'provide first aid to animals', 'maintain animal accommodation', 'create animal records', 'health and safety regulations', 'operate farm equipment', 'dispose of dead animals', 'animal welfare legislation', 'administer specific drugs to facilitate breeding', 'manage livestock', 'signs of animal illness', 'maintain professional records', 'select livestock', 'animal nutrition', 'livestock species', 'manage the health and welfare of livestock', 'care for juvenile animals', 'milk animals', 'manage animal hygiene', 'monitor livestock', 'administer treatment to animals', 'assist in transportation of animals', 'perform milk control', 'manage animal biosecurity', 'provide nutrition to animals', 'livestock reproduction', 'monitor the welfare of animals', 'feed livestock', 'control animal movement', 'manage cattle breeding']\n",
      "*** ALTERNATIVE LABELS: ['cattle specialist', 'cattle breeders', 'cattle rearer']\n",
      "*** JOB DESCRIPTION: {'literal': 'Cattle breeders oversee the production and day-to-day care of cattle. They maintain the health and welfare of cattle.', 'mimetype': 'plain/text'}\n"
     ]
    }
   ],
   "source": [
    "### run this cell & extract skills, alternative labels, and job description from the ESCO API ###\n",
    "\n",
    "# get uri for selected role\n",
    "role_extract = df_occupations[df_occupations['preferredLabel'] == role]\n",
    "role_uri = role_extract['conceptUri']\n",
    "\n",
    "# get role information from the ESCO API\n",
    "url = \"https://ec.europa.eu/esco/api/resource/skill\"\n",
    "params = {\n",
    "    'uri': role_uri,\n",
    "    'language': 'en',\n",
    "         }\n",
    "api_skills = requests.get(url=url, params=params).json()\n",
    "\n",
    "# this line gets you the whole API url; easier to read on your browser\n",
    "requests.get(url=url, params=params).url\n",
    "\n",
    "# gets a list of all skill descriptions and extracts the skill title only\n",
    "api_skills_dict = api_skills.get('_links').get('hasEssentialSkill')\n",
    "skills_list = [skill.get('title') for skill in api_skills_dict]\n",
    "\n",
    "# gets list of alternative labels from the API\n",
    "alt_labels_list = api_skills['alternativeLabel']['en']\n",
    "\n",
    "# gets job description from the API\n",
    "job_description = api_skills['description']['en']\n",
    "\n",
    "print('***** SKILL LIST:', skills_list)\n",
    "print('***** ALTERNATIVE LABELS:', alt_labels_list)\n",
    "print('***** JOB DESCRIPTION:', job_description)"
   ]
  },
  {
   "cell_type": "code",
   "execution_count": null,
   "id": "5d03c7d3",
   "metadata": {},
   "outputs": [],
   "source": []
  }
 ],
 "metadata": {
  "kernelspec": {
   "display_name": "Python 3 (ipykernel)",
   "language": "python",
   "name": "python3"
  },
  "language_info": {
   "codemirror_mode": {
    "name": "ipython",
    "version": 3
   },
   "file_extension": ".py",
   "mimetype": "text/x-python",
   "name": "python",
   "nbconvert_exporter": "python",
   "pygments_lexer": "ipython3",
   "version": "3.8.12"
  },
  "toc": {
   "base_numbering": 1,
   "nav_menu": {},
   "number_sections": true,
   "sideBar": true,
   "skip_h1_title": false,
   "title_cell": "Table of Contents",
   "title_sidebar": "Contents",
   "toc_cell": false,
   "toc_position": {},
   "toc_section_display": true,
   "toc_window_display": false
  }
 },
 "nbformat": 4,
 "nbformat_minor": 5
}
