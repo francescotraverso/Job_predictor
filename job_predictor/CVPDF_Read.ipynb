{
 "cells": [
  {
   "cell_type": "code",
   "execution_count": null,
   "id": "78b5be0a-2c26-4bc4-910c-904fbb336711",
   "metadata": {},
   "outputs": [],
   "source": [
    "#pip install pdf2image\n",
    "#pip install PIL\n",
    "#pip3 install pytesseract\n",
    "#pip3 install pdf2image\n",
    "#sudo apt-get install tesseract-ocr"
   ]
  },
  {
   "cell_type": "code",
   "execution_count": null,
   "id": "e2b1809c",
   "metadata": {},
   "outputs": [],
   "source": [
    "#Imports\n",
    "\n",
    "import os\n",
    "from pdf2image import convert_from_path\n",
    "from PIL import Image\n",
    "import pytesseract"
   ]
  },
  {
   "cell_type": "code",
   "execution_count": null,
   "id": "4ac60c35",
   "metadata": {},
   "outputs": [],
   "source": [
    "#PART 1 : Converting PDF to images\n",
    "\n",
    "pdf_dir = '/Users/sandragomes/code/francescotraverso/job_predictor/job_predictor/data/pdf_directory'\n",
    "\n",
    "os.chdir(pdf_dir)\n",
    "\n",
    "for pdf_file in os.listdir(pdf_dir):\n",
    "    if pdf_file.endswith(\".pdf\"):\n",
    "        pages = convert_from_path(pdf_file, 300) #Read in the PDF file at 300 DPI\n",
    "        pdf_file = pdf_file[:-4]\n",
    "        for page in pages: #Iterate through all the pages stored above\n",
    "            page.save(\"%s-page%d.jpg\" % (pdf_file,pages.index(page)), \"JPEG\") #Create a file name to store the image. Save the image of the page in system"
   ]
  },
  {
   "cell_type": "code",
   "execution_count": null,
   "id": "155cb85b",
   "metadata": {},
   "outputs": [],
   "source": [
    "#Part 2 - Recognizing text from the images using OCR\n",
    "\n",
    "with open(pdf_file, \"r\") as output_file:\n",
    "    for pdf_file in os.listdir(pdf_dir):\n",
    "        pytesseract.get_languages(config='') # List of available languages\n",
    "        pytesseract.image_to_string(pdf_file.open, lang='eng') #language text image to string\n",
    "        pytesseract.image_to_string('images.txt') #Batch processing with a single file containing the list of multiple image file paths\n",
    "        text = str(((pytesseract.image_to_string(Image.open(image_file)))))\n",
    "        text.replace(\"-\\n\", \"\")\n",
    "        output_file.write(text)"
   ]
  },
  {
   "cell_type": "code",
   "execution_count": null,
   "id": "bce37ad7",
   "metadata": {},
   "outputs": [],
   "source": []
  }
 ],
 "metadata": {
  "kernelspec": {
   "display_name": "Python 3 (ipykernel)",
   "language": "python",
   "name": "python3"
  },
  "language_info": {
   "codemirror_mode": {
    "name": "ipython",
    "version": 3
   },
   "file_extension": ".py",
   "mimetype": "text/x-python",
   "name": "python",
   "nbconvert_exporter": "python",
   "pygments_lexer": "ipython3",
   "version": "3.8.12"
  },
  "toc": {
   "base_numbering": 1,
   "nav_menu": {},
   "number_sections": true,
   "sideBar": true,
   "skip_h1_title": false,
   "title_cell": "Table of Contents",
   "title_sidebar": "Contents",
   "toc_cell": false,
   "toc_position": {},
   "toc_section_display": true,
   "toc_window_display": false
  }
 },
 "nbformat": 4,
 "nbformat_minor": 5
}
