{
 "cells": [
  {
   "cell_type": "code",
   "execution_count": null,
   "id": "893429b2",
   "metadata": {},
   "outputs": [],
   "source": [
    "### DON'T DO \"RESTART AND RUN ALL CELLS\" ON THIS NOTEBOOK ###\n",
    "### THERE'S A CELL THAT TAKES VERY LONG TO RUN AND IT ONLY NEEDED TO BE RUN ONCE ###"
   ]
  },
  {
   "cell_type": "code",
   "execution_count": 642,
   "id": "fbc18917",
   "metadata": {},
   "outputs": [],
   "source": [
    "import pandas as pd\n",
    "import numpy as np\n",
    "import requests\n",
    "import string\n",
    "import collections\n",
    "import random\n",
    "import time\n",
    "from gensim.models.doc2vec import Doc2Vec, TaggedDocument\n",
    "from gensim.models.word2vec import Word2Vec\n",
    "from gensim.models import KeyedVectors\n",
    "from gensim.utils import simple_preprocess\n",
    "import nltk\n",
    "from nltk import word_tokenize\n",
    "from nltk.corpus import stopwords\n",
    "from nltk.stem import WordNetLemmatizer\n",
    "from textaugment import Wordnet"
   ]
  },
  {
   "cell_type": "code",
   "execution_count": 534,
   "id": "c1f5bccc",
   "metadata": {},
   "outputs": [],
   "source": [
    "# get dataframes from CSV files\n",
    "\n",
    "df_occupations = pd.read_csv('../data/ESCO/occupations_en.csv')\n",
    "df_occupations_aug = pd.read_csv('../data/ESCO/occupations_augmented.csv')\n"
   ]
  },
  {
   "cell_type": "code",
   "execution_count": 678,
   "id": "5223109b",
   "metadata": {},
   "outputs": [
    {
     "name": "stdout",
     "output_type": "stream",
     "text": [
      "***** SKILL LIST: ['manage animal biosecurity', 'animal nutrition', 'monitor the welfare of animals', 'create animal records', 'health and safety regulations', 'manage pig breeding', 'control animal movement', 'feed livestock', 'provide nutrition to animals', 'provide first aid to animals', 'select livestock', 'monitor livestock', 'manage the health and welfare of livestock', 'assist animal birth', 'assist in transportation of animals', 'carry out specialised procedures for pigs', 'livestock reproduction', 'dispose of dead animals', 'livestock feeding', 'maintain professional records', 'operate farm equipment', 'administer treatment to animals', 'care for juvenile animals', 'manage livestock', 'maintain animal accommodation', 'livestock species', 'manage animal hygiene', 'signs of animal illness', 'administer specific drugs to facilitate breeding', 'animal welfare legislation']\n",
      "***** ALTERNATIVE LABELS: ['pig breeders', 'pig specialist', 'pig rearer']\n",
      "***** JOB DESCRIPTION: Pig breeders oversee the production and day-to-day care of pigs. They maintain the health and welfare of pigs.\n"
     ]
    }
   ],
   "source": [
    "### run this cell & extract skills, alternative labels, and job description from the ESCO API ###\n",
    "### this cell uses the original occupations dataframe (not augmented) ###\n",
    "\n",
    "# select a role\n",
    "role = 'pig breeder'\n",
    "\n",
    "# get uri for selected role\n",
    "role_extract = df_occupations[df_occupations['preferredLabel'] == role]\n",
    "role_uri = role_extract['conceptUri']\n",
    "\n",
    "# get role information from the ESCO API\n",
    "url = \"https://ec.europa.eu/esco/api/resource/skill\"\n",
    "params = {\n",
    "    'uri': role_uri,\n",
    "    'language': 'en'\n",
    "         }\n",
    "api_skills = requests.get(url=url, params=params).json()\n",
    "\n",
    "# this line gets you the whole API url; easier to read on your browser\n",
    "requests.get(url=url, params=params).url\n",
    "\n",
    "# gets a list of all skill descriptions and extracts the skill title only\n",
    "api_skills_dict = api_skills.get('_links').get('hasEssentialSkill')\n",
    "skills_list = [skill.get('title') for skill in api_skills_dict]\n",
    "\n",
    "# gets list of alternative labels from the API\n",
    "alt_labels_list = api_skills.get('alternativeLabel').get('en')\n",
    "\n",
    "# gets job description from the API\n",
    "job_description = api_skills.get('description').get('en').get('literal')\n",
    "\n",
    "print('***** SKILL LIST:', skills_list)\n",
    "print('***** ALTERNATIVE LABELS:', alt_labels_list)\n",
    "print('***** JOB DESCRIPTION:', job_description)"
   ]
  },
  {
   "cell_type": "code",
   "execution_count": 539,
   "id": "0a5dbc55",
   "metadata": {},
   "outputs": [],
   "source": [
    "# get training and testin sets, as well as the entire dataframe\n",
    "\n",
    "X_all = df_occupations_aug['description'][0:35824]\n",
    "X_train = X_all[0:20000]\n",
    "X_test = X_all[20000:35824]"
   ]
  },
  {
   "cell_type": "code",
   "execution_count": 28,
   "id": "522a0c7b",
   "metadata": {},
   "outputs": [],
   "source": [
    "# Preprocessing function for job descriptions\n",
    "\n",
    "def preprocessing(sentence):\n",
    "    \n",
    "    # remove punctuation\n",
    "    for punctuation in string.punctuation:        \n",
    "        sentence = sentence.replace(punctuation, '')\n",
    "    \n",
    "    # set lowercase\n",
    "    sentence = sentence.lower()\n",
    "    \n",
    "    # remove numbers\n",
    "    sentence = ''.join(char for char in sentence if not char.isdigit())\n",
    "    \n",
    "    # remove stopwords\n",
    "    stop_words = set(stopwords.words('english'))\n",
    "    tokens = word_tokenize(sentence)\n",
    "    stopword_free_tokens = [token for token in tokens if token not in stop_words]\n",
    "    sentence = ' '.join(stopword_free_tokens)\n",
    "\n",
    "    # lemmatize\n",
    "    sentence = WordNetLemmatizer().lemmatize(sentence, pos='n')\n",
    "    sentence = WordNetLemmatizer().lemmatize(sentence, pos='v')\n",
    "    \n",
    "    # split into tokens again after Lemmatizing\n",
    "    sentence = word_tokenize(sentence)\n",
    "    \n",
    "    return sentence"
   ]
  },
  {
   "cell_type": "code",
   "execution_count": 542,
   "id": "30fc9176",
   "metadata": {},
   "outputs": [],
   "source": [
    "# applying preprocessing as in Gensim tutorial\n",
    "\n",
    "def read_corpus(corpus, tokens_only=False):\n",
    "    for i, line in enumerate(corpus):\n",
    "        tokens = preprocessing(line)\n",
    "        if tokens_only:\n",
    "            yield tokens\n",
    "        else:\n",
    "            # For training data, add tags\n",
    "            yield TaggedDocument(tokens, [i])\n",
    "\n",
    "all_corpus = list(read_corpus(X_all))\n",
    "# train_corpus = list(read_corpus(X_train))\n",
    "# test_corpus = list(read_corpus(X_test, tokens_only=True))"
   ]
  },
  {
   "cell_type": "code",
   "execution_count": 665,
   "id": "0e8eceef",
   "metadata": {},
   "outputs": [
    {
     "data": {
      "text/plain": [
       "<gensim.models.keyedvectors.KeyedVectors at 0x1482fa4f0>"
      ]
     },
     "execution_count": 665,
     "metadata": {},
     "output_type": "execute_result"
    }
   ],
   "source": [
    "# initialize 'job2vec' model\n",
    "\n",
    "job2vec_model = Doc2Vec(\n",
    "    vector_size=50,\n",
    "    min_count=2,\n",
    "    epochs=40,\n",
    "    window=10,\n",
    "    alpha=0.01)\n",
    "\n",
    "job2vec_model.wv"
   ]
  },
  {
   "cell_type": "code",
   "execution_count": 666,
   "id": "4142a833",
   "metadata": {},
   "outputs": [],
   "source": [
    "# build a vocabulary\n",
    "\n",
    "job2vec_model.build_vocab(all_corpus)"
   ]
  },
  {
   "cell_type": "code",
   "execution_count": 667,
   "id": "4790bb85",
   "metadata": {},
   "outputs": [],
   "source": [
    "# train model!\n",
    "job2vec_model.train(\n",
    "    all_corpus,\n",
    "    total_examples=job2vec_model.corpus_count,\n",
    "    epochs=job2vec_model.epochs,\n",
    ")"
   ]
  },
  {
   "cell_type": "code",
   "execution_count": 675,
   "id": "0776e260",
   "metadata": {},
   "outputs": [],
   "source": [
    "# describe your job and get your prediction!\n",
    "\n",
    "describe_your_job = \\\n",
    "\"Coordinated design and setting up of technical solutions for temporary water and wastewater installations\"\n",
    "\n"
   ]
  },
  {
   "cell_type": "code",
   "execution_count": 676,
   "id": "272d934b",
   "metadata": {},
   "outputs": [],
   "source": [
    "# preprocess your job description\n",
    "new_description = preprocessing(describe_your_job)\n",
    "\n",
    "# create inferred vector from your preprocessed job description\n",
    "new_inferred_vector = job2vec_model.infer_vector(new_description)\n",
    "\n",
    "# get similar job descriptions from model\n",
    "similar_to_new = job2vec_model.dv.most_similar([new_inferred_vector], topn=len(job2vec_model.dv))"
   ]
  },
  {
   "cell_type": "code",
   "execution_count": 677,
   "id": "a694d074",
   "metadata": {},
   "outputs": [
    {
     "name": "stdout",
     "output_type": "stream",
     "text": [
      "Test Document (695): «coordinated design setting technical solutions temporary water wastewater installations»\n",
      "\n",
      "LISTING 3 MOST SIMILAR JOB ROLES & DESCRIPTIONS \n",
      "\n",
      "* MOST SIMILAR: chemical tester\n",
      "chemical quizzer are responsible for the rapid on-the-spot psychoanalysis of steel test man incoming from the alloy production store for the role of timely chastening of the chemical composing of the liquidness metal.\n",
      "Similarity score: 63.9 % \n",
      "\n",
      "* 2ND MOST SIMILAR: veterinary scientist\n",
      "Veterinary scientist develop and do research in animal models, compare basic biology across animals, and translate research findings to different species, including humans.\n",
      "Similarity score: 61.4 % \n",
      "\n",
      "* 3RD MOST SIMILAR: veterinary researcher\n",
      "veterinary scientist develop and do research in animal models, compare basic biology across animals, and translate research finding to different species, including humans.\n",
      "Similarity score: 60.9 % \n",
      "\n"
     ]
    }
   ],
   "source": [
    "print('Test Document ({}): «{}»\\n'.format(doc_id, ' '.join(new_description)))\n",
    "print('LISTING 3 MOST SIMILAR JOB ROLES & DESCRIPTIONS \\n')\n",
    "for label, index in [('* MOST SIMILAR', 0), ('* 2ND MOST SIMILAR', 1), ('* 3RD MOST SIMILAR', 2)]:\n",
    "    print(label + ': ' + df_occupations_aug.loc[similar_to_new[index][0]]['preferredLabel'])\n",
    "    print(df_occupations_aug.loc[similar_to_new[index][0]]['description'])\n",
    "    print(f'Similarity score: {round(similar_to_new[index][1]*100,1)} % \\n')\n"
   ]
  },
  {
   "cell_type": "code",
   "execution_count": 660,
   "id": "d6079129",
   "metadata": {
    "scrolled": true
   },
   "outputs": [
    {
     "name": "stdout",
     "output_type": "stream",
     "text": [
      "LISTING 3 MOST SIMILAR JOB ROLES & DESCRIPTIONS -- NOW WITH ESCO SKILLS \n",
      "\n",
      "* MOST SIMILAR: mining hydrologist\n",
      "mining geotechnical engineers in mining perform engineering, hydrological and geological test and psychoanalysis to improve the refuge and efficiency of mineral operations. they oversee the assemblage of sampling and the taking of measurement using geotechnical investigation method and techniques. they model the mechanical behavior of the rock passel and contribute to the design of the mine geometry.\n",
      "Similarity score: 55.2 % \n",
      "\n",
      "* 2ND MOST SIMILAR: engine design technologist\n",
      "engine architect carry out engineering responsibility in designing mechanical equipment such as auto and all case of engines. they also supervise their facility and maintenance.\n",
      "Similarity score: 49.1 % \n",
      "\n",
      "* 3RD MOST SIMILAR: nuclear engineers\n",
      "nuclear engineer plan and invention engineering equipment and summons in nuclear plant and sites. they engage in engineering activities pertaining to nuclear index plants, and develop peril solutions.\n",
      "Similarity score: 48.8 % \n",
      "\n"
     ]
    }
   ],
   "source": [
    "# now we will:\n",
    "# 1. take the jobs we got from the previous model run,\n",
    "# 2. pass them through the ESCO API,\n",
    "# 3. extract the skills they're associated with, \n",
    "# 4. append those skills to the input job description (\"describe_your_job\")\n",
    "# 5. preprocess and run the model again!\n",
    "\n",
    "url = \"https://ec.europa.eu/esco/api/resource/skill\"\n",
    "\n",
    "job_description_w_skills = describe_your_job\n",
    "\n",
    "for index in range(3):\n",
    "    \n",
    "    # get URI of each of the suggested jobs\n",
    "    suggested_job_uri = df_occupations_aug.loc[similar_to_new[index][0]]['conceptUri']\n",
    "    \n",
    "    # pass them through ESCO API\n",
    "    params = {'uri': suggested_job_uri, 'language': 'en'}\n",
    "    api_skills = requests.get(url=url, params=params).json()\n",
    "    time.sleep(1) # keeping the API happy :)\n",
    "    \n",
    "    # gets a list of all skill descriptions and extracts the skill title only\n",
    "    api_skills_dict = api_skills.get('_links').get('hasEssentialSkill')\n",
    "    skills_list = [skill.get('title') for skill in api_skills_dict]\n",
    "\n",
    "    # appends skills to the job description you gave us :)\n",
    "    job_description_w_skills = job_description_w_skills + ' ' + ' '.join(skills_list)\n",
    "    \n",
    "# preprocess & infer vector again and get new similar jobs\n",
    "new_description_w_skills = preprocessing(job_description_w_skills)\n",
    "new_inferred_vector_w_skills = job2vec_model.infer_vector(new_description_w_skills)\n",
    "similar_to_new_w_skills = job2vec_model.dv.most_similar([new_inferred_vector_w_skills], topn=len(job2vec_model.dv))\n",
    "\n",
    "# run model again\n",
    "print('LISTING 3 MOST SIMILAR JOB ROLES & DESCRIPTIONS -- NOW WITH ESCO SKILLS \\n')\n",
    "for label, index in [('* MOST SIMILAR', 0), ('* 2ND MOST SIMILAR', 1), ('* 3RD MOST SIMILAR', 2)]:\n",
    "    print(label + ': ' + df_occupations_aug.loc[similar_to_new_w_skills[index][0]]['preferredLabel'])\n",
    "    print(df_occupations_aug.loc[similar_to_new_w_skills[index][0]]['description'])\n",
    "    print(f'Similarity score: {round(similar_to_new_w_skills[index][1]*100,1)} % \\n')"
   ]
  },
  {
   "cell_type": "code",
   "execution_count": null,
   "id": "bbc95d13",
   "metadata": {},
   "outputs": [],
   "source": []
  }
 ],
 "metadata": {
  "kernelspec": {
   "display_name": "Python 3 (ipykernel)",
   "language": "python",
   "name": "python3"
  },
  "language_info": {
   "codemirror_mode": {
    "name": "ipython",
    "version": 3
   },
   "file_extension": ".py",
   "mimetype": "text/x-python",
   "name": "python",
   "nbconvert_exporter": "python",
   "pygments_lexer": "ipython3",
   "version": "3.8.12"
  },
  "toc": {
   "base_numbering": 1,
   "nav_menu": {},
   "number_sections": true,
   "sideBar": true,
   "skip_h1_title": false,
   "title_cell": "Table of Contents",
   "title_sidebar": "Contents",
   "toc_cell": false,
   "toc_position": {},
   "toc_section_display": true,
   "toc_window_display": false
  }
 },
 "nbformat": 4,
 "nbformat_minor": 5
}
