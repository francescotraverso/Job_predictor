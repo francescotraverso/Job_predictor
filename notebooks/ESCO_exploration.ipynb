{
 "cells": [
  {
   "cell_type": "code",
   "execution_count": null,
   "id": "2cc83b2f",
   "metadata": {},
   "outputs": [],
   "source": [
    "### DON'T DO \"RESTART AND RUN ALL CELLS\" ON THIS NOTEBOOK ###\n",
    "### THERE'S A CELL THAT TAKES VERY LONG TO RUN AND IT ONLY NEEDED TO BE RUN ONCE ###"
   ]
  },
  {
   "cell_type": "code",
   "execution_count": 748,
   "id": "fbc18917",
   "metadata": {},
   "outputs": [],
   "source": [
    "import pandas as pd\n",
    "import numpy as np\n",
    "import requests\n",
    "import string\n",
    "import collections\n",
    "import random\n",
    "import time\n",
    "from tqdm import tqdm\n",
    "from gensim.models.doc2vec import Doc2Vec, TaggedDocument\n",
    "from gensim.models.word2vec import Word2Vec\n",
    "from gensim.models import KeyedVectors\n",
    "from gensim.utils import simple_preprocess\n",
    "from gensim.models.phrases import Phrases\n",
    "import nltk\n",
    "from nltk import word_tokenize\n",
    "from nltk.corpus import stopwords\n",
    "from nltk.stem import WordNetLemmatizer\n",
    "from textaugment import Wordnet"
   ]
  },
  {
   "cell_type": "code",
   "execution_count": 745,
   "id": "c1f5bccc",
   "metadata": {},
   "outputs": [
    {
     "name": "stderr",
     "output_type": "stream",
     "text": [
      "/var/folders/84/1j64f6yd3yd5g68_pj91ch780000gn/T/ipykernel_76619/3036819475.py:5: DtypeWarning: Columns (12) have mixed types. Specify dtype option on import or set low_memory=False.\n",
      "  df_occ_n_skills = pd.read_csv('../data/ESCO/occupations_augmented_with_skills.csv')\n"
     ]
    }
   ],
   "source": [
    "# get dataframes from CSV files\n",
    "\n",
    "df_occupations = pd.read_csv('../data/ESCO/occupations_en.csv')\n",
    "df_occupations_aug = pd.read_csv('../data/ESCO/occupations_augmented.csv')\n",
    "df_occ_n_skills = pd.read_csv('../data/ESCO/occupations_augmented_with_skills.csv')"
   ]
  },
  {
   "cell_type": "code",
   "execution_count": 746,
   "id": "0bed9404",
   "metadata": {
    "scrolled": true
   },
   "outputs": [
    {
     "data": {
      "text/html": [
       "<div>\n",
       "<style scoped>\n",
       "    .dataframe tbody tr th:only-of-type {\n",
       "        vertical-align: middle;\n",
       "    }\n",
       "\n",
       "    .dataframe tbody tr th {\n",
       "        vertical-align: top;\n",
       "    }\n",
       "\n",
       "    .dataframe thead th {\n",
       "        text-align: right;\n",
       "    }\n",
       "</style>\n",
       "<table border=\"1\" class=\"dataframe\">\n",
       "  <thead>\n",
       "    <tr style=\"text-align: right;\">\n",
       "      <th></th>\n",
       "      <th>job_title</th>\n",
       "      <th>description</th>\n",
       "      <th>skills</th>\n",
       "      <th>description_input</th>\n",
       "      <th>skills_input</th>\n",
       "    </tr>\n",
       "  </thead>\n",
       "  <tbody>\n",
       "    <tr>\n",
       "      <th>0</th>\n",
       "      <td>technical director</td>\n",
       "      <td>Technical directors realise the artistic visio...</td>\n",
       "      <td>adapt to artists' creative demands, organise r...</td>\n",
       "      <td>0</td>\n",
       "      <td>0</td>\n",
       "    </tr>\n",
       "    <tr>\n",
       "      <th>1</th>\n",
       "      <td>metal drawing machine operator</td>\n",
       "      <td>Metal drawing machine operators set up and ope...</td>\n",
       "      <td>cold drawing processes, monitor moving workpie...</td>\n",
       "      <td>0</td>\n",
       "      <td>0</td>\n",
       "    </tr>\n",
       "    <tr>\n",
       "      <th>2</th>\n",
       "      <td>precision device inspector</td>\n",
       "      <td>Precision device inspectors make sure precisio...</td>\n",
       "      <td>precision measuring instruments, monitor machi...</td>\n",
       "      <td>0</td>\n",
       "      <td>0</td>\n",
       "    </tr>\n",
       "    <tr>\n",
       "      <th>3</th>\n",
       "      <td>air traffic safety technician</td>\n",
       "      <td>Air traffic safety technicians provide technic...</td>\n",
       "      <td>air transport law, aircraft flight control sys...</td>\n",
       "      <td>0</td>\n",
       "      <td>0</td>\n",
       "    </tr>\n",
       "    <tr>\n",
       "      <th>4</th>\n",
       "      <td>hospitality revenue manager</td>\n",
       "      <td>Hospitality revenue managers maximise revenue ...</td>\n",
       "      <td>develop revenue generation strategies, ensure ...</td>\n",
       "      <td>0</td>\n",
       "      <td>0</td>\n",
       "    </tr>\n",
       "  </tbody>\n",
       "</table>\n",
       "</div>"
      ],
      "text/plain": [
       "                        job_title  \\\n",
       "0              technical director   \n",
       "1  metal drawing machine operator   \n",
       "2      precision device inspector   \n",
       "3   air traffic safety technician   \n",
       "4     hospitality revenue manager   \n",
       "\n",
       "                                         description  \\\n",
       "0  Technical directors realise the artistic visio...   \n",
       "1  Metal drawing machine operators set up and ope...   \n",
       "2  Precision device inspectors make sure precisio...   \n",
       "3  Air traffic safety technicians provide technic...   \n",
       "4  Hospitality revenue managers maximise revenue ...   \n",
       "\n",
       "                                              skills  description_input  \\\n",
       "0  adapt to artists' creative demands, organise r...                  0   \n",
       "1  cold drawing processes, monitor moving workpie...                  0   \n",
       "2  precision measuring instruments, monitor machi...                  0   \n",
       "3  air transport law, aircraft flight control sys...                  0   \n",
       "4  develop revenue generation strategies, ensure ...                  0   \n",
       "\n",
       "   skills_input  \n",
       "0             0  \n",
       "1             0  \n",
       "2             0  \n",
       "3             0  \n",
       "4             0  "
      ]
     },
     "execution_count": 746,
     "metadata": {},
     "output_type": "execute_result"
    }
   ],
   "source": [
    "df_occ_n_skills = df_occ_n_skills.filter(items=['preferredLabel', 'description', 'skills'])\n",
    "df_occ_n_skills = df_occ_n_skills.reindex(columns=['preferredLabel','description', 'skills'])\n",
    "df_occ_n_skills.rename(columns={'preferredLabel': 'job_title'}, inplace=True)\n",
    "df_occ_n_skills['description_input'] = 0\n",
    "df_occ_n_skills['skills_input'] = 0\n",
    "df_occ_n_skills.head()"
   ]
  },
  {
   "cell_type": "code",
   "execution_count": 883,
   "id": "03a3b98f",
   "metadata": {},
   "outputs": [
    {
     "data": {
      "text/plain": [
       "'Technical directors realise the artistic visions of the creators within technical constraints. They coordinate the operations of various production units, such as scene, wardrobe, sound and lighting, and make-up. They adapt the prototype and study the feasibility, implementation, operation and technical monitoring of the artistic project. They are also responsible for the stage equipment and technical equipment.'"
      ]
     },
     "execution_count": 883,
     "metadata": {},
     "output_type": "execute_result"
    }
   ],
   "source": [
    "df_occ_n_skills.iloc[0,1]"
   ]
  },
  {
   "cell_type": "code",
   "execution_count": 786,
   "id": "d5f6be67",
   "metadata": {},
   "outputs": [
    {
     "name": "stderr",
     "output_type": "stream",
     "text": [
      "35824it [00:05, 6719.17it/s]\n"
     ]
    }
   ],
   "source": [
    "# create description_input and skills_input, which are strings on which the model will be fit\n",
    "\n",
    "for row, index in tqdm(df_occ_n_skills.iterrows()):\n",
    "    underscored_job_title = index['job_title'].replace(\" \", \"_\")\n",
    "    this_rows_description_input = underscored_job_title + ' ' + index['description']\n",
    "    this_rows_skills_input = underscored_job_title + ' ' + index['skills']\n",
    "    df_occ_n_skills.iloc[row,-2] = this_rows_description_input\n",
    "    df_occ_n_skills.iloc[row,-1] = this_rows_skills_input"
   ]
  },
  {
   "cell_type": "code",
   "execution_count": 787,
   "id": "10db401c",
   "metadata": {
    "scrolled": true
   },
   "outputs": [
    {
     "data": {
      "text/html": [
       "<div>\n",
       "<style scoped>\n",
       "    .dataframe tbody tr th:only-of-type {\n",
       "        vertical-align: middle;\n",
       "    }\n",
       "\n",
       "    .dataframe tbody tr th {\n",
       "        vertical-align: top;\n",
       "    }\n",
       "\n",
       "    .dataframe thead th {\n",
       "        text-align: right;\n",
       "    }\n",
       "</style>\n",
       "<table border=\"1\" class=\"dataframe\">\n",
       "  <thead>\n",
       "    <tr style=\"text-align: right;\">\n",
       "      <th></th>\n",
       "      <th>job_title</th>\n",
       "      <th>description</th>\n",
       "      <th>skills</th>\n",
       "      <th>description_input</th>\n",
       "      <th>skills_input</th>\n",
       "    </tr>\n",
       "  </thead>\n",
       "  <tbody>\n",
       "    <tr>\n",
       "      <th>0</th>\n",
       "      <td>technical director</td>\n",
       "      <td>Technical directors realise the artistic visio...</td>\n",
       "      <td>adapt to artists' creative demands, organise r...</td>\n",
       "      <td>technical_director Technical directors realise...</td>\n",
       "      <td>technical_director adapt to artists' creative ...</td>\n",
       "    </tr>\n",
       "    <tr>\n",
       "      <th>1</th>\n",
       "      <td>metal drawing machine operator</td>\n",
       "      <td>Metal drawing machine operators set up and ope...</td>\n",
       "      <td>cold drawing processes, monitor moving workpie...</td>\n",
       "      <td>metal_drawing_machine_operator Metal drawing m...</td>\n",
       "      <td>metal_drawing_machine_operator cold drawing pr...</td>\n",
       "    </tr>\n",
       "    <tr>\n",
       "      <th>2</th>\n",
       "      <td>precision device inspector</td>\n",
       "      <td>Precision device inspectors make sure precisio...</td>\n",
       "      <td>precision measuring instruments, monitor machi...</td>\n",
       "      <td>precision_device_inspector Precision device in...</td>\n",
       "      <td>precision_device_inspector precision measuring...</td>\n",
       "    </tr>\n",
       "    <tr>\n",
       "      <th>3</th>\n",
       "      <td>air traffic safety technician</td>\n",
       "      <td>Air traffic safety technicians provide technic...</td>\n",
       "      <td>air transport law, aircraft flight control sys...</td>\n",
       "      <td>air_traffic_safety_technician Air traffic safe...</td>\n",
       "      <td>air_traffic_safety_technician air transport la...</td>\n",
       "    </tr>\n",
       "    <tr>\n",
       "      <th>4</th>\n",
       "      <td>hospitality revenue manager</td>\n",
       "      <td>Hospitality revenue managers maximise revenue ...</td>\n",
       "      <td>develop revenue generation strategies, ensure ...</td>\n",
       "      <td>hospitality_revenue_manager Hospitality revenu...</td>\n",
       "      <td>hospitality_revenue_manager develop revenue ge...</td>\n",
       "    </tr>\n",
       "  </tbody>\n",
       "</table>\n",
       "</div>"
      ],
      "text/plain": [
       "                        job_title  \\\n",
       "0              technical director   \n",
       "1  metal drawing machine operator   \n",
       "2      precision device inspector   \n",
       "3   air traffic safety technician   \n",
       "4     hospitality revenue manager   \n",
       "\n",
       "                                         description  \\\n",
       "0  Technical directors realise the artistic visio...   \n",
       "1  Metal drawing machine operators set up and ope...   \n",
       "2  Precision device inspectors make sure precisio...   \n",
       "3  Air traffic safety technicians provide technic...   \n",
       "4  Hospitality revenue managers maximise revenue ...   \n",
       "\n",
       "                                              skills  \\\n",
       "0  adapt to artists' creative demands, organise r...   \n",
       "1  cold drawing processes, monitor moving workpie...   \n",
       "2  precision measuring instruments, monitor machi...   \n",
       "3  air transport law, aircraft flight control sys...   \n",
       "4  develop revenue generation strategies, ensure ...   \n",
       "\n",
       "                                   description_input  \\\n",
       "0  technical_director Technical directors realise...   \n",
       "1  metal_drawing_machine_operator Metal drawing m...   \n",
       "2  precision_device_inspector Precision device in...   \n",
       "3  air_traffic_safety_technician Air traffic safe...   \n",
       "4  hospitality_revenue_manager Hospitality revenu...   \n",
       "\n",
       "                                        skills_input  \n",
       "0  technical_director adapt to artists' creative ...  \n",
       "1  metal_drawing_machine_operator cold drawing pr...  \n",
       "2  precision_device_inspector precision measuring...  \n",
       "3  air_traffic_safety_technician air transport la...  \n",
       "4  hospitality_revenue_manager develop revenue ge...  "
      ]
     },
     "execution_count": 787,
     "metadata": {},
     "output_type": "execute_result"
    }
   ],
   "source": [
    "df_occ_n_skills.head()"
   ]
  },
  {
   "cell_type": "code",
   "execution_count": 788,
   "id": "bc077204",
   "metadata": {},
   "outputs": [],
   "source": [
    "# get entire dataframe as dataset according to Qiewi's suggestion\n",
    "# concatenate the job_title:skills list to the end of df_occ_n_skills\n",
    "\n",
    "X_all = pd.concat([df_occ_n_skills['description_input'], df_occ_n_skills['skills_input']]).reset_index(drop=True)"
   ]
  },
  {
   "cell_type": "code",
   "execution_count": 678,
   "id": "5223109b",
   "metadata": {},
   "outputs": [
    {
     "name": "stdout",
     "output_type": "stream",
     "text": [
      "***** SKILL LIST: ['manage animal biosecurity', 'animal nutrition', 'monitor the welfare of animals', 'create animal records', 'health and safety regulations', 'manage pig breeding', 'control animal movement', 'feed livestock', 'provide nutrition to animals', 'provide first aid to animals', 'select livestock', 'monitor livestock', 'manage the health and welfare of livestock', 'assist animal birth', 'assist in transportation of animals', 'carry out specialised procedures for pigs', 'livestock reproduction', 'dispose of dead animals', 'livestock feeding', 'maintain professional records', 'operate farm equipment', 'administer treatment to animals', 'care for juvenile animals', 'manage livestock', 'maintain animal accommodation', 'livestock species', 'manage animal hygiene', 'signs of animal illness', 'administer specific drugs to facilitate breeding', 'animal welfare legislation']\n",
      "***** ALTERNATIVE LABELS: ['pig breeders', 'pig specialist', 'pig rearer']\n",
      "***** JOB DESCRIPTION: Pig breeders oversee the production and day-to-day care of pigs. They maintain the health and welfare of pigs.\n"
     ]
    }
   ],
   "source": [
    "### run this cell & extract skills, alternative labels, and job description from the ESCO API ###\n",
    "### this cell uses the original occupations dataframe (not augmented) ###\n",
    "\n",
    "# select a role\n",
    "role = 'pig breeder'\n",
    "\n",
    "# get uri for selected role\n",
    "role_extract = df_occupations[df_occupations['preferredLabel'] == role]\n",
    "role_uri = role_extract['conceptUri']\n",
    "\n",
    "# get role information from the ESCO API\n",
    "url = \"https://ec.europa.eu/esco/api/resource/skill\"\n",
    "params = {\n",
    "    'uri': role_uri,\n",
    "    'language': 'en'\n",
    "         }\n",
    "api_skills = requests.get(url=url, params=params).json()\n",
    "\n",
    "# this line gets you the whole API url; easier to read on your browser\n",
    "requests.get(url=url, params=params).url\n",
    "\n",
    "# gets a list of all skill descriptions and extracts the skill title only\n",
    "api_skills_dict = api_skills.get('_links').get('hasEssentialSkill')\n",
    "skills_list = [skill.get('title') for skill in api_skills_dict]\n",
    "\n",
    "# gets list of alternative labels from the API\n",
    "alt_labels_list = api_skills.get('alternativeLabel').get('en')\n",
    "\n",
    "# gets job description from the API\n",
    "job_description = api_skills.get('description').get('en').get('literal')\n",
    "\n",
    "print('***** SKILL LIST:', skills_list)\n",
    "print('***** ALTERNATIVE LABELS:', alt_labels_list)\n",
    "print('***** JOB DESCRIPTION:', job_description)"
   ]
  },
  {
   "cell_type": "code",
   "execution_count": 28,
   "id": "522a0c7b",
   "metadata": {},
   "outputs": [],
   "source": [
    "# Preprocessing function for job descriptions\n",
    "\n",
    "def preprocessing(sentence):\n",
    "    \n",
    "    # remove punctuation\n",
    "    for punctuation in string.punctuation:        \n",
    "        sentence = sentence.replace(punctuation, '')\n",
    "    \n",
    "    # set lowercase\n",
    "    sentence = sentence.lower()\n",
    "    \n",
    "    # remove numbers\n",
    "    sentence = ''.join(char for char in sentence if not char.isdigit())\n",
    "    \n",
    "    # remove stopwords\n",
    "    stop_words = set(stopwords.words('english'))\n",
    "    tokens = word_tokenize(sentence)\n",
    "    stopword_free_tokens = [token for token in tokens if token not in stop_words]\n",
    "    sentence = ' '.join(stopword_free_tokens)\n",
    "\n",
    "    # lemmatize\n",
    "    sentence = WordNetLemmatizer().lemmatize(sentence, pos='n')\n",
    "    sentence = WordNetLemmatizer().lemmatize(sentence, pos='v')\n",
    "    \n",
    "    # split into tokens again after Lemmatizing\n",
    "    sentence = word_tokenize(sentence)\n",
    "    \n",
    "    return sentence"
   ]
  },
  {
   "cell_type": "code",
   "execution_count": 842,
   "id": "30fc9176",
   "metadata": {},
   "outputs": [],
   "source": [
    "# applying preprocessing as in Gensim tutorial\n",
    "\n",
    "def read_corpus(corpus, tokens_only=False):\n",
    "    for i, line in enumerate(corpus):\n",
    "        tokens = preprocessing(line)\n",
    "        if tokens_only:\n",
    "            yield tokens\n",
    "        else:\n",
    "            # For training data, add tags\n",
    "            yield TaggedDocument(tokens, [i])\n",
    "\n",
    "all_corpus = list(read_corpus(X_all))"
   ]
  },
  {
   "cell_type": "code",
   "execution_count": 847,
   "id": "0e8eceef",
   "metadata": {
    "scrolled": true
   },
   "outputs": [
    {
     "data": {
      "text/plain": [
       "<gensim.models.keyedvectors.KeyedVectors at 0x1482bcf70>"
      ]
     },
     "execution_count": 847,
     "metadata": {},
     "output_type": "execute_result"
    }
   ],
   "source": [
    "# initialize 'job2vec' model\n",
    "\n",
    "job2vec_model = Doc2Vec(\n",
    "    vector_size=70,\n",
    "    min_count=5,\n",
    "    epochs=100,\n",
    "    window=20,\n",
    "    alpha=0.01,\n",
    "    dm_concat=1,\n",
    "    shrink_windows=True)\n",
    "\n",
    "job2vec_model.wv"
   ]
  },
  {
   "cell_type": "code",
   "execution_count": 850,
   "id": "3e8277f5",
   "metadata": {},
   "outputs": [],
   "source": [
    "# build vocabulary\n",
    "\n",
    "job2vec_model.build_vocab(all_corpus)"
   ]
  },
  {
   "cell_type": "code",
   "execution_count": 851,
   "id": "4790bb85",
   "metadata": {},
   "outputs": [],
   "source": [
    "# train model!\n",
    "\n",
    "job2vec_model.train(\n",
    "    all_corpus,\n",
    "    total_examples=job2vec_model.corpus_count,\n",
    "    epochs=job2vec_model.epochs\n",
    "    )"
   ]
  },
  {
   "cell_type": "code",
   "execution_count": 886,
   "id": "0776e260",
   "metadata": {},
   "outputs": [],
   "source": [
    "# describe your job and get your prediction!\n",
    "\n",
    "describe_your_job = \\\n",
    "\"realise the artistic visions of the creators within technical constraints. They coordinate the operations of various production units, such as scene, wardrobe, sound and lighting, and make-up. They adapt the prototype and study the feasibility, implementation, operation and technical monitoring of the artistic project. They are also responsible for the stage equipment and technical equipment.\"\n"
   ]
  },
  {
   "cell_type": "code",
   "execution_count": 887,
   "id": "272d934b",
   "metadata": {},
   "outputs": [],
   "source": [
    "# preprocess your job description\n",
    "new_description = preprocessing(describe_your_job)\n",
    "\n",
    "# create inferred vector from your preprocessed job description\n",
    "new_inferred_vector = job2vec_model.infer_vector(new_description)\n",
    "\n",
    "# get similar job descriptions from model\n",
    "similar_to_new = job2vec_model.dv.most_similar([new_inferred_vector])"
   ]
  },
  {
   "cell_type": "code",
   "execution_count": 892,
   "id": "a694d074",
   "metadata": {},
   "outputs": [
    {
     "name": "stdout",
     "output_type": "stream",
     "text": [
      "Test Document (695): «realise artistic visions creators within technical constraints coordinate operations various production units scene wardrobe sound lighting makeup adapt prototype study feasibility implementation operation technical monitoring artistic project also responsible stage equipment technical equipment»\n",
      "\n",
      "LISTING 3 MOST SIMILAR JOB ROLES & DESCRIPTIONS \n",
      "\n",
      "* MOST SIMILAR: optical engineering specialist\n",
      "optical technologist innovation and develop different industrial applications with optics. they have knowledge of light, light contagion principles, and optics in lodge to design engineering specification of equipment such as microscopes, lenses, telescopes, and other optical devices.\n",
      "Similarity score: 89.1 % \n",
      "\n",
      "* 2ND MOST SIMILAR: head of technical department\n",
      "technical conductor realise the artistic visions of the almighty within technical constraints. they coordinate the surgery of various production units, such as scene, wardrobe, sound and lighting, and make-up. they adapt the prototype and study the feasibility, implementation, operation and technical monitoring of the artistic project. they are also responsible for the level equipment and technical equipment.\n",
      "Similarity score: 88.7 % \n",
      "\n",
      "* 3RD MOST SIMILAR: drinks filtration worker\n",
      "drinkable filtration technician operate car that clarify drinkable prior to filtering. for the purpose, they transfer fermented beverages from settling cask into clarifying tank and bedspread chemicals over the airfoil of beverages to aid their clarification. then, they pump beverages to transfer them to filtering tanks.\n",
      "Similarity score: 86.7 % \n",
      "\n"
     ]
    }
   ],
   "source": [
    "print('Test Document ({}): «{}»\\n'.format(doc_id, ' '.join(new_description)))\n",
    "print('LISTING 3 MOST SIMILAR JOB ROLES & DESCRIPTIONS \\n')\n",
    "\n",
    "for label, index in [('* MOST SIMILAR', 0), ('* 2ND MOST SIMILAR', 1), ('* 3RD MOST SIMILAR', 2)]:\n",
    "\n",
    "    \n",
    "    if similar_to_new[index][0] < len(df_occ_n_skills):\n",
    "        new_index = similar_to_new[index][0]\n",
    "    else:\n",
    "        new_index = similar_to_new[index][0] - len(df_occ_n_skills)\n",
    "\n",
    "    print(label + ': ' + df_occ_n_skills.loc[new_index]['job_title'])\n",
    "    print(df_occ_n_skills.loc[new_index]['description'])\n",
    "    print(f'Similarity score: {round(similar_to_new[index][1]*100,1)} % \\n')\n"
   ]
  },
  {
   "cell_type": "code",
   "execution_count": 893,
   "id": "35bc379a",
   "metadata": {},
   "outputs": [
    {
     "data": {
      "text/plain": [
       "[(25592, 0.8907594084739685),\n",
       " (3011, 0.8869021534919739),\n",
       " (55772, 0.8672459125518799),\n",
       " (51641, 0.8640336990356445),\n",
       " (9224, 0.8561446070671082),\n",
       " (60743, 0.853455662727356),\n",
       " (2507, 0.8520980477333069),\n",
       " (40516, 0.8511539101600647),\n",
       " (36425, 0.8503899574279785),\n",
       " (3010, 0.8498825430870056)]"
      ]
     },
     "execution_count": 893,
     "metadata": {},
     "output_type": "execute_result"
    }
   ],
   "source": [
    "similar_to_new"
   ]
  },
  {
   "cell_type": "code",
   "execution_count": null,
   "id": "dc209873",
   "metadata": {},
   "outputs": [],
   "source": []
  }
 ],
 "metadata": {
  "kernelspec": {
   "display_name": "Python 3 (ipykernel)",
   "language": "python",
   "name": "python3"
  },
  "language_info": {
   "codemirror_mode": {
    "name": "ipython",
    "version": 3
   },
   "file_extension": ".py",
   "mimetype": "text/x-python",
   "name": "python",
   "nbconvert_exporter": "python",
   "pygments_lexer": "ipython3",
   "version": "3.8.12"
  },
  "toc": {
   "base_numbering": 1,
   "nav_menu": {},
   "number_sections": true,
   "sideBar": true,
   "skip_h1_title": false,
   "title_cell": "Table of Contents",
   "title_sidebar": "Contents",
   "toc_cell": false,
   "toc_position": {},
   "toc_section_display": true,
   "toc_window_display": false
  }
 },
 "nbformat": 4,
 "nbformat_minor": 5
}
