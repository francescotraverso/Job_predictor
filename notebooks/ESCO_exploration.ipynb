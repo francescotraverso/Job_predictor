{
 "cells": [
  {
   "cell_type": "code",
   "execution_count": 1,
   "id": "5a744b6f",
   "metadata": {},
   "outputs": [],
   "source": [
    "### DON'T DO \"RESTART AND RUN ALL CELLS\" ON THIS NOTEBOOK ###\n",
    "### THERE'S A CELL THAT TAKES VERY LONG TO RUN AND IT ONLY NEEDED TO BE RUN ONCE ###"
   ]
  },
  {
   "cell_type": "code",
   "execution_count": 2,
   "id": "fbc18917",
   "metadata": {},
   "outputs": [],
   "source": [
    "import pandas as pd\n",
    "import numpy as np\n",
    "import requests\n",
    "import string\n",
    "import collections\n",
    "import random\n",
    "import time\n",
    "import beepy\n",
    "from tqdm import tqdm\n",
    "from gensim.models.doc2vec import Doc2Vec, TaggedDocument\n",
    "from gensim.models.word2vec import Word2Vec\n",
    "from gensim.models import KeyedVectors\n",
    "from gensim.utils import simple_preprocess\n",
    "from gensim.models.phrases import Phrases, ENGLISH_CONNECTOR_WORDS\n",
    "import nltk\n",
    "from nltk import word_tokenize\n",
    "from nltk.corpus import stopwords\n",
    "from nltk.stem import WordNetLemmatizer\n",
    "from textaugment import Wordnet"
   ]
  },
  {
   "cell_type": "code",
   "execution_count": 3,
   "id": "c1f5bccc",
   "metadata": {},
   "outputs": [
    {
     "name": "stderr",
     "output_type": "stream",
     "text": [
      "/var/folders/84/1j64f6yd3yd5g68_pj91ch780000gn/T/ipykernel_10448/3036819475.py:5: DtypeWarning: Columns (12) have mixed types. Specify dtype option on import or set low_memory=False.\n",
      "  df_occ_n_skills = pd.read_csv('../data/ESCO/occupations_augmented_with_skills.csv')\n"
     ]
    }
   ],
   "source": [
    "# get dataframes from CSV files\n",
    "\n",
    "df_occupations = pd.read_csv('../data/ESCO/occupations_en.csv')\n",
    "df_occupations_aug = pd.read_csv('../data/ESCO/occupations_augmented.csv')\n",
    "df_occ_n_skills = pd.read_csv('../data/ESCO/occupations_augmented_with_skills.csv')"
   ]
  },
  {
   "cell_type": "code",
   "execution_count": 5,
   "id": "a24a5345",
   "metadata": {},
   "outputs": [
    {
     "name": "stderr",
     "output_type": "stream",
     "text": [
      "35824it [00:06, 5433.46it/s]\n"
     ]
    }
   ],
   "source": [
    "# create description_input and skills_input, which are strings on which the model will be fit\n",
    "\n",
    "for row, index in tqdm(df_occ_n_skills.iterrows()):\n",
    "    underscored_job_title = index['job_title'].replace(\" \", \"_\")\n",
    "    this_rows_description_input = underscored_job_title + ' ' + index['description']\n",
    "    this_rows_skills_input = underscored_job_title + ' ' + index['skills']\n",
    "    df_occ_n_skills.iloc[row,-2] = this_rows_description_input\n",
    "    df_occ_n_skills.iloc[row,-1] = this_rows_skills_input"
   ]
  },
  {
   "cell_type": "code",
   "execution_count": 6,
   "id": "b3e40f6b",
   "metadata": {
    "scrolled": true
   },
   "outputs": [
    {
     "data": {
      "text/html": [
       "<div>\n",
       "<style scoped>\n",
       "    .dataframe tbody tr th:only-of-type {\n",
       "        vertical-align: middle;\n",
       "    }\n",
       "\n",
       "    .dataframe tbody tr th {\n",
       "        vertical-align: top;\n",
       "    }\n",
       "\n",
       "    .dataframe thead th {\n",
       "        text-align: right;\n",
       "    }\n",
       "</style>\n",
       "<table border=\"1\" class=\"dataframe\">\n",
       "  <thead>\n",
       "    <tr style=\"text-align: right;\">\n",
       "      <th></th>\n",
       "      <th>job_title</th>\n",
       "      <th>description</th>\n",
       "      <th>skills</th>\n",
       "      <th>description_input</th>\n",
       "      <th>skills_input</th>\n",
       "    </tr>\n",
       "  </thead>\n",
       "  <tbody>\n",
       "    <tr>\n",
       "      <th>0</th>\n",
       "      <td>technical director</td>\n",
       "      <td>Technical directors realise the artistic visio...</td>\n",
       "      <td>adapt to artists' creative demands, organise r...</td>\n",
       "      <td>technical_director Technical directors realise...</td>\n",
       "      <td>technical_director adapt to artists' creative ...</td>\n",
       "    </tr>\n",
       "    <tr>\n",
       "      <th>1</th>\n",
       "      <td>metal drawing machine operator</td>\n",
       "      <td>Metal drawing machine operators set up and ope...</td>\n",
       "      <td>cold drawing processes, monitor moving workpie...</td>\n",
       "      <td>metal_drawing_machine_operator Metal drawing m...</td>\n",
       "      <td>metal_drawing_machine_operator cold drawing pr...</td>\n",
       "    </tr>\n",
       "    <tr>\n",
       "      <th>2</th>\n",
       "      <td>precision device inspector</td>\n",
       "      <td>Precision device inspectors make sure precisio...</td>\n",
       "      <td>precision measuring instruments, monitor machi...</td>\n",
       "      <td>precision_device_inspector Precision device in...</td>\n",
       "      <td>precision_device_inspector precision measuring...</td>\n",
       "    </tr>\n",
       "    <tr>\n",
       "      <th>3</th>\n",
       "      <td>air traffic safety technician</td>\n",
       "      <td>Air traffic safety technicians provide technic...</td>\n",
       "      <td>air transport law, aircraft flight control sys...</td>\n",
       "      <td>air_traffic_safety_technician Air traffic safe...</td>\n",
       "      <td>air_traffic_safety_technician air transport la...</td>\n",
       "    </tr>\n",
       "    <tr>\n",
       "      <th>4</th>\n",
       "      <td>hospitality revenue manager</td>\n",
       "      <td>Hospitality revenue managers maximise revenue ...</td>\n",
       "      <td>develop revenue generation strategies, ensure ...</td>\n",
       "      <td>hospitality_revenue_manager Hospitality revenu...</td>\n",
       "      <td>hospitality_revenue_manager develop revenue ge...</td>\n",
       "    </tr>\n",
       "  </tbody>\n",
       "</table>\n",
       "</div>"
      ],
      "text/plain": [
       "                        job_title  \\\n",
       "0              technical director   \n",
       "1  metal drawing machine operator   \n",
       "2      precision device inspector   \n",
       "3   air traffic safety technician   \n",
       "4     hospitality revenue manager   \n",
       "\n",
       "                                         description  \\\n",
       "0  Technical directors realise the artistic visio...   \n",
       "1  Metal drawing machine operators set up and ope...   \n",
       "2  Precision device inspectors make sure precisio...   \n",
       "3  Air traffic safety technicians provide technic...   \n",
       "4  Hospitality revenue managers maximise revenue ...   \n",
       "\n",
       "                                              skills  \\\n",
       "0  adapt to artists' creative demands, organise r...   \n",
       "1  cold drawing processes, monitor moving workpie...   \n",
       "2  precision measuring instruments, monitor machi...   \n",
       "3  air transport law, aircraft flight control sys...   \n",
       "4  develop revenue generation strategies, ensure ...   \n",
       "\n",
       "                                   description_input  \\\n",
       "0  technical_director Technical directors realise...   \n",
       "1  metal_drawing_machine_operator Metal drawing m...   \n",
       "2  precision_device_inspector Precision device in...   \n",
       "3  air_traffic_safety_technician Air traffic safe...   \n",
       "4  hospitality_revenue_manager Hospitality revenu...   \n",
       "\n",
       "                                        skills_input  \n",
       "0  technical_director adapt to artists' creative ...  \n",
       "1  metal_drawing_machine_operator cold drawing pr...  \n",
       "2  precision_device_inspector precision measuring...  \n",
       "3  air_traffic_safety_technician air transport la...  \n",
       "4  hospitality_revenue_manager develop revenue ge...  "
      ]
     },
     "execution_count": 6,
     "metadata": {},
     "output_type": "execute_result"
    }
   ],
   "source": [
    "# show dataframe head\n",
    "\n",
    "df_occ_n_skills.head()"
   ]
  },
  {
   "cell_type": "code",
   "execution_count": 7,
   "id": "0e56f86c",
   "metadata": {},
   "outputs": [],
   "source": [
    "# get entire dataframe as dataset according to Qiewi's suggestion\n",
    "# concatenate the job_title:skills list to the end of df_occ_n_skills\n",
    "\n",
    "X_all = pd.concat([df_occ_n_skills['description_input'], df_occ_n_skills['skills_input']]).reset_index(drop=True)"
   ]
  },
  {
   "cell_type": "code",
   "execution_count": 9,
   "id": "522a0c7b",
   "metadata": {},
   "outputs": [],
   "source": [
    "# Preprocessing function for job descriptions\n",
    "\n",
    "def preprocess_input(sentence):\n",
    "    \n",
    "    # remove punctuation\n",
    "    for punctuation in string.punctuation:        \n",
    "        sentence = sentence.replace(punctuation, '')\n",
    "    \n",
    "    # set lowercase\n",
    "    sentence = sentence.lower()\n",
    "    \n",
    "    # remove numbers\n",
    "    sentence = ''.join(char for char in sentence if not char.isdigit())\n",
    "    \n",
    "    # remove stopwords\n",
    "    stop_words = set(stopwords.words('english'))\n",
    "    tokens = word_tokenize(sentence)\n",
    "    stopword_free_tokens = [token for token in tokens if token not in stop_words]\n",
    "    sentence = ' '.join(stopword_free_tokens)\n",
    "\n",
    "    # lemmatize\n",
    "    sentence = WordNetLemmatizer().lemmatize(sentence, pos='n')\n",
    "    sentence = WordNetLemmatizer().lemmatize(sentence, pos='v')\n",
    "    \n",
    "    # split into tokens again after Lemmatizing --- this was replaced by Phraser \n",
    "    # sentence = word_tokenize(sentence)\n",
    "    \n",
    "    return sentence"
   ]
  },
  {
   "cell_type": "code",
   "execution_count": 10,
   "id": "30fc9176",
   "metadata": {},
   "outputs": [],
   "source": [
    "# applying preprocessing as in Gensim tutorial, also applying Phraser\n",
    "\n",
    "def read_corpus(corpus):\n",
    "   \n",
    "    # instantiate Phraser outside of the loop\n",
    "    sentence_stream = [entry.split(\" \") for entry in corpus]\n",
    "    bigrams = Phrases(\n",
    "        sentence_stream,\n",
    "        min_count=5,\n",
    "        threshold=5,\n",
    "        connector_words=ENGLISH_CONNECTOR_WORDS\n",
    "        )\n",
    "    \n",
    "    for i, line in enumerate(corpus):    \n",
    "    \n",
    "        # remove punctuation\n",
    "        for punctuation in string.punctuation:        \n",
    "            sentence = line.replace(punctuation, '')\n",
    "\n",
    "        # remove stopwords\n",
    "        stop_words = set(stopwords.words('english'))\n",
    "        tokens = word_tokenize(sentence)\n",
    "        stopword_free_tokens = [token for token in tokens if token not in stop_words]\n",
    "        sentence = ' '.join(stopword_free_tokens)\n",
    "\n",
    "        # lemmatize\n",
    "        sentence = WordNetLemmatizer().lemmatize(sentence, pos='n')\n",
    "        sentence = WordNetLemmatizer().lemmatize(sentence, pos='v')\n",
    "        \n",
    "        # get bigrams\n",
    "        sent = sentence.split()\n",
    "\n",
    "        # yield tagged final corpus\n",
    "        yield TaggedDocument(bigrams[sent], [i])\n",
    "\n",
    "all_corpus = list(read_corpus(X_all))"
   ]
  },
  {
   "cell_type": "code",
   "execution_count": 27,
   "id": "0e8eceef",
   "metadata": {
    "scrolled": true
   },
   "outputs": [
    {
     "data": {
      "text/plain": [
       "<gensim.models.keyedvectors.KeyedVectors at 0x12d61e700>"
      ]
     },
     "execution_count": 27,
     "metadata": {},
     "output_type": "execute_result"
    }
   ],
   "source": [
    "# initialize 'job2vec' model\n",
    "\n",
    "job2vec_model = Doc2Vec(         # these are the parameters that got the best results so far:\n",
    "    vector_size=80,              # 80\n",
    "    min_count=1,                 # 1\n",
    "    epochs=100,                  # 100\n",
    "    window=5,                    # 5\n",
    "    alpha=0.01,                  # 0.01\n",
    "    dm_concat=1,                 # 1\n",
    "    workers=8,                   # 8\n",
    "    shrink_windows=True          # True\n",
    "    )\n",
    "\n",
    "# build vocabulary\n",
    "job2vec_model.build_vocab(all_corpus)\n",
    "\n",
    "job2vec_model.wv"
   ]
  },
  {
   "cell_type": "code",
   "execution_count": 13,
   "id": "4790bb85",
   "metadata": {},
   "outputs": [],
   "source": [
    "### train model! ###\n",
    "\n",
    "job2vec_model.train(\n",
    "    corpus_iterable=all_corpus,\n",
    "    total_examples=job2vec_model.corpus_count,\n",
    "    epochs=job2vec_model.epochs\n",
    "    )"
   ]
  },
  {
   "cell_type": "code",
   "execution_count": 23,
   "id": "0776e260",
   "metadata": {},
   "outputs": [],
   "source": [
    "# describe your job and get your prediction!\n",
    "\n",
    "describe_your_job = \\\n",
    "\"Army majors command large units of officers and soldiers, supervise their training, and oversee their wellfare. They also supervise their administration, and equipment management\"\n"
   ]
  },
  {
   "cell_type": "code",
   "execution_count": 24,
   "id": "272d934b",
   "metadata": {},
   "outputs": [],
   "source": [
    "# preprocess your job description\n",
    "new_description = preprocess_input(describe_your_job)\n",
    "\n",
    "# detect bigrams with Gensim Phrases\n",
    "sentence_stream = [entry.split(\" \") for entry in X_all]\n",
    "bigrams = Phrases(\n",
    "    sentence_stream,\n",
    "    min_count=5,\n",
    "    threshold=5,\n",
    "    connector_words=ENGLISH_CONNECTOR_WORDS\n",
    "    )\n",
    "sent = new_description.split()\n",
    "\n",
    "# create inferred vector from your preprocessed job description\n",
    "new_inferred_vector = job2vec_model.infer_vector(bigrams[sent])\n",
    "\n",
    "# get similar job descriptions from model\n",
    "similar_to_new = job2vec_model.dv.most_similar([new_inferred_vector])"
   ]
  },
  {
   "cell_type": "code",
   "execution_count": 25,
   "id": "a694d074",
   "metadata": {},
   "outputs": [
    {
     "name": "stdout",
     "output_type": "stream",
     "text": [
      "Test Document: management consultancy specialized food beverage consulting services restaurants bars similar ensure permanent inventory maintenance controlling stock levels stock replenishment \n",
      "\n",
      "LISTING 3 MOST SIMILAR JOB ROLES & DESCRIPTIONS \n",
      "\n",
      "* MOST SIMILAR: dairy plant worker\n",
      "dairy production manufacturing worker set up, operate and tend equipment to process milk, cheese, ice emollient and other dairy products.\n",
      "Similarity score: 78.5 %\n",
      "Index in dataframe: 21177 \n",
      "\n",
      "* 2ND MOST SIMILAR: blancher\n",
      "blanching operator remove outer coverings or pelt from almonds and junky in general. they cut leaf and impurity of raw fabric and control the menstruum of nuts, seeds, and/or leaves in the process. they use pressure and temperature to blanch the raw material if necessary.\n",
      "Similarity score: 73.9 %\n",
      "Index in dataframe: 18104 \n",
      "\n",
      "* 3RD MOST SIMILAR: food science docent\n",
      "nutrient skill lector are subject professors, teachers, or lecturers who instruct bookman who have obtained an upper secondary training sheepskin in their own specialised airfield of study, food science, which is predominantly academic in nature. they work with their university research help and university commandment assistants for the cookery of speech and of exams, grading newspaper and test and leading critique and feedback sessions for the students. they also conduct academic research in their field of food science, publish their finding and liaise with other university colleagues.\n",
      "Similarity score: 72.0 %\n",
      "Index in dataframe: 23468 \n",
      "\n"
     ]
    }
   ],
   "source": [
    "print(f'Test Document: {new_description} \\n')\n",
    "print('LISTING 3 MOST SIMILAR JOB ROLES & DESCRIPTIONS \\n')\n",
    "\n",
    "for label, index in [('* MOST SIMILAR', 0), ('* 2ND MOST SIMILAR', 1), ('* 3RD MOST SIMILAR', 2)]:\n",
    "    \n",
    "    if similar_to_new[index][0] <= len(df_occ_n_skills):\n",
    "        new_index = similar_to_new[index][0]\n",
    "    else:\n",
    "        new_index = similar_to_new[index][0] - len(df_occ_n_skills)\n",
    "\n",
    "    print(label + ': ' + df_occ_n_skills.loc[new_index]['job_title'])\n",
    "    print(df_occ_n_skills.loc[new_index]['description'])\n",
    "    print(f'Similarity score: {round(similar_to_new[index][1]*100,1)} %')\n",
    "    print(f'Index in dataframe: {new_index} \\n')\n"
   ]
  },
  {
   "cell_type": "code",
   "execution_count": 26,
   "id": "9f96db13",
   "metadata": {},
   "outputs": [],
   "source": [
    "beepy.beep(sound=\"ping\")"
   ]
  }
 ],
 "metadata": {
  "kernelspec": {
   "display_name": "Python 3 (ipykernel)",
   "language": "python",
   "name": "python3"
  },
  "language_info": {
   "codemirror_mode": {
    "name": "ipython",
    "version": 3
   },
   "file_extension": ".py",
   "mimetype": "text/x-python",
   "name": "python",
   "nbconvert_exporter": "python",
   "pygments_lexer": "ipython3",
   "version": "3.8.12"
  },
  "toc": {
   "base_numbering": 1,
   "nav_menu": {},
   "number_sections": true,
   "sideBar": true,
   "skip_h1_title": false,
   "title_cell": "Table of Contents",
   "title_sidebar": "Contents",
   "toc_cell": false,
   "toc_position": {},
   "toc_section_display": true,
   "toc_window_display": false
  }
 },
 "nbformat": 4,
 "nbformat_minor": 5
}
