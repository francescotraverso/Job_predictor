{
 "cells": [
  {
   "cell_type": "code",
   "execution_count": 40,
   "id": "fbc18917",
   "metadata": {},
   "outputs": [],
   "source": [
    "import pandas as pd\n",
    "import numpy as np\n",
    "import requests\n",
    "import string\n",
    "from gensim.models.doc2vec import Doc2Vec, TaggedDocument\n",
    "from nltk import word_tokenize\n",
    "from nltk.corpus import stopwords\n",
    "from nltk.stem import WordNetLemmatizer\n",
    "from sklearn.model_selection import train_test_split"
   ]
  },
  {
   "cell_type": "code",
   "execution_count": 13,
   "id": "c1f5bccc",
   "metadata": {},
   "outputs": [],
   "source": [
    "df_occupations = pd.read_csv('../data/ESCO/occupations_en.csv')"
   ]
  },
  {
   "cell_type": "code",
   "execution_count": 11,
   "id": "702d368a",
   "metadata": {},
   "outputs": [],
   "source": [
    "# search for all jobs that have 'manager' in their title  --- IGNORE this cell for now\n",
    "url_title = \"https://ec.europa.eu/esco/api/search\"\n",
    "\n",
    "params = {\n",
    "    'language': 'en',\n",
    "    'type': 'occupation',\n",
    "    'text': 'pig'\n",
    "         }\n",
    "\n",
    "api_title = requests.get(url=url_title, params=params).json()"
   ]
  },
  {
   "cell_type": "code",
   "execution_count": 12,
   "id": "4bec560f",
   "metadata": {},
   "outputs": [],
   "source": [
    "# select a role\n",
    "role = 'cattle breeder'"
   ]
  },
  {
   "cell_type": "code",
   "execution_count": 14,
   "id": "5223109b",
   "metadata": {},
   "outputs": [
    {
     "name": "stdout",
     "output_type": "stream",
     "text": [
      "***** SKILL LIST: ['maintain animal accommodation', 'create animal records', 'livestock species', 'manage animal hygiene', 'signs of animal illness', 'care for juvenile animals', 'provide nutrition to animals', 'manage cattle breeding', 'monitor livestock', 'administer treatment to animals', 'livestock reproduction', 'perform milk control', 'manage livestock', 'dispose of dead animals', 'select livestock', 'feed livestock', 'manage animal biosecurity', 'assist animal birth', 'maintain professional records', 'operate farm equipment', 'monitor the welfare of animals', 'assist in transportation of animals', 'milk animals', 'animal welfare legislation', 'manage the health and welfare of livestock', 'control animal movement', 'administer specific drugs to facilitate breeding', 'animal nutrition', 'provide first aid to animals', 'health and safety regulations']\n",
      "***** ALTERNATIVE LABELS: ['cattle specialist', 'cattle breeders', 'cattle rearer']\n",
      "***** JOB DESCRIPTION: Cattle breeders oversee the production and day-to-day care of cattle. They maintain the health and welfare of cattle.\n"
     ]
    }
   ],
   "source": [
    "### run this cell & extract skills, alternative labels, and job description from the ESCO API ###\n",
    "\n",
    "# get uri for selected role\n",
    "role_extract = df_occupations[df_occupations['preferredLabel'] == role]\n",
    "role_uri = role_extract['conceptUri']\n",
    "\n",
    "# get role information from the ESCO API\n",
    "url = \"https://ec.europa.eu/esco/api/resource/skill\"\n",
    "params = {\n",
    "    'uri': role_uri,\n",
    "    'language': 'en',\n",
    "         }\n",
    "api_skills = requests.get(url=url, params=params).json()\n",
    "\n",
    "# this line gets you the whole API url; easier to read on your browser\n",
    "requests.get(url=url, params=params).url\n",
    "\n",
    "# gets a list of all skill descriptions and extracts the skill title only\n",
    "api_skills_dict = api_skills.get('_links').get('hasEssentialSkill')\n",
    "skills_list = [skill.get('title') for skill in api_skills_dict]\n",
    "\n",
    "# gets list of alternative labels from the API\n",
    "alt_labels_list = api_skills.get('alternativeLabel').get('en')\n",
    "\n",
    "# gets job description from the API\n",
    "job_description = api_skills.get('description').get('en').get('literal')\n",
    "\n",
    "print('***** SKILL LIST:', skills_list)\n",
    "print('***** ALTERNATIVE LABELS:', alt_labels_list)\n",
    "print('***** JOB DESCRIPTION:', job_description)"
   ]
  },
  {
   "cell_type": "code",
   "execution_count": 15,
   "id": "522a0c7b",
   "metadata": {},
   "outputs": [],
   "source": [
    "# Preprocessing of job descriptions\n",
    "\n",
    "def preprocessing(sentence):\n",
    "    \n",
    "    # remove punctuation\n",
    "    for punctuation in string.punctuation:        \n",
    "        sentence = sentence.replace(punctuation, '')\n",
    "    \n",
    "    # set lowercase\n",
    "    sentence = sentence.lower()\n",
    "    \n",
    "    # remove numbers\n",
    "    sentence = ''.join(char for char in sentence if not char.isdigit())\n",
    "    \n",
    "    # remove stopwords\n",
    "    stop_words = set(stopwords.words('english'))\n",
    "    tokens = word_tokenize(sentence)\n",
    "    stopword_free_tokens = [token for token in tokens if token not in stop_words]\n",
    "    sentence = ' '.join(stopword_free_tokens)\n",
    "\n",
    "    # lemmatize\n",
    "    sentence = WordNetLemmatizer().lemmatize(sentence, pos='n')\n",
    "    sentence = WordNetLemmatizer().lemmatize(sentence, pos='v')\n",
    "    \n",
    "    return sentence"
   ]
  },
  {
   "cell_type": "code",
   "execution_count": 16,
   "id": "547521ca",
   "metadata": {},
   "outputs": [
    {
     "name": "stdout",
     "output_type": "stream",
     "text": [
      "cattle breeders oversee production daytoday care cattle maintain health welfare cattle\n"
     ]
    }
   ],
   "source": [
    "print(preprocessing(job_description))"
   ]
  },
  {
   "cell_type": "code",
   "execution_count": 17,
   "id": "aa1cf346",
   "metadata": {},
   "outputs": [
    {
     "data": {
      "text/html": [
       "<div>\n",
       "<style scoped>\n",
       "    .dataframe tbody tr th:only-of-type {\n",
       "        vertical-align: middle;\n",
       "    }\n",
       "\n",
       "    .dataframe tbody tr th {\n",
       "        vertical-align: top;\n",
       "    }\n",
       "\n",
       "    .dataframe thead th {\n",
       "        text-align: right;\n",
       "    }\n",
       "</style>\n",
       "<table border=\"1\" class=\"dataframe\">\n",
       "  <thead>\n",
       "    <tr style=\"text-align: right;\">\n",
       "      <th></th>\n",
       "      <th>conceptType</th>\n",
       "      <th>conceptUri</th>\n",
       "      <th>iscoGroup</th>\n",
       "      <th>preferredLabel</th>\n",
       "      <th>altLabels</th>\n",
       "      <th>hiddenLabels</th>\n",
       "      <th>status</th>\n",
       "      <th>modifiedDate</th>\n",
       "      <th>regulatedProfessionNote</th>\n",
       "      <th>scopeNote</th>\n",
       "      <th>definition</th>\n",
       "      <th>inScheme</th>\n",
       "      <th>description</th>\n",
       "      <th>code</th>\n",
       "    </tr>\n",
       "  </thead>\n",
       "  <tbody>\n",
       "    <tr>\n",
       "      <th>0</th>\n",
       "      <td>Occupation</td>\n",
       "      <td>http://data.europa.eu/esco/occupation/00030d09...</td>\n",
       "      <td>2654</td>\n",
       "      <td>technical director</td>\n",
       "      <td>technical and operations director\\nhead of tec...</td>\n",
       "      <td>NaN</td>\n",
       "      <td>released</td>\n",
       "      <td>2016-07-05T13:58:41Z</td>\n",
       "      <td>http://data.europa.eu/esco/regulated-professio...</td>\n",
       "      <td>NaN</td>\n",
       "      <td>NaN</td>\n",
       "      <td>http://data.europa.eu/esco/concept-scheme/occu...</td>\n",
       "      <td>Technical directors realise the artistic visio...</td>\n",
       "      <td>2654.1.7</td>\n",
       "    </tr>\n",
       "    <tr>\n",
       "      <th>1</th>\n",
       "      <td>Occupation</td>\n",
       "      <td>http://data.europa.eu/esco/occupation/000e93a3...</td>\n",
       "      <td>8121</td>\n",
       "      <td>metal drawing machine operator</td>\n",
       "      <td>metal drawing machine operator\\nmetal drawing ...</td>\n",
       "      <td>NaN</td>\n",
       "      <td>released</td>\n",
       "      <td>2016-07-05T17:09:43Z</td>\n",
       "      <td>http://data.europa.eu/esco/regulated-professio...</td>\n",
       "      <td>NaN</td>\n",
       "      <td>NaN</td>\n",
       "      <td>http://data.europa.eu/esco/concept-scheme/memb...</td>\n",
       "      <td>Metal drawing machine operators set up and ope...</td>\n",
       "      <td>8121.4</td>\n",
       "    </tr>\n",
       "    <tr>\n",
       "      <th>2</th>\n",
       "      <td>Occupation</td>\n",
       "      <td>http://data.europa.eu/esco/occupation/0019b951...</td>\n",
       "      <td>7543</td>\n",
       "      <td>precision device inspector</td>\n",
       "      <td>inspector of precision instruments\\nprecision ...</td>\n",
       "      <td>NaN</td>\n",
       "      <td>released</td>\n",
       "      <td>2016-07-06T09:21:20Z</td>\n",
       "      <td>http://data.europa.eu/esco/regulated-professio...</td>\n",
       "      <td>NaN</td>\n",
       "      <td>NaN</td>\n",
       "      <td>http://data.europa.eu/esco/concept-scheme/occu...</td>\n",
       "      <td>Precision device inspectors make sure precisio...</td>\n",
       "      <td>7543.10.3</td>\n",
       "    </tr>\n",
       "    <tr>\n",
       "      <th>3</th>\n",
       "      <td>Occupation</td>\n",
       "      <td>http://data.europa.eu/esco/occupation/0022f466...</td>\n",
       "      <td>3155</td>\n",
       "      <td>air traffic safety technician</td>\n",
       "      <td>air traffic safety electronics hardware specia...</td>\n",
       "      <td>NaN</td>\n",
       "      <td>released</td>\n",
       "      <td>2017-01-17T11:40:37Z</td>\n",
       "      <td>http://data.europa.eu/esco/regulated-professio...</td>\n",
       "      <td>NaN</td>\n",
       "      <td>NaN</td>\n",
       "      <td>http://data.europa.eu/esco/concept-scheme/memb...</td>\n",
       "      <td>Air traffic safety technicians provide technic...</td>\n",
       "      <td>3155.1</td>\n",
       "    </tr>\n",
       "    <tr>\n",
       "      <th>4</th>\n",
       "      <td>Occupation</td>\n",
       "      <td>http://data.europa.eu/esco/occupation/002da35b...</td>\n",
       "      <td>2431</td>\n",
       "      <td>hospitality revenue manager</td>\n",
       "      <td>hospitality revenues manager\\nyield manager\\nh...</td>\n",
       "      <td>NaN</td>\n",
       "      <td>released</td>\n",
       "      <td>2017-01-17T13:33:42Z</td>\n",
       "      <td>http://data.europa.eu/esco/regulated-professio...</td>\n",
       "      <td>NaN</td>\n",
       "      <td>NaN</td>\n",
       "      <td>http://data.europa.eu/esco/concept-scheme/memb...</td>\n",
       "      <td>Hospitality revenue managers maximise revenue ...</td>\n",
       "      <td>2431.9</td>\n",
       "    </tr>\n",
       "  </tbody>\n",
       "</table>\n",
       "</div>"
      ],
      "text/plain": [
       "  conceptType                                         conceptUri  iscoGroup  \\\n",
       "0  Occupation  http://data.europa.eu/esco/occupation/00030d09...       2654   \n",
       "1  Occupation  http://data.europa.eu/esco/occupation/000e93a3...       8121   \n",
       "2  Occupation  http://data.europa.eu/esco/occupation/0019b951...       7543   \n",
       "3  Occupation  http://data.europa.eu/esco/occupation/0022f466...       3155   \n",
       "4  Occupation  http://data.europa.eu/esco/occupation/002da35b...       2431   \n",
       "\n",
       "                   preferredLabel  \\\n",
       "0              technical director   \n",
       "1  metal drawing machine operator   \n",
       "2      precision device inspector   \n",
       "3   air traffic safety technician   \n",
       "4     hospitality revenue manager   \n",
       "\n",
       "                                           altLabels hiddenLabels    status  \\\n",
       "0  technical and operations director\\nhead of tec...          NaN  released   \n",
       "1  metal drawing machine operator\\nmetal drawing ...          NaN  released   \n",
       "2  inspector of precision instruments\\nprecision ...          NaN  released   \n",
       "3  air traffic safety electronics hardware specia...          NaN  released   \n",
       "4  hospitality revenues manager\\nyield manager\\nh...          NaN  released   \n",
       "\n",
       "           modifiedDate                            regulatedProfessionNote  \\\n",
       "0  2016-07-05T13:58:41Z  http://data.europa.eu/esco/regulated-professio...   \n",
       "1  2016-07-05T17:09:43Z  http://data.europa.eu/esco/regulated-professio...   \n",
       "2  2016-07-06T09:21:20Z  http://data.europa.eu/esco/regulated-professio...   \n",
       "3  2017-01-17T11:40:37Z  http://data.europa.eu/esco/regulated-professio...   \n",
       "4  2017-01-17T13:33:42Z  http://data.europa.eu/esco/regulated-professio...   \n",
       "\n",
       "  scopeNote definition                                           inScheme  \\\n",
       "0       NaN        NaN  http://data.europa.eu/esco/concept-scheme/occu...   \n",
       "1       NaN        NaN  http://data.europa.eu/esco/concept-scheme/memb...   \n",
       "2       NaN        NaN  http://data.europa.eu/esco/concept-scheme/occu...   \n",
       "3       NaN        NaN  http://data.europa.eu/esco/concept-scheme/memb...   \n",
       "4       NaN        NaN  http://data.europa.eu/esco/concept-scheme/memb...   \n",
       "\n",
       "                                         description       code  \n",
       "0  Technical directors realise the artistic visio...   2654.1.7  \n",
       "1  Metal drawing machine operators set up and ope...     8121.4  \n",
       "2  Precision device inspectors make sure precisio...  7543.10.3  \n",
       "3  Air traffic safety technicians provide technic...     3155.1  \n",
       "4  Hospitality revenue managers maximise revenue ...     2431.9  "
      ]
     },
     "execution_count": 17,
     "metadata": {},
     "output_type": "execute_result"
    }
   ],
   "source": [
    "df_occupations.head()"
   ]
  },
  {
   "cell_type": "code",
   "execution_count": 53,
   "id": "eb182f94",
   "metadata": {},
   "outputs": [],
   "source": [
    "# get an training set with 2500 out of the whole 3006 rows and preprocess every description in it\n",
    "\n",
    "X_train = df_occupations['description'][0:2500]\n",
    "X_test = df_occupations['description'][2500:3006]\n",
    "X_train_proc = [preprocessing(description) for description in X_train]\n",
    "X_test_proc = [preprocessing(description) for description in X_test]"
   ]
  },
  {
   "cell_type": "code",
   "execution_count": 83,
   "id": "ca5898fa",
   "metadata": {},
   "outputs": [
    {
     "data": {
      "text/plain": [
       "<gensim.models.keyedvectors.KeyedVectors at 0x12e6837f0>"
      ]
     },
     "execution_count": 83,
     "metadata": {},
     "output_type": "execute_result"
    }
   ],
   "source": [
    "# initialize 'job2vec' model\n",
    "\n",
    "training_processed_descriptions = [TaggedDocument(doc, [i]) for i, doc in enumerate(X_train_proc)]\n",
    "job2vec_model = Doc2Vec(training_processed_descriptions, vector_size=50, min_count=2, epochs=40)\n",
    "\n",
    "job2vec_model.wv"
   ]
  },
  {
   "cell_type": "code",
   "execution_count": 84,
   "id": "892aead2",
   "metadata": {},
   "outputs": [],
   "source": [
    "# build a vocabulary\n",
    "job_vocab = job2vec_model.build_vocab(training_processed_descriptions)"
   ]
  },
  {
   "cell_type": "code",
   "execution_count": 87,
   "id": "43361599",
   "metadata": {},
   "outputs": [
    {
     "name": "stdout",
     "output_type": "stream",
     "text": [
      "None\n"
     ]
    }
   ],
   "source": [
    "print(job_vocab)"
   ]
  },
  {
   "cell_type": "code",
   "execution_count": 95,
   "id": "77c16e67",
   "metadata": {},
   "outputs": [],
   "source": [
    "# testing_processed_descriptions = [TaggedDocument(doc, [i]) for i, doc in enumerate(X_test_proc)]\n",
    "inferred_vector = job2vec_model.infer_vector(X_test_proc)"
   ]
  },
  {
   "cell_type": "code",
   "execution_count": 96,
   "id": "daaecfc3",
   "metadata": {},
   "outputs": [
    {
     "data": {
      "text/plain": [
       "array([ 1.3377309e-04, -1.6938985e-03,  5.7178629e-03, -2.7272559e-03,\n",
       "        9.5359323e-04, -5.4032924e-03,  4.1357218e-03,  5.2609490e-03,\n",
       "       -6.5364421e-04,  4.8915972e-03,  2.7635919e-03,  3.0959880e-03,\n",
       "        5.3244974e-03,  1.3804602e-03,  8.3545269e-03, -3.7680744e-04,\n",
       "        4.5233085e-03, -8.9936340e-03, -2.0811516e-03,  3.2573044e-03,\n",
       "       -3.0347181e-03, -1.5728968e-03,  5.3128316e-03,  5.2512479e-03,\n",
       "        5.2782441e-03,  5.4466045e-03, -8.7963464e-04,  7.3031960e-03,\n",
       "       -5.6774314e-03, -2.4575549e-03,  8.5622827e-03,  3.1659734e-03,\n",
       "       -9.7021721e-03,  8.4357886e-03,  4.3836534e-03, -5.7347380e-03,\n",
       "        8.5078552e-03,  7.4873162e-03, -5.3934343e-03,  5.5024622e-04,\n",
       "        2.2116899e-05,  1.8674410e-03,  8.0494955e-03, -2.5348843e-04,\n",
       "       -9.8389536e-03, -8.6924015e-04, -3.0226065e-03, -3.1232948e-03,\n",
       "       -8.7056132e-03, -6.8409299e-03], dtype=float32)"
      ]
     },
     "execution_count": 96,
     "metadata": {},
     "output_type": "execute_result"
    }
   ],
   "source": [
    "inferred_vector"
   ]
  },
  {
   "cell_type": "code",
   "execution_count": null,
   "id": "33aca3b6",
   "metadata": {},
   "outputs": [],
   "source": []
  }
 ],
 "metadata": {
  "kernelspec": {
   "display_name": "Python 3 (ipykernel)",
   "language": "python",
   "name": "python3"
  },
  "language_info": {
   "codemirror_mode": {
    "name": "ipython",
    "version": 3
   },
   "file_extension": ".py",
   "mimetype": "text/x-python",
   "name": "python",
   "nbconvert_exporter": "python",
   "pygments_lexer": "ipython3",
   "version": "3.8.12"
  },
  "toc": {
   "base_numbering": 1,
   "nav_menu": {},
   "number_sections": true,
   "sideBar": true,
   "skip_h1_title": false,
   "title_cell": "Table of Contents",
   "title_sidebar": "Contents",
   "toc_cell": false,
   "toc_position": {},
   "toc_section_display": true,
   "toc_window_display": false
  }
 },
 "nbformat": 4,
 "nbformat_minor": 5
}
