{
 "cells": [
  {
   "cell_type": "code",
   "execution_count": 23,
   "id": "f20df808",
   "metadata": {},
   "outputs": [],
   "source": [
    "from tqdm import tqdm"
   ]
  },
  {
   "cell_type": "code",
   "execution_count": 1,
   "id": "edd117fc",
   "metadata": {},
   "outputs": [],
   "source": [
    "import pandas as pd\n",
    "import os\n",
    "import re\n",
    "import requests\n",
    "from  gensim.models.doc2vec import Doc2Vec, TaggedDocument\n",
    "from nltk import word_tokenize\n",
    "from nltk.corpus import stopwords\n",
    "from nltk.stem import WordNetLemmatizer\n",
    "from sklearn.model_selection import train_test_split\n",
    "import string"
   ]
  },
  {
   "cell_type": "code",
   "execution_count": 2,
   "id": "d70d4149",
   "metadata": {},
   "outputs": [
    {
     "name": "stdout",
     "output_type": "stream",
     "text": [
      "../data/ESCO/occupations_en.csv\r\n"
     ]
    }
   ],
   "source": [
    "!ls ../data/ESCO/occupations_en.csv"
   ]
  },
  {
   "cell_type": "code",
   "execution_count": 3,
   "id": "39e7fde6",
   "metadata": {},
   "outputs": [
    {
     "name": "stdout",
     "output_type": "stream",
     "text": [
      "/home/ftraverso/code/francescotraverso/job_predictor/notebooks\r\n"
     ]
    }
   ],
   "source": [
    "!pwd"
   ]
  },
  {
   "cell_type": "code",
   "execution_count": 4,
   "id": "692774bd",
   "metadata": {},
   "outputs": [],
   "source": [
    "df = pd.read_csv('../data/ESCO/occupations_en.csv')"
   ]
  },
  {
   "cell_type": "code",
   "execution_count": 5,
   "id": "95aeee33",
   "metadata": {},
   "outputs": [],
   "source": [
    "df_only_JT = df.drop(columns=['conceptType', 'conceptUri', 'iscoGroup', 'status', 'modifiedDate', 'regulatedProfessionNote',\n",
    "       'scopeNote', 'definition', 'inScheme','hiddenLabels'])"
   ]
  },
  {
   "cell_type": "code",
   "execution_count": 6,
   "id": "08afcf4e",
   "metadata": {
    "scrolled": true
   },
   "outputs": [
    {
     "data": {
      "text/html": [
       "<div>\n",
       "<style scoped>\n",
       "    .dataframe tbody tr th:only-of-type {\n",
       "        vertical-align: middle;\n",
       "    }\n",
       "\n",
       "    .dataframe tbody tr th {\n",
       "        vertical-align: top;\n",
       "    }\n",
       "\n",
       "    .dataframe thead th {\n",
       "        text-align: right;\n",
       "    }\n",
       "</style>\n",
       "<table border=\"1\" class=\"dataframe\">\n",
       "  <thead>\n",
       "    <tr style=\"text-align: right;\">\n",
       "      <th></th>\n",
       "      <th>preferredLabel</th>\n",
       "      <th>altLabels</th>\n",
       "      <th>description</th>\n",
       "      <th>code</th>\n",
       "    </tr>\n",
       "  </thead>\n",
       "  <tbody>\n",
       "    <tr>\n",
       "      <th>0</th>\n",
       "      <td>technical director</td>\n",
       "      <td>technical and operations director\\nhead of tec...</td>\n",
       "      <td>Technical directors realise the artistic visio...</td>\n",
       "      <td>2654.1.7</td>\n",
       "    </tr>\n",
       "    <tr>\n",
       "      <th>1</th>\n",
       "      <td>metal drawing machine operator</td>\n",
       "      <td>metal drawing machine operator\\nmetal drawing ...</td>\n",
       "      <td>Metal drawing machine operators set up and ope...</td>\n",
       "      <td>8121.4</td>\n",
       "    </tr>\n",
       "    <tr>\n",
       "      <th>2</th>\n",
       "      <td>precision device inspector</td>\n",
       "      <td>inspector of precision instruments\\nprecision ...</td>\n",
       "      <td>Precision device inspectors make sure precisio...</td>\n",
       "      <td>7543.10.3</td>\n",
       "    </tr>\n",
       "    <tr>\n",
       "      <th>3</th>\n",
       "      <td>air traffic safety technician</td>\n",
       "      <td>air traffic safety electronics hardware specia...</td>\n",
       "      <td>Air traffic safety technicians provide technic...</td>\n",
       "      <td>3155.1</td>\n",
       "    </tr>\n",
       "    <tr>\n",
       "      <th>4</th>\n",
       "      <td>hospitality revenue manager</td>\n",
       "      <td>hospitality revenues manager\\nyield manager\\nh...</td>\n",
       "      <td>Hospitality revenue managers maximise revenue ...</td>\n",
       "      <td>2431.9</td>\n",
       "    </tr>\n",
       "    <tr>\n",
       "      <th>...</th>\n",
       "      <td>...</td>\n",
       "      <td>...</td>\n",
       "      <td>...</td>\n",
       "      <td>...</td>\n",
       "    </tr>\n",
       "    <tr>\n",
       "      <th>3003</th>\n",
       "      <td>demographer</td>\n",
       "      <td>demography research analyst\\ndemography studie...</td>\n",
       "      <td>Demographers study a variety of parameters rel...</td>\n",
       "      <td>2120.2</td>\n",
       "    </tr>\n",
       "    <tr>\n",
       "      <th>3004</th>\n",
       "      <td>sorter labourer</td>\n",
       "      <td>sorter laborer\\ngrader\\nyard labourer\\nrecycle...</td>\n",
       "      <td>Sorter labourers sort recyclable materials and...</td>\n",
       "      <td>9612.2</td>\n",
       "    </tr>\n",
       "    <tr>\n",
       "      <th>3005</th>\n",
       "      <td>armoured car guard</td>\n",
       "      <td>armoured truck escort\\ntruck escort\\narmored c...</td>\n",
       "      <td>Armoured car guards ensure the safe transporta...</td>\n",
       "      <td>5414.1.2</td>\n",
       "    </tr>\n",
       "    <tr>\n",
       "      <th>3006</th>\n",
       "      <td>civil service administrative officer</td>\n",
       "      <td>government administrative officer\\ncivil servi...</td>\n",
       "      <td>Civil service administrative officers perform ...</td>\n",
       "      <td>2422.1</td>\n",
       "    </tr>\n",
       "    <tr>\n",
       "      <th>3007</th>\n",
       "      <td>motor vehicle assembler</td>\n",
       "      <td>automobile assembler\\nmotor vehicle assembler\\...</td>\n",
       "      <td>Motor vehicle assemblers install and put prefa...</td>\n",
       "      <td>8211.5</td>\n",
       "    </tr>\n",
       "  </tbody>\n",
       "</table>\n",
       "<p>3008 rows × 4 columns</p>\n",
       "</div>"
      ],
      "text/plain": [
       "                            preferredLabel  \\\n",
       "0                       technical director   \n",
       "1           metal drawing machine operator   \n",
       "2               precision device inspector   \n",
       "3            air traffic safety technician   \n",
       "4              hospitality revenue manager   \n",
       "...                                    ...   \n",
       "3003                           demographer   \n",
       "3004                       sorter labourer   \n",
       "3005                    armoured car guard   \n",
       "3006  civil service administrative officer   \n",
       "3007               motor vehicle assembler   \n",
       "\n",
       "                                              altLabels  \\\n",
       "0     technical and operations director\\nhead of tec...   \n",
       "1     metal drawing machine operator\\nmetal drawing ...   \n",
       "2     inspector of precision instruments\\nprecision ...   \n",
       "3     air traffic safety electronics hardware specia...   \n",
       "4     hospitality revenues manager\\nyield manager\\nh...   \n",
       "...                                                 ...   \n",
       "3003  demography research analyst\\ndemography studie...   \n",
       "3004  sorter laborer\\ngrader\\nyard labourer\\nrecycle...   \n",
       "3005  armoured truck escort\\ntruck escort\\narmored c...   \n",
       "3006  government administrative officer\\ncivil servi...   \n",
       "3007  automobile assembler\\nmotor vehicle assembler\\...   \n",
       "\n",
       "                                            description       code  \n",
       "0     Technical directors realise the artistic visio...   2654.1.7  \n",
       "1     Metal drawing machine operators set up and ope...     8121.4  \n",
       "2     Precision device inspectors make sure precisio...  7543.10.3  \n",
       "3     Air traffic safety technicians provide technic...     3155.1  \n",
       "4     Hospitality revenue managers maximise revenue ...     2431.9  \n",
       "...                                                 ...        ...  \n",
       "3003  Demographers study a variety of parameters rel...     2120.2  \n",
       "3004  Sorter labourers sort recyclable materials and...     9612.2  \n",
       "3005  Armoured car guards ensure the safe transporta...   5414.1.2  \n",
       "3006  Civil service administrative officers perform ...     2422.1  \n",
       "3007  Motor vehicle assemblers install and put prefa...     8211.5  \n",
       "\n",
       "[3008 rows x 4 columns]"
      ]
     },
     "execution_count": 6,
     "metadata": {},
     "output_type": "execute_result"
    }
   ],
   "source": [
    "df_only_JT"
   ]
  },
  {
   "cell_type": "code",
   "execution_count": 17,
   "id": "68abf8db",
   "metadata": {},
   "outputs": [
    {
     "data": {
      "text/plain": [
       "'technical and operations director\\nhead of technical\\ndirector of technical arts\\nhead of technical department\\ntechnical supervisor\\ntechnical director\\ntechnical manager'"
      ]
     },
     "execution_count": 17,
     "metadata": {},
     "output_type": "execute_result"
    }
   ],
   "source": [
    "df_only_JT['altLabels'][0]"
   ]
  },
  {
   "cell_type": "code",
   "execution_count": 7,
   "id": "c5a3eb0e",
   "metadata": {},
   "outputs": [],
   "source": [
    "# Preprocessing of job descriptions\n",
    "\n",
    "def preprocessing(sentence):\n",
    "    \n",
    "    # remove punctuation\n",
    "    for punctuation in string.punctuation:        \n",
    "        sentence = sentence.replace(punctuation, '')\n",
    "    \n",
    "    # set lowercase\n",
    "    sentence = sentence.lower()\n",
    "    \n",
    "    # remove numbers\n",
    "    sentence = ''.join(char for char in sentence if not char.isdigit())\n",
    "    \n",
    "    # remove stopwords\n",
    "    stop_words = set(stopwords.words('english'))\n",
    "    tokens = word_tokenize(sentence)\n",
    "    stopword_free_tokens = [token for token in tokens if token not in stop_words]\n",
    "    sentence = ' '.join(stopword_free_tokens)\n",
    "\n",
    "    # lemmatize\n",
    "    sentence = WordNetLemmatizer().lemmatize(sentence, pos='n')\n",
    "    sentence = WordNetLemmatizer().lemmatize(sentence, pos='v')\n",
    "    \n",
    "    return sentence"
   ]
  },
  {
   "cell_type": "code",
   "execution_count": 8,
   "id": "77bf6d7b",
   "metadata": {},
   "outputs": [],
   "source": [
    "# search for all jobs that have 'manager' in their title  --- IGNORE this cell for now\n",
    "url_title = \"https://ec.europa.eu/esco/api/search\"\n",
    "\n",
    "params = {\n",
    "    'language': 'en',\n",
    "    'type': 'occupation',\n",
    "    'text': 'pig'\n",
    "         }\n",
    "\n",
    "api_title = requests.get(url=url_title, params=params).json()"
   ]
  },
  {
   "cell_type": "code",
   "execution_count": 9,
   "id": "af2c8e90",
   "metadata": {},
   "outputs": [],
   "source": [
    "# select a role\n",
    "role = 'cattle breeder'"
   ]
  },
  {
   "cell_type": "code",
   "execution_count": 11,
   "id": "62750553",
   "metadata": {},
   "outputs": [],
   "source": [
    "# get an training set with 2500 out of the whole 3006 rows and preprocess every description in it\n",
    "\n",
    "X_train = df['description'][0:2500]\n",
    "X_test = df['description'][2500:3006]\n",
    "X_train_proc = [preprocessing(description) for description in X_train]\n",
    "X_test_proc = [preprocessing(description) for description in X_test]"
   ]
  },
  {
   "cell_type": "code",
   "execution_count": 12,
   "id": "ad84aa59",
   "metadata": {},
   "outputs": [
    {
     "data": {
      "text/plain": [
       "<gensim.models.keyedvectors.KeyedVectors at 0x7f38ac13ab50>"
      ]
     },
     "execution_count": 12,
     "metadata": {},
     "output_type": "execute_result"
    }
   ],
   "source": [
    "# initialize 'job2vec' model\n",
    "\n",
    "training_processed_descriptions = [TaggedDocument(doc, [i]) for i, doc in enumerate(X_train_proc)]\n",
    "job2vec_model = Doc2Vec(training_processed_descriptions, vector_size=50, min_count=2, epochs=40)\n",
    "\n",
    "job2vec_model.wv"
   ]
  },
  {
   "cell_type": "code",
   "execution_count": 13,
   "id": "0744f733",
   "metadata": {},
   "outputs": [],
   "source": [
    "# build a vocabulary\n",
    "job_vocab = job2vec_model.build_vocab(training_processed_descriptions)"
   ]
  },
  {
   "cell_type": "code",
   "execution_count": 14,
   "id": "a04166a6",
   "metadata": {},
   "outputs": [],
   "source": [
    "job_vocab"
   ]
  },
  {
   "cell_type": "code",
   "execution_count": 15,
   "id": "d1f5cd7a",
   "metadata": {},
   "outputs": [
    {
     "data": {
      "text/plain": [
       "array([ 0.00489755,  0.00529026,  0.00414103,  0.00521051,  0.00705354,\n",
       "        0.00542409,  0.00978128,  0.00136568, -0.00460378, -0.00343036,\n",
       "        0.00070894, -0.00676497, -0.00137454, -0.00655193, -0.00416098,\n",
       "       -0.00266913, -0.00232818,  0.00821303, -0.00053216, -0.00391883,\n",
       "       -0.00969381,  0.00620907,  0.00463866, -0.0084107 , -0.00287951,\n",
       "        0.00128499,  0.00239346,  0.00860116,  0.00700837, -0.00172578,\n",
       "        0.00438815, -0.00854222,  0.00567825,  0.00517601,  0.00763484,\n",
       "       -0.00865479,  0.00338612, -0.00787145,  0.00117944, -0.0067898 ,\n",
       "       -0.00141786,  0.00909927,  0.00722282,  0.00011656,  0.00924594,\n",
       "        0.00139886, -0.00575996,  0.00686854,  0.00573933, -0.0044042 ],\n",
       "      dtype=float32)"
      ]
     },
     "execution_count": 15,
     "metadata": {},
     "output_type": "execute_result"
    }
   ],
   "source": [
    "# testing_processed_descriptions = [TaggedDocument(doc, [i]) for i, doc in enumerate(X_test_proc)]\n",
    "inferred_vector = job2vec_model.infer_vector(X_test_proc)\n",
    "inferred_vector"
   ]
  },
  {
   "cell_type": "code",
   "execution_count": 18,
   "id": "5cbba046",
   "metadata": {},
   "outputs": [],
   "source": [
    "# select a role\n",
    "role = 'cattle breeder'"
   ]
  },
  {
   "cell_type": "code",
   "execution_count": 22,
   "id": "3e8a5599",
   "metadata": {},
   "outputs": [
    {
     "name": "stdout",
     "output_type": "stream",
     "text": [
      "***** SKILL LIST: ['manage the health and welfare of livestock', 'manage cattle breeding', 'feed livestock', 'dispose of dead animals', 'manage animal biosecurity', 'milk animals', 'provide nutrition to animals', 'care for juvenile animals', 'manage animal hygiene', 'administer specific drugs to facilitate breeding', 'maintain animal accommodation', 'health and safety regulations', 'manage livestock', 'signs of animal illness', 'livestock species', 'operate farm equipment', 'maintain professional records', 'animal nutrition', 'administer treatment to animals', 'monitor livestock', 'select livestock', 'provide first aid to animals', 'animal welfare legislation', 'livestock reproduction', 'perform milk control', 'assist animal birth', 'monitor the welfare of animals', 'assist in transportation of animals', 'create animal records', 'control animal movement']\n",
      "***** ALTERNATIVE LABELS: ['cattle specialist', 'cattle breeders', 'cattle rearer']\n",
      "***** JOB DESCRIPTION: Cattle breeders oversee the production and day-to-day care of cattle. They maintain the health and welfare of cattle.\n"
     ]
    }
   ],
   "source": [
    "### run this cell & extract skills, alternative labels, and job description from the ESCO API ###\n",
    "\n",
    "# get uri for selected role\n",
    "role_extract = df[df_occupations['preferredLabel'] == role]\n",
    "role_uri = role_extract['conceptUri']\n",
    "\n",
    "# get role information from the ESCO API\n",
    "url = \"https://ec.europa.eu/esco/api/resource/skill\"\n",
    "params = {\n",
    "    'uri': role_uri,\n",
    "    'language': 'en',\n",
    "         }\n",
    "api_skills = requests.get(url=url, params=params).json()\n",
    "\n",
    "# this line gets you the whole API url; easier to read on your browser\n",
    "requests.get(url=url, params=params).url\n",
    "\n",
    "# gets a list of all skill descriptions and extracts the skill title only\n",
    "api_skills_dict = api_skills.get('_links').get('hasEssentialSkill')\n",
    "skills_list = [skill.get('title') for skill in api_skills_dict]\n",
    "\n",
    "# gets list of alternative labels from the API\n",
    "alt_labels_list = api_skills.get('alternativeLabel').get('en')\n",
    "\n",
    "# gets job description from the API\n",
    "job_description = api_skills.get('description').get('en').get('literal')\n",
    "\n",
    "print('***** SKILL LIST:', skills_list)\n",
    "print('***** ALTERNATIVE LABELS:', alt_labels_list)\n",
    "print('***** JOB DESCRIPTION:', job_description)\n",
    "#***** SKILL LIST: ['monitor the welfare of animals', 'administer specific drugs to facilitate breeding', 'care for juvenile animals', 'operate farm equipment', 'provide first aid to animals', 'animal nutrition', 'signs of animal illness', 'feed livestock', 'manage animal hygiene', 'maintain professional records', 'perform milk control', 'maintain animal accommodation', 'select livestock', 'manage livestock', 'create animal records', 'assist in transportation of animals', 'manage the health and welfare of livestock', 'dispose of dead animals', 'control animal movement', 'monitor livestock', 'manage cattle breeding', 'livestock reproduction', 'provide nutrition to animals', 'milk animals', 'health and safety regulations', 'administer treatment to animals', 'manage animal biosecurity', 'animal welfare legislation', 'assist animal birth', 'livestock species']\n",
    "#***** ALTERNATIVE LABELS: ['cattle specialist', 'cattle breeders', 'cattle rearer']\n",
    "#***** JOB DESCRIPTION: Cattle breeders oversee the production and day-to-day care of cattle. They maintain the health and welfare of cattle.\n",
    "# get an training set with 2500 out of the whole 3006 rows \n",
    "\n",
    "# X_all = df_occupations['description'][0:4875]\n",
    "# X_train = X_all[0:2500]\n",
    "# X_test = X_all[2500:3006]"
   ]
  },
  {
   "cell_type": "code",
   "execution_count": null,
   "id": "6a94f0fe",
   "metadata": {},
   "outputs": [],
   "source": []
  }
 ],
 "metadata": {
  "kernelspec": {
   "display_name": "Python 3 (ipykernel)",
   "language": "python",
   "name": "python3"
  },
  "language_info": {
   "codemirror_mode": {
    "name": "ipython",
    "version": 3
   },
   "file_extension": ".py",
   "mimetype": "text/x-python",
   "name": "python",
   "nbconvert_exporter": "python",
   "pygments_lexer": "ipython3",
   "version": "3.8.12"
  },
  "toc": {
   "base_numbering": 1,
   "nav_menu": {},
   "number_sections": true,
   "sideBar": true,
   "skip_h1_title": false,
   "title_cell": "Table of Contents",
   "title_sidebar": "Contents",
   "toc_cell": false,
   "toc_position": {},
   "toc_section_display": true,
   "toc_window_display": false
  }
 },
 "nbformat": 4,
 "nbformat_minor": 5
}
