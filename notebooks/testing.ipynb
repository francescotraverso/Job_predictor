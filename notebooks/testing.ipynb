{
 "cells": [
  {
   "cell_type": "code",
   "execution_count": 1,
   "id": "fbc18917",
   "metadata": {},
   "outputs": [],
   "source": [
    "import pandas as pd\n",
    "import numpy as np\n",
    "import string\n",
    "import random\n",
    "import pickle\n",
    "from tqdm import tqdm\n",
    "from gensim.models.phrases import Phrases, ENGLISH_CONNECTOR_WORDS\n",
    "from gensim.models.doc2vec import TaggedDocument\n",
    "import nltk\n",
    "from nltk import word_tokenize\n",
    "from nltk.corpus import stopwords\n",
    "from nltk.stem import WordNetLemmatizer\n",
    "from sentence_transformers import SentenceTransformer\n",
    "from sklearn.metrics.pairwise import cosine_similarity\n",
    "from pyresparser import ResumeParser\n",
    "import re\n",
    "import csv\n",
    "#import torch"
   ]
  },
  {
   "cell_type": "code",
   "execution_count": 2,
   "id": "e9c1bf55",
   "metadata": {},
   "outputs": [],
   "source": [
    "def truncate_description(job_description, no_words=100):\n",
    "    return ' '.join(job_description.split()[:no_words:1])"
   ]
  },
  {
   "cell_type": "code",
   "execution_count": 3,
   "id": "aed5de1c",
   "metadata": {
    "scrolled": true
   },
   "outputs": [
    {
     "name": "stderr",
     "output_type": "stream",
     "text": [
      "/home/ftraverso/.pyenv/versions/3.8.12/envs/job_predictor-env/lib/python3.8/site-packages/spacy/util.py:275: UserWarning: [W031] Model 'en_training' (0.0.0) requires spaCy v2.1 and is incompatible with the current spaCy version (2.3.5). This may lead to unexpected results or runtime errors. To resolve this, download a newer compatible model or retrain your custom model with the current spaCy version. For more details and available updates, run: python -m spacy validate\n",
      "  warnings.warn(warn_msg)\n"
     ]
    },
    {
     "data": {
      "text/plain": [
       "'As part of the EXPO Core team, was heavily involved in the planning, build-up, and pre-opening phase of EKFC at EXPO 2020 Manged initial project management of EXPO 2020 along with EXPO Management Pre-event ordering of build-up, fit-out equipment & services, operational and Culinary equipment, uniforms, IT equipment & services, and misc. requirements SOP Writeup and Operational Planning Admin staff recruitment'"
      ]
     },
     "execution_count": 3,
     "metadata": {},
     "output_type": "execute_result"
    }
   ],
   "source": [
    "###DECLARE CV PATH###\n",
    "path = '/home/ftraverso/code/francescotraverso/job_predictor/data/cv_directory/Mark_cv.pdf'\n",
    "\n",
    "###OPEN RESUME###\n",
    "resume = ResumeParser(path).get_extracted_data()\n",
    "\n",
    "###EXTRACT JOB EXPERIENCE###\n",
    "\n",
    "JD = \"\"\" As part of the EXPO Core team, was heavily involved in the planning, build-up, and\n",
    "pre-opening phase of EKFC at EXPO 2020\n",
    "Manged initial project management of EXPO 2020 along with EXPO Management\n",
    "Pre-event ordering of build-up, fit-out equipment & services, operational and\n",
    "Culinary equipment, uniforms, IT equipment & services, and misc. requirements\n",
    "SOP Writeup and Operational Planning\n",
    "Admin staff recruitment\n",
    "\"\"\"\n",
    "\n",
    "\n",
    "#\" \".join(resume['experience'])\n",
    "\n",
    "\n",
    "JD = truncate_description(JD, no_words=100)\n",
    "JD\n",
    "\n",
    "\n"
   ]
  },
  {
   "cell_type": "code",
   "execution_count": 4,
   "id": "03c38a27",
   "metadata": {},
   "outputs": [],
   "source": [
    "with open('../data/skill_packages/ESCO/data_science_skills_esco.csv', newline='') as f:\n",
    "    reader = csv.reader(f)\n",
    "    csv_data = list(reader)\n",
    "    ds_keywords = [item for sublist in csv_data for item in sublist]\n",
    "\n",
    "#ds_skills = \" \".join(ds_keywords)\n",
    "ds_skills = ds_keywords\n",
    "#ds_skills"
   ]
  },
  {
   "cell_type": "code",
   "execution_count": 5,
   "id": "c00aa9dc",
   "metadata": {},
   "outputs": [
    {
     "data": {
      "text/plain": [
       "'As part of the EXPO Core team, was heavily involved in the planning, build-up, and pre-opening phase of EKFC at EXPO 2020 Manged initial project management of EXPO 2020 along with EXPO Management Pre-event ordering of build-up, fit-out equipment & services, operational and Culinary equipment, uniforms, IT equipment & services, and misc. requirements SOP Writeup and Operational Planning Admin staff recruitment'"
      ]
     },
     "execution_count": 5,
     "metadata": {},
     "output_type": "execute_result"
    }
   ],
   "source": [
    "############################\n",
    "### describe your job!!! ###\n",
    "############################\n",
    "\n",
    "describe_your_job = JD\n",
    "\n",
    "##################################\n",
    "### get 'n' job suggeestion!!! ###\n",
    "##################################\n",
    "\n",
    "n_jobs = 10\n",
    "\n",
    "describe_your_job"
   ]
  },
  {
   "cell_type": "code",
   "execution_count": 6,
   "id": "c1f5bccc",
   "metadata": {},
   "outputs": [
    {
     "name": "stderr",
     "output_type": "stream",
     "text": [
      "/tmp/ipykernel_13750/1074353083.py:3: DtypeWarning: Columns (12) have mixed types. Specify dtype option on import or set low_memory=False.\n",
      "  df_occ_n_skills = pd.read_csv('../data/ESCO/occupations_augmented_with_OPTIONAL_SKILLS.csv')\n"
     ]
    }
   ],
   "source": [
    "# get dataframes from CSV files\n",
    "\n",
    "df_occ_n_skills = pd.read_csv('../data/ESCO/occupations_augmented_with_OPTIONAL_SKILLS.csv')"
   ]
  },
  {
   "cell_type": "code",
   "execution_count": 7,
   "id": "87169c10",
   "metadata": {
    "scrolled": false
   },
   "outputs": [],
   "source": [
    "# filter unneeded columns of of the dataframe and add needed ones\n",
    "\n",
    "df_occ_n_skills = df_occ_n_skills.filter(items=['preferredLabel', 'description', 'skills', 'opt_skills'])\n",
    "df_occ_n_skills = df_occ_n_skills.reindex(columns=['preferredLabel','description', 'skills', 'opt_skills'])\n",
    "df_occ_n_skills.rename(columns={'preferredLabel': 'job_title'}, inplace=True)\n",
    "df_occ_n_skills['description_input'] = 0\n",
    "df_occ_n_skills['skills_input'] = 0"
   ]
  },
  {
   "cell_type": "code",
   "execution_count": 8,
   "id": "cbd3ddd0",
   "metadata": {},
   "outputs": [
    {
     "data": {
      "text/html": [
       "<div>\n",
       "<style scoped>\n",
       "    .dataframe tbody tr th:only-of-type {\n",
       "        vertical-align: middle;\n",
       "    }\n",
       "\n",
       "    .dataframe tbody tr th {\n",
       "        vertical-align: top;\n",
       "    }\n",
       "\n",
       "    .dataframe thead th {\n",
       "        text-align: right;\n",
       "    }\n",
       "</style>\n",
       "<table border=\"1\" class=\"dataframe\">\n",
       "  <thead>\n",
       "    <tr style=\"text-align: right;\">\n",
       "      <th></th>\n",
       "      <th>job_title</th>\n",
       "      <th>description</th>\n",
       "      <th>skills</th>\n",
       "      <th>opt_skills</th>\n",
       "      <th>description_input</th>\n",
       "      <th>skills_input</th>\n",
       "    </tr>\n",
       "  </thead>\n",
       "  <tbody>\n",
       "    <tr>\n",
       "      <th>0</th>\n",
       "      <td>technical director</td>\n",
       "      <td>Technical directors realise the artistic visio...</td>\n",
       "      <td>adapt to artists' creative demands, promote he...</td>\n",
       "      <td>ESCO Occupations, ESCO member occupations</td>\n",
       "      <td>0</td>\n",
       "      <td>0</td>\n",
       "    </tr>\n",
       "    <tr>\n",
       "      <th>1</th>\n",
       "      <td>metal drawing machine operator</td>\n",
       "      <td>Metal drawing machine operators set up and ope...</td>\n",
       "      <td>set up the controller of a machine, monitor mo...</td>\n",
       "      <td>safely handle metal wire under tension, consul...</td>\n",
       "      <td>0</td>\n",
       "      <td>0</td>\n",
       "    </tr>\n",
       "    <tr>\n",
       "      <th>2</th>\n",
       "      <td>precision device inspector</td>\n",
       "      <td>Precision device inspectors make sure precisio...</td>\n",
       "      <td>troubleshoot, communicate test results to othe...</td>\n",
       "      <td>microprocessors, circuit diagrams, mechanical ...</td>\n",
       "      <td>0</td>\n",
       "      <td>0</td>\n",
       "    </tr>\n",
       "    <tr>\n",
       "      <th>3</th>\n",
       "      <td>air traffic safety technician</td>\n",
       "      <td>Air traffic safety technicians provide technic...</td>\n",
       "      <td>aircraft flight control systems, electronics, ...</td>\n",
       "      <td>electrical engineering, perform aircraft maint...</td>\n",
       "      <td>0</td>\n",
       "      <td>0</td>\n",
       "    </tr>\n",
       "    <tr>\n",
       "      <th>4</th>\n",
       "      <td>hospitality revenue manager</td>\n",
       "      <td>Hospitality revenue managers maximise revenue ...</td>\n",
       "      <td>think analytically, monitor financial accounts...</td>\n",
       "      <td>quote prices, maintain customer service, coach...</td>\n",
       "      <td>0</td>\n",
       "      <td>0</td>\n",
       "    </tr>\n",
       "  </tbody>\n",
       "</table>\n",
       "</div>"
      ],
      "text/plain": [
       "                        job_title  \\\n",
       "0              technical director   \n",
       "1  metal drawing machine operator   \n",
       "2      precision device inspector   \n",
       "3   air traffic safety technician   \n",
       "4     hospitality revenue manager   \n",
       "\n",
       "                                         description  \\\n",
       "0  Technical directors realise the artistic visio...   \n",
       "1  Metal drawing machine operators set up and ope...   \n",
       "2  Precision device inspectors make sure precisio...   \n",
       "3  Air traffic safety technicians provide technic...   \n",
       "4  Hospitality revenue managers maximise revenue ...   \n",
       "\n",
       "                                              skills  \\\n",
       "0  adapt to artists' creative demands, promote he...   \n",
       "1  set up the controller of a machine, monitor mo...   \n",
       "2  troubleshoot, communicate test results to othe...   \n",
       "3  aircraft flight control systems, electronics, ...   \n",
       "4  think analytically, monitor financial accounts...   \n",
       "\n",
       "                                          opt_skills  description_input  \\\n",
       "0          ESCO Occupations, ESCO member occupations                  0   \n",
       "1  safely handle metal wire under tension, consul...                  0   \n",
       "2  microprocessors, circuit diagrams, mechanical ...                  0   \n",
       "3  electrical engineering, perform aircraft maint...                  0   \n",
       "4  quote prices, maintain customer service, coach...                  0   \n",
       "\n",
       "   skills_input  \n",
       "0             0  \n",
       "1             0  \n",
       "2             0  \n",
       "3             0  \n",
       "4             0  "
      ]
     },
     "execution_count": 8,
     "metadata": {},
     "output_type": "execute_result"
    }
   ],
   "source": [
    "df_occ_n_skills.head()"
   ]
  },
  {
   "cell_type": "code",
   "execution_count": 9,
   "id": "a24a5345",
   "metadata": {},
   "outputs": [
    {
     "name": "stderr",
     "output_type": "stream",
     "text": [
      "35824it [00:15, 2364.94it/s]\n"
     ]
    }
   ],
   "source": [
    "# create description_input and skills_input, which are strings on which the model will be fit\n",
    "\n",
    "for row, index in tqdm(df_occ_n_skills.iterrows()):\n",
    "    underscored_job_title = index['job_title'].replace(\" \", \"_\")\n",
    "    this_rows_description_input = underscored_job_title + ' ' + index['description']\n",
    "    if type(index['opt_skills']) != str:\n",
    "        index['opt_skills'] = ''\n",
    "    this_rows_skills_input = underscored_job_title + ' ' + index['skills'] + ', ' + index['opt_skills']\n",
    "    df_occ_n_skills.iloc[row,-2] = this_rows_description_input\n",
    "    df_occ_n_skills.iloc[row,-1] = this_rows_skills_input"
   ]
  },
  {
   "cell_type": "code",
   "execution_count": 10,
   "id": "b3e40f6b",
   "metadata": {
    "scrolled": true
   },
   "outputs": [
    {
     "data": {
      "text/html": [
       "<div>\n",
       "<style scoped>\n",
       "    .dataframe tbody tr th:only-of-type {\n",
       "        vertical-align: middle;\n",
       "    }\n",
       "\n",
       "    .dataframe tbody tr th {\n",
       "        vertical-align: top;\n",
       "    }\n",
       "\n",
       "    .dataframe thead th {\n",
       "        text-align: right;\n",
       "    }\n",
       "</style>\n",
       "<table border=\"1\" class=\"dataframe\">\n",
       "  <thead>\n",
       "    <tr style=\"text-align: right;\">\n",
       "      <th></th>\n",
       "      <th>job_title</th>\n",
       "      <th>description</th>\n",
       "      <th>skills</th>\n",
       "      <th>opt_skills</th>\n",
       "      <th>description_input</th>\n",
       "      <th>skills_input</th>\n",
       "    </tr>\n",
       "  </thead>\n",
       "  <tbody>\n",
       "    <tr>\n",
       "      <th>0</th>\n",
       "      <td>technical director</td>\n",
       "      <td>Technical directors realise the artistic visio...</td>\n",
       "      <td>adapt to artists' creative demands, promote he...</td>\n",
       "      <td>ESCO Occupations, ESCO member occupations</td>\n",
       "      <td>technical_director Technical directors realise...</td>\n",
       "      <td>technical_director adapt to artists' creative ...</td>\n",
       "    </tr>\n",
       "    <tr>\n",
       "      <th>1</th>\n",
       "      <td>metal drawing machine operator</td>\n",
       "      <td>Metal drawing machine operators set up and ope...</td>\n",
       "      <td>set up the controller of a machine, monitor mo...</td>\n",
       "      <td>safely handle metal wire under tension, consul...</td>\n",
       "      <td>metal_drawing_machine_operator Metal drawing m...</td>\n",
       "      <td>metal_drawing_machine_operator set up the cont...</td>\n",
       "    </tr>\n",
       "    <tr>\n",
       "      <th>2</th>\n",
       "      <td>precision device inspector</td>\n",
       "      <td>Precision device inspectors make sure precisio...</td>\n",
       "      <td>troubleshoot, communicate test results to othe...</td>\n",
       "      <td>microprocessors, circuit diagrams, mechanical ...</td>\n",
       "      <td>precision_device_inspector Precision device in...</td>\n",
       "      <td>precision_device_inspector troubleshoot, commu...</td>\n",
       "    </tr>\n",
       "    <tr>\n",
       "      <th>3</th>\n",
       "      <td>air traffic safety technician</td>\n",
       "      <td>Air traffic safety technicians provide technic...</td>\n",
       "      <td>aircraft flight control systems, electronics, ...</td>\n",
       "      <td>electrical engineering, perform aircraft maint...</td>\n",
       "      <td>air_traffic_safety_technician Air traffic safe...</td>\n",
       "      <td>air_traffic_safety_technician aircraft flight ...</td>\n",
       "    </tr>\n",
       "    <tr>\n",
       "      <th>4</th>\n",
       "      <td>hospitality revenue manager</td>\n",
       "      <td>Hospitality revenue managers maximise revenue ...</td>\n",
       "      <td>think analytically, monitor financial accounts...</td>\n",
       "      <td>quote prices, maintain customer service, coach...</td>\n",
       "      <td>hospitality_revenue_manager Hospitality revenu...</td>\n",
       "      <td>hospitality_revenue_manager think analytically...</td>\n",
       "    </tr>\n",
       "  </tbody>\n",
       "</table>\n",
       "</div>"
      ],
      "text/plain": [
       "                        job_title  \\\n",
       "0              technical director   \n",
       "1  metal drawing machine operator   \n",
       "2      precision device inspector   \n",
       "3   air traffic safety technician   \n",
       "4     hospitality revenue manager   \n",
       "\n",
       "                                         description  \\\n",
       "0  Technical directors realise the artistic visio...   \n",
       "1  Metal drawing machine operators set up and ope...   \n",
       "2  Precision device inspectors make sure precisio...   \n",
       "3  Air traffic safety technicians provide technic...   \n",
       "4  Hospitality revenue managers maximise revenue ...   \n",
       "\n",
       "                                              skills  \\\n",
       "0  adapt to artists' creative demands, promote he...   \n",
       "1  set up the controller of a machine, monitor mo...   \n",
       "2  troubleshoot, communicate test results to othe...   \n",
       "3  aircraft flight control systems, electronics, ...   \n",
       "4  think analytically, monitor financial accounts...   \n",
       "\n",
       "                                          opt_skills  \\\n",
       "0          ESCO Occupations, ESCO member occupations   \n",
       "1  safely handle metal wire under tension, consul...   \n",
       "2  microprocessors, circuit diagrams, mechanical ...   \n",
       "3  electrical engineering, perform aircraft maint...   \n",
       "4  quote prices, maintain customer service, coach...   \n",
       "\n",
       "                                   description_input  \\\n",
       "0  technical_director Technical directors realise...   \n",
       "1  metal_drawing_machine_operator Metal drawing m...   \n",
       "2  precision_device_inspector Precision device in...   \n",
       "3  air_traffic_safety_technician Air traffic safe...   \n",
       "4  hospitality_revenue_manager Hospitality revenu...   \n",
       "\n",
       "                                        skills_input  \n",
       "0  technical_director adapt to artists' creative ...  \n",
       "1  metal_drawing_machine_operator set up the cont...  \n",
       "2  precision_device_inspector troubleshoot, commu...  \n",
       "3  air_traffic_safety_technician aircraft flight ...  \n",
       "4  hospitality_revenue_manager think analytically...  "
      ]
     },
     "execution_count": 10,
     "metadata": {},
     "output_type": "execute_result"
    }
   ],
   "source": [
    "# inspect dataframe\n",
    "\n",
    "df_occ_n_skills.head()"
   ]
  },
  {
   "cell_type": "code",
   "execution_count": 11,
   "id": "0e56f86c",
   "metadata": {},
   "outputs": [],
   "source": [
    "# get entire dataframe as dataset according to Qiewi's suggestion\n",
    "# concatenate the job_title:skills list to the end of df_occ_n_skills\n",
    "\n",
    "X_all = pd.concat([df_occ_n_skills['description_input'], df_occ_n_skills['skills_input']]).reset_index(drop=True)"
   ]
  },
  {
   "cell_type": "code",
   "execution_count": 12,
   "id": "8f64558b",
   "metadata": {},
   "outputs": [],
   "source": [
    "# applying preprocessing to corpus as in Gensim tutorial, also applying Phraser\n",
    "\n",
    "def read_corpus(corpus):\n",
    "   \n",
    "    # instantiate Phraser outside of the loop\n",
    "    sentence_stream = [entry.split(\" \") for entry in corpus]\n",
    "    bigrams = Phrases(\n",
    "        sentence_stream,\n",
    "        min_count=5,\n",
    "        threshold=5,\n",
    "        connector_words=ENGLISH_CONNECTOR_WORDS\n",
    "        )\n",
    "    \n",
    "    for i, line in enumerate(corpus):    \n",
    "    \n",
    "        # remove punctuation\n",
    "        for punctuation in string.punctuation:        \n",
    "            sentence = line.replace(punctuation, '')\n",
    "\n",
    "        # remove stopwords\n",
    "        stop_words = set(stopwords.words('english'))\n",
    "        tokens = word_tokenize(sentence)\n",
    "        stopword_free_tokens = [token for token in tokens if token not in stop_words]\n",
    "        sentence = ' '.join(stopword_free_tokens)\n",
    "\n",
    "        # lemmatize\n",
    "        sentence = WordNetLemmatizer().lemmatize(sentence, pos='n')\n",
    "        sentence = WordNetLemmatizer().lemmatize(sentence, pos='v')\n",
    "        \n",
    "        # get bigrams\n",
    "        sent = sentence.split()\n",
    "\n",
    "        # yield tagged final corpus\n",
    "        yield TaggedDocument(bigrams[sent], [i])\n",
    "\n",
    "all_corpus = list(read_corpus(X_all))"
   ]
  },
  {
   "cell_type": "code",
   "execution_count": 13,
   "id": "f418ae61",
   "metadata": {
    "scrolled": false
   },
   "outputs": [],
   "source": [
    "# ds_skills"
   ]
  },
  {
   "cell_type": "code",
   "execution_count": 14,
   "id": "1c6d1aa7",
   "metadata": {},
   "outputs": [],
   "source": [
    "# # Preprocessing function for job descriptions ------- ALL SKILLS\n",
    "\n",
    "# def preprocess_input(sentence, ds_insert=False, ds_insert_ratio=0.2):\n",
    "    \n",
    "#     if ds_insert == True:\n",
    "        \n",
    "#         sentence_splitted = sentence.split()\n",
    "        \n",
    "#         insertion_amount = len(ds_skills)\n",
    "\n",
    "#         for insertion in range(insertion_amount):\n",
    "#             sentence_splitted.append(ds_skills[-1*insertion])\n",
    "            \n",
    "#         sentence = ' '.join(sentence_splitted)   \n",
    "    \n",
    "#     # remove punctuation\n",
    "#     for punctuation in string.punctuation:        \n",
    "#         sentence = sentence.replace(punctuation, '')\n",
    "    \n",
    "#     # set lowercase\n",
    "#     sentence = sentence.lower()\n",
    "    \n",
    "#     # remove numbers\n",
    "#     sentence = ''.join(char for char in sentence if not char.isdigit())\n",
    "    \n",
    "#     # remove stopwords\n",
    "#     stop_words = set(stopwords.words('english'))\n",
    "#     tokens = word_tokenize(sentence)\n",
    "#     stopword_free_tokens = [token for token in tokens if token not in stop_words]\n",
    "#     sentence = ' '.join(stopword_free_tokens)\n",
    "\n",
    "#     # lemmatize\n",
    "#     sentence = WordNetLemmatizer().lemmatize(sentence, pos='n')\n",
    "#     sentence = WordNetLemmatizer().lemmatize(sentence, pos='v')\n",
    "    \n",
    "#     # split into tokens again after Lemmatizing --- this was replaced by Phraser \n",
    "#     # sentence = word_tokenize(sentence)\n",
    "    \n",
    "#     # insert data science keywords if ds_insert==True\n",
    "    \n",
    "    \n",
    "#     return sentence"
   ]
  },
  {
   "cell_type": "code",
   "execution_count": 15,
   "id": "522a0c7b",
   "metadata": {},
   "outputs": [],
   "source": [
    "# Preprocessing function for job descriptions ------- RATIO SKILLS\n",
    "\n",
    "def preprocess_input(sentence, ds_insert=False, ds_insert_ratio=0.2):\n",
    "    \n",
    "    if ds_insert == True:\n",
    "        \n",
    "        sentence_splitted = sentence.split()\n",
    "        \n",
    "        insertion_amount = int(len(ds_skills) * ds_insert_ratio)\n",
    "\n",
    "        for insertion in range(insertion_amount):\n",
    "            sentence_splitted.append(ds_skills[insertion])\n",
    "            \n",
    "        sentence = ' '.join(sentence_splitted)   \n",
    "    \n",
    "    # remove punctuation\n",
    "    for punctuation in string.punctuation:        \n",
    "        sentence = sentence.replace(punctuation, '')\n",
    "    \n",
    "    # set lowercase\n",
    "    sentence = sentence.lower()\n",
    "    \n",
    "    # remove numbers\n",
    "    sentence = ''.join(char for char in sentence if not char.isdigit())\n",
    "    \n",
    "    # remove stopwords\n",
    "    stop_words = set(stopwords.words('english'))\n",
    "    tokens = word_tokenize(sentence)\n",
    "    stopword_free_tokens = [token for token in tokens if token not in stop_words]\n",
    "    sentence = ' '.join(stopword_free_tokens)\n",
    "\n",
    "    # lemmatize\n",
    "    sentence = WordNetLemmatizer().lemmatize(sentence, pos='n')\n",
    "    sentence = WordNetLemmatizer().lemmatize(sentence, pos='v')\n",
    "    \n",
    "    # split into tokens again after Lemmatizing --- this was replaced by Phraser \n",
    "    # sentence = word_tokenize(sentence)\n",
    "    \n",
    "    # insert data science keywords if ds_insert==True\n",
    "    \n",
    "    \n",
    "    return sentence"
   ]
  },
  {
   "cell_type": "code",
   "execution_count": 16,
   "id": "fc70ec3a",
   "metadata": {},
   "outputs": [
    {
     "data": {
      "text/plain": [
       "'part expo core team heavily involved planning buildup preopening phase ekfc expo manged initial project management expo along expo management preevent ordering buildup fitout equipment services operational culinary equipment uniforms equipment services misc requirements sop writeup operational planning admin staff recruitment machine learning algorithms deep learning algorithms statistics data science data analysis business intelligence use databases probability statistics data visualization data processing collect ict data data models data mining analyse big data normalize data query languages statistical analysis techniques'"
      ]
     },
     "execution_count": 16,
     "metadata": {},
     "output_type": "execute_result"
    }
   ],
   "source": [
    "new_description = preprocess_input(describe_your_job, ds_insert=True)\n",
    "new_description"
   ]
  },
  {
   "cell_type": "code",
   "execution_count": 17,
   "id": "02a38fd9",
   "metadata": {},
   "outputs": [],
   "source": [
    "# load saved BERT model and its embedding from disk\n",
    "\n",
    "filename = '../model/bert_model_22.sav'\n",
    "bert_model = pickle.load(open(filename, 'rb'))\n",
    "\n",
    "filename = '../model/all_corpus_embed_22.sav'\n",
    "all_corpus_embed = pickle.load(open(filename, 'rb'))"
   ]
  },
  {
   "cell_type": "code",
   "execution_count": 18,
   "id": "0326a2bc",
   "metadata": {},
   "outputs": [
    {
     "data": {
      "text/plain": [
       "sentence_transformers.SentenceTransformer.SentenceTransformer"
      ]
     },
     "execution_count": 18,
     "metadata": {},
     "output_type": "execute_result"
    }
   ],
   "source": [
    "type(bert_model)"
   ]
  },
  {
   "cell_type": "code",
   "execution_count": 19,
   "id": "53650fbc",
   "metadata": {},
   "outputs": [],
   "source": [
    "# run model\n",
    "\n",
    "# run input through the model\n",
    "new_description_embed = bert_model.encode(new_description)\n",
    "\n",
    "# calculate and order cosine similarity\n",
    "similarity_rank = cosine_similarity([new_description_embed], all_corpus_embed)\n",
    "similarity_rank_index = np.argsort(similarity_rank[0])[::-1]\n",
    "\n"
   ]
  },
  {
   "cell_type": "code",
   "execution_count": 20,
   "id": "29ff668e",
   "metadata": {
    "scrolled": false
   },
   "outputs": [
    {
     "name": "stdout",
     "output_type": "stream",
     "text": [
      "part expo core team heavily involved planning buildup preopening phase ekfc expo manged initial project management expo along expo management preevent ordering buildup fitout equipment services operational culinary equipment uniforms equipment services misc requirements sop writeup operational planning admin staff recruitment\n",
      "part expo core team heavily involved planning buildup preopening phase ekfc expo manged initial project management expo along expo management preevent ordering buildup fitout equipment services operational culinary equipment uniforms equipment services misc requirements sop writeup operational planning admin staff recruitment machine learning algorithms deep learning algorithms statistics data science data analysis business intelligence use databases probability statistics data visualization data processing collect ict data data models data mining analyse big data normalize data query languages statistical analysis techniques\n",
      "~~~RESULT COMPARISON~~~ \n",
      "\n",
      "RANK #1:\n",
      "ORIGINAL: cookery book store manager\n",
      "Similarity score: 77.6 %\n",
      "W/ DS KW: general retail manager\n",
      "Similarity score: 74.6 %\n",
      "\n",
      "RANK #2:\n",
      "ORIGINAL: trainee department store manager\n",
      "Similarity score: 76.6 %\n",
      "W/ DS KW: trainee import manager  in household goods\n",
      "Similarity score: 73.8 %\n",
      "\n",
      "RANK #3:\n",
      "ORIGINAL: conferencing and banqueting manager\n",
      "Similarity score: 76.3 %\n",
      "W/ DS KW: trainee export manager in sugar, chocolate and sugar confectionery\n",
      "Similarity score: 73.6 %\n",
      "\n",
      "RANK #4:\n",
      "ORIGINAL: general retail manager\n",
      "Similarity score: 75.2 %\n",
      "W/ DS KW: cookery book store manager\n",
      "Similarity score: 73.6 %\n",
      "\n",
      "RANK #5:\n",
      "ORIGINAL: event manager\n",
      "Similarity score: 74.5 %\n",
      "W/ DS KW: trainee export manager  in household goods\n",
      "Similarity score: 73.6 %\n",
      "\n",
      "RANK #6:\n",
      "ORIGINAL: kitchen shop manager\n",
      "Similarity score: 74.0 %\n",
      "W/ DS KW: pastry and confectionery shop manager\n",
      "Similarity score: 73.5 %\n",
      "\n",
      "RANK #7:\n",
      "ORIGINAL: graduate trainee department store manager\n",
      "Similarity score: 74.0 %\n",
      "W/ DS KW: trainee department store manager\n",
      "Similarity score: 73.3 %\n",
      "\n",
      "RANK #8:\n",
      "ORIGINAL: pastry and confectionery shop manager\n",
      "Similarity score: 73.9 %\n",
      "W/ DS KW: trainee import export manager in office machinery and equipment\n",
      "Similarity score: 72.8 %\n",
      "\n",
      "RANK #9:\n",
      "ORIGINAL: kitchen and bathroom store manager\n",
      "Similarity score: 73.8 %\n",
      "W/ DS KW: trainee import export manager in machine tools\n",
      "Similarity score: 72.5 %\n",
      "\n",
      "RANK #10:\n",
      "ORIGINAL: trainee supply chain planner\n",
      "Similarity score: 73.8 %\n",
      "W/ DS KW: conferencing and banqueting manager\n",
      "Similarity score: 72.5 %\n",
      "\n"
     ]
    }
   ],
   "source": [
    "### result comparison between no DS keywords and DS keywords ###\n",
    "\n",
    "# insert the ratio you want for the insertion of data science keywords (value between 0 and 1)\n",
    "ds_ratio = 0.2\n",
    "\n",
    "# preprocess\n",
    "new_description_no_ds = preprocess_input(describe_your_job)\n",
    "new_description_w_ds = preprocess_input(describe_your_job, ds_insert=True, ds_insert_ratio=ds_ratio)\n",
    "\n",
    "print(new_description_no_ds)\n",
    "print(new_description_w_ds)\n",
    "\n",
    "\n",
    "# run input through the model\n",
    "new_description_no_ds_embed = bert_model.encode(new_description_no_ds)\n",
    "new_description_w_ds_embed = bert_model.encode(new_description_w_ds)\n",
    "\n",
    "# calculate and order cosine similarity\n",
    "similarity_rank_no_ds = cosine_similarity([new_description_no_ds_embed], all_corpus_embed)\n",
    "similarity_rank_index_no_ds = np.argsort(similarity_rank_no_ds[0])[::-1]\n",
    "similarity_rank_w_ds = cosine_similarity([new_description_w_ds_embed], all_corpus_embed)\n",
    "similarity_rank_index_w_ds = np.argsort(similarity_rank_w_ds[0])[::-1]\n",
    "\n",
    "# show results\n",
    "print('~~~RESULT COMPARISON~~~ \\n')\n",
    "\n",
    "for i in range(n_jobs):\n",
    "    \n",
    "    if similarity_rank_index_no_ds[i] <= len(df_occ_n_skills):\n",
    "        new_index = similarity_rank_index_no_ds[i]\n",
    "    else:\n",
    "        new_index = similarity_rank_index_no_ds[i] - len(df_occ_n_skills)\n",
    "\n",
    "    print(f'RANK #{i+1}:')\n",
    "    print('ORIGINAL: ' + df_occ_n_skills.loc[new_index]['job_title'])\n",
    "    print(f'Similarity score: {round(similarity_rank_no_ds[0][similarity_rank_index_no_ds[i]]*100,1)} %')\n",
    "\n",
    "    if similarity_rank_index_w_ds[i] <= len(df_occ_n_skills):\n",
    "        new_index = similarity_rank_index_w_ds[i]\n",
    "    else:\n",
    "        new_index = similarity_rank_index_w_ds[i] - len(df_occ_n_skills)\n",
    "    \n",
    "    print('W/ DS KW: ' + df_occ_n_skills.loc[new_index]['job_title'])\n",
    "    print(f'Similarity score: {round(similarity_rank_w_ds[0][similarity_rank_index_w_ds[i]]*100,1)} %')\n",
    "    print('')"
   ]
  }
 ],
 "metadata": {
  "kernelspec": {
   "display_name": "Python 3 (ipykernel)",
   "language": "python",
   "name": "python3"
  },
  "language_info": {
   "codemirror_mode": {
    "name": "ipython",
    "version": 3
   },
   "file_extension": ".py",
   "mimetype": "text/x-python",
   "name": "python",
   "nbconvert_exporter": "python",
   "pygments_lexer": "ipython3",
   "version": "3.8.12"
  },
  "toc": {
   "base_numbering": 1,
   "nav_menu": {},
   "number_sections": true,
   "sideBar": true,
   "skip_h1_title": false,
   "title_cell": "Table of Contents",
   "title_sidebar": "Contents",
   "toc_cell": false,
   "toc_position": {},
   "toc_section_display": true,
   "toc_window_display": false
  }
 },
 "nbformat": 4,
 "nbformat_minor": 5
}
