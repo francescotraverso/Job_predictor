{
 "cells": [
  {
   "cell_type": "code",
   "execution_count": 1,
   "id": "a0dd0cdd",
   "metadata": {},
   "outputs": [],
   "source": [
    "# imports\n",
    "from pyresparser import ResumeParser\n",
    "import glob"
   ]
  },
  {
   "cell_type": "code",
   "execution_count": 2,
   "id": "6b0aa5a6",
   "metadata": {},
   "outputs": [
    {
     "data": {
      "text/plain": [
       "'/Users/sandragomes/code/francescotraverso/job_predictor/data/cv_directory'"
      ]
     },
     "execution_count": 2,
     "metadata": {},
     "output_type": "execute_result"
    }
   ],
   "source": [
    "# assign directory\n",
    "path = '/Users/sandragomes/code/francescotraverso/job_predictor/data/cv_directory'\n",
    "path"
   ]
  },
  {
   "cell_type": "code",
   "execution_count": 3,
   "id": "f258a189",
   "metadata": {},
   "outputs": [
    {
     "data": {
      "text/plain": [
       "['/Users/sandragomes/code/francescotraverso/job_predictor/data/cv_directory/Ayushi Sharma Resume.pdf',\n",
       " '/Users/sandragomes/code/francescotraverso/job_predictor/data/cv_directory/Wael Aboul Hosn-CV Updated.pdf',\n",
       " '/Users/sandragomes/code/francescotraverso/job_predictor/data/cv_directory/CV kizito (warning - shit).pdf',\n",
       " '/Users/sandragomes/code/francescotraverso/job_predictor/data/cv_directory/CV_Can Yarici.pdf',\n",
       " \"/Users/sandragomes/code/francescotraverso/job_predictor/data/cv_directory/Junaid's Resume.pdf\",\n",
       " '/Users/sandragomes/code/francescotraverso/job_predictor/data/cv_directory/Rahul Pawar CV.pdf',\n",
       " '/Users/sandragomes/code/francescotraverso/job_predictor/data/cv_directory/CV_Example.pdf',\n",
       " '/Users/sandragomes/code/francescotraverso/job_predictor/data/cv_directory/CV EuroAtlantic.pdf',\n",
       " '/Users/sandragomes/code/francescotraverso/job_predictor/data/cv_directory/Amrut Mehta CV.pdf',\n",
       " '/Users/sandragomes/code/francescotraverso/job_predictor/data/cv_directory/Roshini KALAWILA - CV IV.pdf',\n",
       " '/Users/sandragomes/code/francescotraverso/job_predictor/data/cv_directory/Ahsan Hamza - CV.pdf',\n",
       " '/Users/sandragomes/code/francescotraverso/job_predictor/data/cv_directory/Khaled Awadalla C.V_020 (cant be read).pdf',\n",
       " '/Users/sandragomes/code/francescotraverso/job_predictor/data/cv_directory/CV ibkar.pdf',\n",
       " '/Users/sandragomes/code/francescotraverso/job_predictor/data/cv_directory/Miheer Steward Das.pdf',\n",
       " '/Users/sandragomes/code/francescotraverso/job_predictor/data/cv_directory/CV waghmare.pdf',\n",
       " '/Users/sandragomes/code/francescotraverso/job_predictor/data/cv_directory/Michelle Ajwani Resume-2020.pdf',\n",
       " '/Users/sandragomes/code/francescotraverso/job_predictor/data/cv_directory/CV_Basic_2p.pdf',\n",
       " '/Users/sandragomes/code/francescotraverso/job_predictor/data/cv_directory/Scan Jul 8, 2020.pdf',\n",
       " '/Users/sandragomes/code/francescotraverso/job_predictor/data/cv_directory/CV gayatri.pdf',\n",
       " '/Users/sandragomes/code/francescotraverso/job_predictor/data/cv_directory/Anuja Jain.pdf',\n",
       " '/Users/sandragomes/code/francescotraverso/job_predictor/data/cv_directory/SHANTANU GHOSH_Resume.pdf',\n",
       " '/Users/sandragomes/code/francescotraverso/job_predictor/data/cv_directory/Shahriar Esmaeili CV.pdf',\n",
       " '/Users/sandragomes/code/francescotraverso/job_predictor/data/cv_directory/saidkocak_CV.pdf',\n",
       " '/Users/sandragomes/code/francescotraverso/job_predictor/data/cv_directory/Mohammed Faisal CV.pdf',\n",
       " '/Users/sandragomes/code/francescotraverso/job_predictor/data/cv_directory/Krishna Mirpuri CV Internship.pdf',\n",
       " '/Users/sandragomes/code/francescotraverso/job_predictor/data/cv_directory/Vimaldaz.pdf',\n",
       " '/Users/sandragomes/code/francescotraverso/job_predictor/data/cv_directory/Samuel John CV.pdf',\n",
       " '/Users/sandragomes/code/francescotraverso/job_predictor/data/cv_directory/Resume - Shezan.pdf',\n",
       " '/Users/sandragomes/code/francescotraverso/job_predictor/data/cv_directory/Francesco Traverso - Resume 2021.06.pdf',\n",
       " '/Users/sandragomes/code/francescotraverso/job_predictor/data/cv_directory/Updated+CV-Ismaeil.pdf',\n",
       " '/Users/sandragomes/code/francescotraverso/job_predictor/data/cv_directory/AbhinavDas_InternshalaResume.pdf']"
      ]
     },
     "execution_count": 3,
     "metadata": {},
     "output_type": "execute_result"
    }
   ],
   "source": [
    "directory_pdf = glob.glob(path+'/*.pdf')\n",
    "directory_pdf"
   ]
  },
  {
   "cell_type": "code",
   "execution_count": null,
   "id": "2434be4f",
   "metadata": {},
   "outputs": [
    {
     "name": "stdout",
     "output_type": "stream",
     "text": [
      "Experience: ['from a premier University of Delhi. Concept creator in Media Marketing and carry out creative event', 'management skills, seeking a full-time position in the field of retail and marketing. While developing', 'strategies that drive products to success contains the challenge to keep me on my toes.', 'M A N A G E M E N T   S K I L L S', 'I N F O   &   C O N T A C T', 'Creative Design Strategy, Branding,\\xa0Event', 'Management, Content Marketing, Social Media', 'Marketing,\\xa0B2B Marketing,\\xa0Problem Solving,']; Skills: ['Research', 'Writing', 'Branding', 'Strategy', 'P', 'Design', 'Content', 'Communication', 'Engagement', 'Editorial', 'Website', 'Retail', 'Technical', 'Marketing materials', 'C', 'Brand', 'R', 'Product quality', 'Market research', 'Marketing', 'Presentations', 'English', 'Expenses']\n"
     ]
    },
    {
     "name": "stderr",
     "output_type": "stream",
     "text": [
      "/Users/sandragomes/.pyenv/versions/job_predictor-env/lib/python3.8/site-packages/spacy/util.py:275: UserWarning: [W031] Model 'en_training' (0.0.0) requires spaCy v2.1 and is incompatible with the current spaCy version (2.3.5). This may lead to unexpected results or runtime errors. To resolve this, download a newer compatible model or retrain your custom model with the current spaCy version. For more details and available updates, run: python -m spacy validate\n",
      "  warnings.warn(warn_msg)\n"
     ]
    },
    {
     "name": "stdout",
     "output_type": "stream",
     "text": [
      "Experience: ['- Involved in project estimations and worked closely with customers', '- Mentoring interns on Web APIs and SQL server']; Skills: ['Computer science', 'Research', 'Networking', 'Android', 'Cms', 'Mobile', 'Billing', 'Database', 'Sql', 'Html5', '.net', 'Java', 'Machine learning', 'Accounting', 'Design', 'Reporting', 'Mysql', 'Communication', 'Sdlc', 'Os', 'Linux', 'System', 'Customer service', 'Documentation', 'Usability', 'Real-time', 'Opencv', 'Algorithms', 'C', 'C#', 'Programming', 'Python', 'Windows', 'Lifecycle', 'Security', 'Php', 'Apis', 'Reports', 'Javascript', 'Legal']\n"
     ]
    },
    {
     "name": "stderr",
     "output_type": "stream",
     "text": [
      "/Users/sandragomes/.pyenv/versions/job_predictor-env/lib/python3.8/site-packages/spacy/util.py:275: UserWarning: [W031] Model 'en_training' (0.0.0) requires spaCy v2.1 and is incompatible with the current spaCy version (2.3.5). This may lead to unexpected results or runtime errors. To resolve this, download a newer compatible model or retrain your custom model with the current spaCy version. For more details and available updates, run: python -m spacy validate\n",
      "  warnings.warn(warn_msg)\n"
     ]
    },
    {
     "name": "stdout",
     "output_type": "stream",
     "text": [
      "Experience: None; Skills: []\n"
     ]
    },
    {
     "name": "stderr",
     "output_type": "stream",
     "text": [
      "/Users/sandragomes/.pyenv/versions/job_predictor-env/lib/python3.8/site-packages/spacy/util.py:275: UserWarning: [W031] Model 'en_training' (0.0.0) requires spaCy v2.1 and is incompatible with the current spaCy version (2.3.5). This may lead to unexpected results or runtime errors. To resolve this, download a newer compatible model or retrain your custom model with the current spaCy version. For more details and available updates, run: python -m spacy validate\n",
      "  warnings.warn(warn_msg)\n"
     ]
    },
    {
     "name": "stdout",
     "output_type": "stream",
     "text": [
      "Experience: ['PwC (December 2019- ): CC Team – Audit and Assurance Consultant (Internship)', 'Kingfisher Plc (August, 2017 / 2 month): Offers & Supply Chain – Group Junior Buyer', 'Merlin Entertainment (September, 2016 / 2 month)– Thorpe Park – Retail: Learned', 'customer service and upselling.', 'Arthur Sound Studio Shenzhen (2015 / Part time) – Recording, editing and problem', 'solving experience.']; Skills: ['Green', 'Economics', 'Mobile', 'Finance', 'Editing', 'Financial management', 'Accounting', 'Powerpoint', 'Financial statements', 'Operations', 'Access', 'Supply chain', 'Cad', 'Retail', 'Excel', 'Customer service', 'Analytics', 'Sourcing', 'Word', 'Purchasing', 'Photoshop', 'Outsourcing', 'International', 'Analysis', 'Psychology', 'Audit', 'English', 'Data analytics', 'Illustrator']\n"
     ]
    },
    {
     "name": "stderr",
     "output_type": "stream",
     "text": [
      "/Users/sandragomes/.pyenv/versions/job_predictor-env/lib/python3.8/site-packages/spacy/util.py:275: UserWarning: [W031] Model 'en_training' (0.0.0) requires spaCy v2.1 and is incompatible with the current spaCy version (2.3.5). This may lead to unexpected results or runtime errors. To resolve this, download a newer compatible model or retrain your custom model with the current spaCy version. For more details and available updates, run: python -m spacy validate\n",
      "  warnings.warn(warn_msg)\n"
     ]
    },
    {
     "name": "stdout",
     "output_type": "stream",
     "text": [
      "Experience: ['\\uf0b7  Replenish stock of items in hotel rooms', '\\uf0b7  Monitor rooms for general repairs and upkeep', 'Inspect guest rooms prior to checking in', '\\uf0b7', '\\uf0b7  Accommodate requests by guests for extra towels, ice bucket, pillows', 'and blankets', 'QUALIFICATIONS', 'Graduate Diploma in Hospitality & Tourism Management', 'COLLEGE OF TOURISM & HOTEL MANAGEMENT - COTHM, ISLMABAD,', 'PAKISTAN', '2016 – 17', 'Coursework: Hospitality & Tourism Management, F&B Operations, H&T Marketing,', 'Mastering Communications, Front Office Operations, Human Resources, Accounting', 'Intermediate in Commerce (HSSC)', 'SUPERIOR COLLEGE, BUREWALA, PAKISTAN', '2014 – 2016', 'Matriculation in Science (SSC)', 'DIVISIONAL PUBLIC SCHOOL, BUREWALA, PAKISTAN', '2011 – 2013']; Skills: ['Hotel', 'Social media', 'Research', 'Mobile', 'Sales', 'Accounting', 'Beverage', 'Powerpoint', 'Hospitality', 'Operations', 'Repairs', 'Communication', 'Excel', 'Presentation', 'Falcon', 'Email', 'Word', 'Hotels', 'Human resources', 'Marketing', 'Requests', 'English']\n"
     ]
    },
    {
     "name": "stderr",
     "output_type": "stream",
     "text": [
      "/Users/sandragomes/.pyenv/versions/job_predictor-env/lib/python3.8/site-packages/spacy/util.py:275: UserWarning: [W031] Model 'en_training' (0.0.0) requires spaCy v2.1 and is incompatible with the current spaCy version (2.3.5). This may lead to unexpected results or runtime errors. To resolve this, download a newer compatible model or retrain your custom model with the current spaCy version. For more details and available updates, run: python -m spacy validate\n",
      "  warnings.warn(warn_msg)\n"
     ]
    },
    {
     "name": "stdout",
     "output_type": "stream",
     "text": [
      "Experience: None; Skills: ['Research', 'Seo', 'Strategy', 'Finance', 'P', 'Database', 'Sales', 'Design', 'Fitness', 'Video', 'Healthcare', 'Website', 'Analytics', 'C', 'R', 'Email', 'Marketing', 'Analysis', 'Health', 'Facebook']\n"
     ]
    },
    {
     "name": "stderr",
     "output_type": "stream",
     "text": [
      "/Users/sandragomes/.pyenv/versions/job_predictor-env/lib/python3.8/site-packages/spacy/util.py:275: UserWarning: [W031] Model 'en_training' (0.0.0) requires spaCy v2.1 and is incompatible with the current spaCy version (2.3.5). This may lead to unexpected results or runtime errors. To resolve this, download a newer compatible model or retrain your custom model with the current spaCy version. For more details and available updates, run: python -m spacy validate\n",
      "  warnings.warn(warn_msg)\n"
     ]
    },
    {
     "name": "stdout",
     "output_type": "stream",
     "text": [
      "Experience: ['Management Consulting in FREESCG - Food Consultant', '- Management consultancy specialized in food & beverage', '- Consulting services for restaurants, bars and similar', '- Project developed with specialization to each client through a diagnosis and an action plan put', 'into practice, with analysis of the obtained results', '- Areas of expertise: Financial, Logistics, Human Resources, Marketing, Administrative Backoffice,', 'Production and Operation', 'Analysis and Management of Purchasing and Logistics in MADPIZZA', '- Evaluation, restructuring and monitoring of existing logistics department', '- Establish two-way communication procedures with an emphasis on motivation and teamwork', '- Consumption forecast', '- Supplier assessment, prospecting and monitoring', '- Settle divergences or create quick solutions', '- Creation of new work tools', '- Supply chain assessment and identification of improvement points', '- Supervision of stock and orders of each cost center in order to reduce inventory costs', '- Order Validation by Point of Sale', '- Ensure permanent inventory maintenance: controlling stock levels and stock replenishment', 'Food and Beverage Controller', '- Food & Beverage Performance Monitoring', '- Cost Control', '- Inventory Tracking', '- Identification of operational, financial and logistic improvement points (Lean)', '- Apply performance indicators', '- Periodic Reporting']; Skills: ['Human resources', 'Consulting', 'Improvement', 'Marketing', 'Analysis', 'Purchasing', 'Prospecting', 'Plan', 'Lean', 'Reporting', 'Communication', 'English', 'Word', 'Inventory', 'Logistics', 'Beverage', 'Excel']\n"
     ]
    },
    {
     "name": "stderr",
     "output_type": "stream",
     "text": [
      "/Users/sandragomes/.pyenv/versions/job_predictor-env/lib/python3.8/site-packages/spacy/util.py:275: UserWarning: [W031] Model 'en_training' (0.0.0) requires spaCy v2.1 and is incompatible with the current spaCy version (2.3.5). This may lead to unexpected results or runtime errors. To resolve this, download a newer compatible model or retrain your custom model with the current spaCy version. For more details and available updates, run: python -m spacy validate\n",
      "  warnings.warn(warn_msg)\n"
     ]
    },
    {
     "name": "stdout",
     "output_type": "stream",
     "text": [
      "Experience: None; Skills: ['Email', 'International', 'Matlab', 'Spanish', 'Programming', 'Engineering', 'English', 'Python']\n"
     ]
    },
    {
     "name": "stderr",
     "output_type": "stream",
     "text": [
      "/Users/sandragomes/.pyenv/versions/job_predictor-env/lib/python3.8/site-packages/spacy/util.py:275: UserWarning: [W031] Model 'en_training' (0.0.0) requires spaCy v2.1 and is incompatible with the current spaCy version (2.3.5). This may lead to unexpected results or runtime errors. To resolve this, download a newer compatible model or retrain your custom model with the current spaCy version. For more details and available updates, run: python -m spacy validate\n",
      "  warnings.warn(warn_msg)\n"
     ]
    },
    {
     "name": "stdout",
     "output_type": "stream",
     "text": [
      "Experience: ['Little \\xa0Italy \\xa0Group \\xa0of \\xa0Restaurants, \\xa0India', 'Duration \\xa0– \\xa02 \\xa0Years \\xa02017-\\xad2019', 'Departments \\xa0–Operations \\xa0and \\xa0Marketing', 'Role \\xa0– \\xa0Director', 'Marta’s \\xa0Kitchen, \\xa0Dubai', 'Duration \\xa0– \\xa02 \\xa0years \\xa02015-\\xad2017', 'Departments \\xa0-\\xadFood \\xa0and \\xa0Beverage \\xa0Service', 'Role \\xa0–Part \\xa0time \\xa0Waiter', 'Dish \\xa0Catering, \\xa0Dubai', 'Duration \\xa0– \\xa02 \\xa0years', 'Duration \\xa0– \\xa02 \\xa0years \\xa02015-\\xad2017', 'Departments \\xa0-\\xadFood \\xa0and \\xa0Beverage \\xa0Service', 'Role \\xa0–Part \\xa0time \\xa0Waiter', 'Senara, \\xa0Dubai', 'Duration \\xa0– \\xa02 \\xa0years \\xa02015-\\xad2017', 'Departments \\xa0– \\xa0Food \\xa0and \\xa0Beverage \\xa0Service', 'Role \\xa0– \\xa0Bartender \\xa0and \\xa0Head \\xa0Waiter', 'J.W \\xa0Marriott, \\xa0Pune', 'Duration \\xa0– \\xa020 \\xa0weeks \\xa0between \\xa0July \\xa02014 \\xa0– \\xa0December \\xa02014', 'Departments \\xa0-\\xadFood \\xa0and \\xa0Beverage \\xa0Service \\xa0and \\xa0Front \\xa0Office \\xa0Operations', 'Role \\xa0– \\xa0Industrial \\xa0Trainee', 'On the Job Training at All American diner, Lavasa.', 'Duration – 10 sessions of 8 hours each split between kitchen and service between January and', 'May 2014', 'Role -Trainee', 'Languages', 'English, German, French (Basic), Marathi,  Hindi', 'Little Italy Group of restaurants India', 'Duration- 2 years 2013-2015', 'Role - Project Manager, Marketing and Operations manager', 'Little Italy Group of restaurants India', 'Duration- 1 years 2012-2013', 'Role – Management Training Program', 'ACHIEVEMENTS', 'Completed Trinity Speech and Drama and Choral Speaking examinations levels 2,3 and 4', 'Participated in the Rotary Youth Exchange program to Germany in the year 2011-2012', 'Part of one of the 5 finalist teams in the Accor Take Off Challenge 2015', 'Successfully operated a canteen at the Beach Canteen for the Dubai Food Festival 2016', 'Part of the team hosting VIP dinner for Donald Trump at JW Marriott, Pune', 'VIP Table host at Sensation Dubai 2016', 'Personal Bartender for Drake at Formula one concerts at Du Arena', 'Preopening team for Little Italy restaurants in Mumbai, Pune, Bangalore and Bangkok', 'Conceptualizing a new Menu at Little Italy Group of Restaurants', 'Launch of Akss- Modern Indian restaurant in Dubai and Bangalore', 'HOBBIES', 'Football , Music and Travelling']; Skills: ['Hospitality', 'Operations', 'Marketing', 'Industry experience', 'French', 'Mobile', 'Training', 'German', 'English', 'Email', 'Beverage']\n"
     ]
    },
    {
     "name": "stderr",
     "output_type": "stream",
     "text": [
      "/Users/sandragomes/.pyenv/versions/job_predictor-env/lib/python3.8/site-packages/spacy/util.py:275: UserWarning: [W031] Model 'en_training' (0.0.0) requires spaCy v2.1 and is incompatible with the current spaCy version (2.3.5). This may lead to unexpected results or runtime errors. To resolve this, download a newer compatible model or retrain your custom model with the current spaCy version. For more details and available updates, run: python -m spacy validate\n",
      "  warnings.warn(warn_msg)\n"
     ]
    },
    {
     "name": "stdout",
     "output_type": "stream",
     "text": [
      "Experience: ['Colombo, Sri Lanka', 'Dubai, U.A.E.', 'Randogne, Switzerland', '+41 76 294 80 06', 'Event Sales Trainee', 'Hyatt Regency Dubai & Galleria', 'Mar 2019 – Sep 2019', 'roshini.kalawila@lesroches.ch', 'shini_baloy', 'Filipino-Sri Lankan', '12 Dec 1998']; Skills: ['Networking', 'Contracts', 'Sales', 'Beverage', 'Powerpoint', 'Hospitality', 'Operations', 'Communication', 'French', 'Training', 'Os', 'System', 'Excel', 'Payroll', 'Word', 'Inventory', 'Windows', 'Administration', 'International', 'Marketing', 'Reports', 'Requests', 'English', 'Photography']\n"
     ]
    },
    {
     "name": "stderr",
     "output_type": "stream",
     "text": [
      "/Users/sandragomes/.pyenv/versions/job_predictor-env/lib/python3.8/site-packages/spacy/util.py:275: UserWarning: [W031] Model 'en_training' (0.0.0) requires spaCy v2.1 and is incompatible with the current spaCy version (2.3.5). This may lead to unexpected results or runtime errors. To resolve this, download a newer compatible model or retrain your custom model with the current spaCy version. For more details and available updates, run: python -m spacy validate\n",
      "  warnings.warn(warn_msg)\n"
     ]
    },
    {
     "name": "stdout",
     "output_type": "stream",
     "text": [
      "Experience: ['Waiter, Madinat Jumeirah, Dubai, UAE  |  September 2015 - July 2016', 'Assisted with service operations in catering events', 'Events Team, Ghaf Kitchen, Dubai, UAE   |  June 2017', 'Assisted with service operations as well as creating and setting up seating plans for the month of', 'Ramadan at Café Rider', 'Freelance Promoter, MMZ Sports, Dubai, UAE  |   December 2017 - March 2018', 'Supervised ADIB activation events organized by MMZ Sports during the Arabian Gulf League', 'Sales and Marketing Intern', 'Radisson Hitec City, Hyderabad, India (August 2016- January 2017)', '6-month internship that included a 2-month rotation in Front Office Operations', 'Pre-opening team for Chama Gaucha, the first churascaria in Hyderabad, India', 'Promoting F&B sales and marketing venues, and concept development for events']; Skills: ['Hotel', 'Hospitality', 'Operations', 'International', 'Sports', 'Analysis', 'Marketing', 'Communication', 'Strategy', 'Legal', 'Acquisition', 'English', 'Contracts', 'Sales', 'Excel', 'Hotels', 'Beverage']\n"
     ]
    },
    {
     "name": "stderr",
     "output_type": "stream",
     "text": [
      "/Users/sandragomes/.pyenv/versions/job_predictor-env/lib/python3.8/site-packages/spacy/util.py:275: UserWarning: [W031] Model 'en_training' (0.0.0) requires spaCy v2.1 and is incompatible with the current spaCy version (2.3.5). This may lead to unexpected results or runtime errors. To resolve this, download a newer compatible model or retrain your custom model with the current spaCy version. For more details and available updates, run: python -m spacy validate\n",
      "  warnings.warn(warn_msg)\n"
     ]
    },
    {
     "name": "stdout",
     "output_type": "stream",
     "text": [
      "Experience: None; Skills: []\n"
     ]
    },
    {
     "name": "stderr",
     "output_type": "stream",
     "text": [
      "/Users/sandragomes/.pyenv/versions/job_predictor-env/lib/python3.8/site-packages/spacy/util.py:275: UserWarning: [W031] Model 'en_training' (0.0.0) requires spaCy v2.1 and is incompatible with the current spaCy version (2.3.5). This may lead to unexpected results or runtime errors. To resolve this, download a newer compatible model or retrain your custom model with the current spaCy version. For more details and available updates, run: python -m spacy validate\n",
      "  warnings.warn(warn_msg)\n"
     ]
    },
    {
     "name": "stdout",
     "output_type": "stream",
     "text": [
      "Experience: None; Skills: ['Email']\n"
     ]
    },
    {
     "name": "stderr",
     "output_type": "stream",
     "text": [
      "/Users/sandragomes/.pyenv/versions/job_predictor-env/lib/python3.8/site-packages/spacy/util.py:275: UserWarning: [W031] Model 'en_training' (0.0.0) requires spaCy v2.1 and is incompatible with the current spaCy version (2.3.5). This may lead to unexpected results or runtime errors. To resolve this, download a newer compatible model or retrain your custom model with the current spaCy version. For more details and available updates, run: python -m spacy validate\n",
      "  warnings.warn(warn_msg)\n"
     ]
    },
    {
     "name": "stdout",
     "output_type": "stream",
     "text": [
      "Experience: None; Skills: ['Safety', 'Hospitality', 'Plan', 'Forecasting', 'R', 'Email', 'Inventory', 'Ordering', 'German']\n"
     ]
    }
   ],
   "source": [
    "# iterate over files in that directory\n",
    "\n",
    "for filename in directory_pdf:\n",
    "    try:\n",
    "        file = ResumeParser(filename).get_extracted_data()\n",
    "        print (f\"Experience: {file['experience']}; Skills: {file['skills']}\")\n",
    "    except:\n",
    "        print(\"An exception occurred - CV not read \")"
   ]
  },
  {
   "cell_type": "code",
   "execution_count": null,
   "id": "874d71d4",
   "metadata": {},
   "outputs": [],
   "source": []
  }
 ],
 "metadata": {
  "kernelspec": {
   "display_name": "Python 3 (ipykernel)",
   "language": "python",
   "name": "python3"
  },
  "language_info": {
   "codemirror_mode": {
    "name": "ipython",
    "version": 3
   },
   "file_extension": ".py",
   "mimetype": "text/x-python",
   "name": "python",
   "nbconvert_exporter": "python",
   "pygments_lexer": "ipython3",
   "version": "3.8.12"
  },
  "toc": {
   "base_numbering": 1,
   "nav_menu": {},
   "number_sections": true,
   "sideBar": true,
   "skip_h1_title": false,
   "title_cell": "Table of Contents",
   "title_sidebar": "Contents",
   "toc_cell": false,
   "toc_position": {},
   "toc_section_display": true,
   "toc_window_display": false
  }
 },
 "nbformat": 4,
 "nbformat_minor": 5
}
