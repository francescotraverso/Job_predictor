{
 "cells": [
  {
   "cell_type": "code",
   "execution_count": 1,
   "id": "8c49d463-dd7f-4499-86f3-e63f0656ae03",
   "metadata": {},
   "outputs": [],
   "source": [
    "import requests"
   ]
  },
  {
   "cell_type": "code",
   "execution_count": 25,
   "id": "1ab7ff2a-763b-46c4-998c-fac1f7c4f883",
   "metadata": {},
   "outputs": [
    {
     "data": {
      "text/plain": [
       "'http://localhost:8000/job_titles?describe_your_job=Application+of+digital+registration+and+graphic+representation+techniques+in+the+area+of+heritage%3A+digital+photography%2C+photogrammetry%2C+3D+modeling+and+vector+drawing.&area_choice=marketing'"
      ]
     },
     "execution_count": 25,
     "metadata": {},
     "output_type": "execute_result"
    }
   ],
   "source": [
    "url = 'http://localhost:8000/job_titles/'\n",
    "\n",
    "params = {\n",
    "    'describe_your_job': 'Application of digital registration and graphic representation techniques in the area of heritage: digital photography, photogrammetry, 3D modeling and vector drawing.',\n",
    "    'area_choice': 'marketing'\n",
    "}\n",
    "\n",
    "requests.get(url=url, params=params).url"
   ]
  },
  {
   "cell_type": "code",
   "execution_count": null,
   "id": "4ab42e53-4fa3-427f-9dd2-448611993f59",
   "metadata": {},
   "outputs": [],
   "source": []
  }
 ],
 "metadata": {
  "kernelspec": {
   "display_name": "Python 3 (ipykernel)",
   "language": "python",
   "name": "python3"
  },
  "language_info": {
   "codemirror_mode": {
    "name": "ipython",
    "version": 3
   },
   "file_extension": ".py",
   "mimetype": "text/x-python",
   "name": "python",
   "nbconvert_exporter": "python",
   "pygments_lexer": "ipython3",
   "version": "3.8.12"
  }
 },
 "nbformat": 4,
 "nbformat_minor": 5
}
