{
 "cells": [
  {
   "cell_type": "code",
   "execution_count": null,
   "id": "a0dd0cdd",
   "metadata": {},
   "outputs": [],
   "source": [
    "# imports\n",
    "from pyresparser import ResumeParser\n",
    "import glob"
   ]
  },
  {
   "cell_type": "code",
   "execution_count": null,
   "id": "6b0aa5a6",
   "metadata": {},
   "outputs": [],
   "source": [
    "# assign directory\n",
    "cv_dir = '../data/cv_directory'\n",
    "cv_dir"
   ]
  },
  {
   "cell_type": "code",
   "execution_count": 3,
   "id": "f258a189",
   "metadata": {},
   "outputs": [
    {
     "data": {
      "text/plain": [
       "['/Users/sandragomes/code/francescotraverso/job_predictor/data/cv_directory/Ayushi Sharma Resume.pdf',\n",
       " '/Users/sandragomes/code/francescotraverso/job_predictor/data/cv_directory/Wael Aboul Hosn-CV Updated.pdf',\n",
       " '/Users/sandragomes/code/francescotraverso/job_predictor/data/cv_directory/CV kizito (warning - shit).pdf',\n",
       " '/Users/sandragomes/code/francescotraverso/job_predictor/data/cv_directory/CV_Can Yarici.pdf',\n",
       " \"/Users/sandragomes/code/francescotraverso/job_predictor/data/cv_directory/Junaid's Resume.pdf\",\n",
       " '/Users/sandragomes/code/francescotraverso/job_predictor/data/cv_directory/Rahul Pawar CV.pdf',\n",
       " '/Users/sandragomes/code/francescotraverso/job_predictor/data/cv_directory/CV_Example.pdf',\n",
       " '/Users/sandragomes/code/francescotraverso/job_predictor/data/cv_directory/CV EuroAtlantic.pdf',\n",
       " '/Users/sandragomes/code/francescotraverso/job_predictor/data/cv_directory/Amrut Mehta CV.pdf',\n",
       " '/Users/sandragomes/code/francescotraverso/job_predictor/data/cv_directory/Roshini KALAWILA - CV IV.pdf',\n",
       " '/Users/sandragomes/code/francescotraverso/job_predictor/data/cv_directory/Ahsan Hamza - CV.pdf',\n",
       " '/Users/sandragomes/code/francescotraverso/job_predictor/data/cv_directory/Khaled Awadalla C.V_020 (cant be read).pdf',\n",
       " '/Users/sandragomes/code/francescotraverso/job_predictor/data/cv_directory/CV ibkar.pdf',\n",
       " '/Users/sandragomes/code/francescotraverso/job_predictor/data/cv_directory/Miheer Steward Das.pdf',\n",
       " '/Users/sandragomes/code/francescotraverso/job_predictor/data/cv_directory/CV waghmare.pdf',\n",
       " '/Users/sandragomes/code/francescotraverso/job_predictor/data/cv_directory/Michelle Ajwani Resume-2020.pdf',\n",
       " '/Users/sandragomes/code/francescotraverso/job_predictor/data/cv_directory/CV_Basic_2p.pdf',\n",
       " '/Users/sandragomes/code/francescotraverso/job_predictor/data/cv_directory/Scan Jul 8, 2020.pdf',\n",
       " '/Users/sandragomes/code/francescotraverso/job_predictor/data/cv_directory/CV gayatri.pdf',\n",
       " '/Users/sandragomes/code/francescotraverso/job_predictor/data/cv_directory/Anuja Jain.pdf',\n",
       " '/Users/sandragomes/code/francescotraverso/job_predictor/data/cv_directory/SHANTANU GHOSH_Resume.pdf',\n",
       " '/Users/sandragomes/code/francescotraverso/job_predictor/data/cv_directory/Shahriar Esmaeili CV.pdf',\n",
       " '/Users/sandragomes/code/francescotraverso/job_predictor/data/cv_directory/saidkocak_CV.pdf',\n",
       " '/Users/sandragomes/code/francescotraverso/job_predictor/data/cv_directory/Mohammed Faisal CV.pdf',\n",
       " '/Users/sandragomes/code/francescotraverso/job_predictor/data/cv_directory/Krishna Mirpuri CV Internship.pdf',\n",
       " '/Users/sandragomes/code/francescotraverso/job_predictor/data/cv_directory/Vimaldaz.pdf',\n",
       " '/Users/sandragomes/code/francescotraverso/job_predictor/data/cv_directory/Samuel John CV.pdf',\n",
       " '/Users/sandragomes/code/francescotraverso/job_predictor/data/cv_directory/Resume - Shezan.pdf',\n",
       " '/Users/sandragomes/code/francescotraverso/job_predictor/data/cv_directory/Francesco Traverso - Resume 2021.06.pdf',\n",
       " '/Users/sandragomes/code/francescotraverso/job_predictor/data/cv_directory/Updated+CV-Ismaeil.pdf',\n",
       " '/Users/sandragomes/code/francescotraverso/job_predictor/data/cv_directory/AbhinavDas_InternshalaResume.pdf']"
      ]
     },
     "execution_count": 3,
     "metadata": {},
     "output_type": "execute_result"
    }
   ],
   "source": [
    "directory_pdf = glob.glob(path+'/*.pdf')\n",
    "directory_pdf"
   ]
  },
  {
   "cell_type": "code",
   "execution_count": 7,
   "id": "2434be4f",
   "metadata": {},
   "outputs": [
    {
     "name": "stdout",
     "output_type": "stream",
     "text": [
      "Experience: ['from a premier University of Delhi. Concept creator in Media Marketing and carry out creative event', 'management skills, seeking a full-time position in the field of retail and marketing. While developing', 'strategies that drive products to success contains the challenge to keep me on my toes.', 'M A N A G E M E N T   S K I L L S', 'I N F O   &   C O N T A C T', 'Creative Design Strategy, Branding,\\xa0Event', 'Management, Content Marketing, Social Media', 'Marketing,\\xa0B2B Marketing,\\xa0Problem Solving,']; Skills: ['Research', 'Writing', 'Branding', 'Strategy', 'P', 'Design', 'Content', 'Communication', 'Engagement', 'Editorial', 'Website', 'Retail', 'Technical', 'Marketing materials', 'C', 'Brand', 'R', 'Product quality', 'Market research', 'Marketing', 'Presentations', 'English', 'Expenses']\n"
     ]
    },
    {
     "name": "stderr",
     "output_type": "stream",
     "text": [
      "/Users/sandragomes/.pyenv/versions/job_predictor-env/lib/python3.8/site-packages/spacy/util.py:275: UserWarning: [W031] Model 'en_training' (0.0.0) requires spaCy v2.1 and is incompatible with the current spaCy version (2.3.5). This may lead to unexpected results or runtime errors. To resolve this, download a newer compatible model or retrain your custom model with the current spaCy version. For more details and available updates, run: python -m spacy validate\n",
      "  warnings.warn(warn_msg)\n"
     ]
    },
    {
     "name": "stdout",
     "output_type": "stream",
     "text": [
      "Experience: ['- Involved in project estimations and worked closely with customers', '- Mentoring interns on Web APIs and SQL server']; Skills: ['Computer science', 'Research', 'Networking', 'Android', 'Cms', 'Mobile', 'Billing', 'Database', 'Sql', 'Html5', '.net', 'Java', 'Machine learning', 'Accounting', 'Design', 'Reporting', 'Mysql', 'Communication', 'Sdlc', 'Os', 'Linux', 'System', 'Customer service', 'Documentation', 'Usability', 'Real-time', 'Opencv', 'Algorithms', 'C', 'C#', 'Programming', 'Python', 'Windows', 'Lifecycle', 'Security', 'Php', 'Apis', 'Reports', 'Javascript', 'Legal']\n"
     ]
    },
    {
     "name": "stderr",
     "output_type": "stream",
     "text": [
      "/Users/sandragomes/.pyenv/versions/job_predictor-env/lib/python3.8/site-packages/spacy/util.py:275: UserWarning: [W031] Model 'en_training' (0.0.0) requires spaCy v2.1 and is incompatible with the current spaCy version (2.3.5). This may lead to unexpected results or runtime errors. To resolve this, download a newer compatible model or retrain your custom model with the current spaCy version. For more details and available updates, run: python -m spacy validate\n",
      "  warnings.warn(warn_msg)\n"
     ]
    },
    {
     "name": "stdout",
     "output_type": "stream",
     "text": [
      "Experience: None; Skills: []\n"
     ]
    },
    {
     "name": "stderr",
     "output_type": "stream",
     "text": [
      "/Users/sandragomes/.pyenv/versions/job_predictor-env/lib/python3.8/site-packages/spacy/util.py:275: UserWarning: [W031] Model 'en_training' (0.0.0) requires spaCy v2.1 and is incompatible with the current spaCy version (2.3.5). This may lead to unexpected results or runtime errors. To resolve this, download a newer compatible model or retrain your custom model with the current spaCy version. For more details and available updates, run: python -m spacy validate\n",
      "  warnings.warn(warn_msg)\n"
     ]
    },
    {
     "name": "stdout",
     "output_type": "stream",
     "text": [
      "Experience: ['PwC (December 2019- ): CC Team – Audit and Assurance Consultant (Internship)', 'Kingfisher Plc (August, 2017 / 2 month): Offers & Supply Chain – Group Junior Buyer', 'Merlin Entertainment (September, 2016 / 2 month)– Thorpe Park – Retail: Learned', 'customer service and upselling.', 'Arthur Sound Studio Shenzhen (2015 / Part time) – Recording, editing and problem', 'solving experience.']; Skills: ['Green', 'Economics', 'Mobile', 'Finance', 'Editing', 'Financial management', 'Accounting', 'Powerpoint', 'Financial statements', 'Operations', 'Access', 'Supply chain', 'Cad', 'Retail', 'Excel', 'Customer service', 'Analytics', 'Sourcing', 'Word', 'Purchasing', 'Photoshop', 'Outsourcing', 'International', 'Analysis', 'Psychology', 'Audit', 'English', 'Data analytics', 'Illustrator']\n"
     ]
    },
    {
     "name": "stderr",
     "output_type": "stream",
     "text": [
      "/Users/sandragomes/.pyenv/versions/job_predictor-env/lib/python3.8/site-packages/spacy/util.py:275: UserWarning: [W031] Model 'en_training' (0.0.0) requires spaCy v2.1 and is incompatible with the current spaCy version (2.3.5). This may lead to unexpected results or runtime errors. To resolve this, download a newer compatible model or retrain your custom model with the current spaCy version. For more details and available updates, run: python -m spacy validate\n",
      "  warnings.warn(warn_msg)\n"
     ]
    },
    {
     "name": "stdout",
     "output_type": "stream",
     "text": [
      "Experience: ['\\uf0b7  Replenish stock of items in hotel rooms', '\\uf0b7  Monitor rooms for general repairs and upkeep', 'Inspect guest rooms prior to checking in', '\\uf0b7', '\\uf0b7  Accommodate requests by guests for extra towels, ice bucket, pillows', 'and blankets', 'QUALIFICATIONS', 'Graduate Diploma in Hospitality & Tourism Management', 'COLLEGE OF TOURISM & HOTEL MANAGEMENT - COTHM, ISLMABAD,', 'PAKISTAN', '2016 – 17', 'Coursework: Hospitality & Tourism Management, F&B Operations, H&T Marketing,', 'Mastering Communications, Front Office Operations, Human Resources, Accounting', 'Intermediate in Commerce (HSSC)', 'SUPERIOR COLLEGE, BUREWALA, PAKISTAN', '2014 – 2016', 'Matriculation in Science (SSC)', 'DIVISIONAL PUBLIC SCHOOL, BUREWALA, PAKISTAN', '2011 – 2013']; Skills: ['Hotel', 'Social media', 'Research', 'Mobile', 'Sales', 'Accounting', 'Beverage', 'Powerpoint', 'Hospitality', 'Operations', 'Repairs', 'Communication', 'Excel', 'Presentation', 'Falcon', 'Email', 'Word', 'Hotels', 'Human resources', 'Marketing', 'Requests', 'English']\n"
     ]
    },
    {
     "name": "stderr",
     "output_type": "stream",
     "text": [
      "/Users/sandragomes/.pyenv/versions/job_predictor-env/lib/python3.8/site-packages/spacy/util.py:275: UserWarning: [W031] Model 'en_training' (0.0.0) requires spaCy v2.1 and is incompatible with the current spaCy version (2.3.5). This may lead to unexpected results or runtime errors. To resolve this, download a newer compatible model or retrain your custom model with the current spaCy version. For more details and available updates, run: python -m spacy validate\n",
      "  warnings.warn(warn_msg)\n"
     ]
    },
    {
     "name": "stdout",
     "output_type": "stream",
     "text": [
      "Experience: None; Skills: ['Research', 'Seo', 'Strategy', 'Finance', 'P', 'Database', 'Sales', 'Design', 'Fitness', 'Video', 'Healthcare', 'Website', 'Analytics', 'C', 'R', 'Email', 'Marketing', 'Analysis', 'Health', 'Facebook']\n"
     ]
    },
    {
     "name": "stderr",
     "output_type": "stream",
     "text": [
      "/Users/sandragomes/.pyenv/versions/job_predictor-env/lib/python3.8/site-packages/spacy/util.py:275: UserWarning: [W031] Model 'en_training' (0.0.0) requires spaCy v2.1 and is incompatible with the current spaCy version (2.3.5). This may lead to unexpected results or runtime errors. To resolve this, download a newer compatible model or retrain your custom model with the current spaCy version. For more details and available updates, run: python -m spacy validate\n",
      "  warnings.warn(warn_msg)\n"
     ]
    },
    {
     "name": "stdout",
     "output_type": "stream",
     "text": [
      "Experience: ['Management Consulting in FREESCG - Food Consultant', '- Management consultancy specialized in food & beverage', '- Consulting services for restaurants, bars and similar', '- Project developed with specialization to each client through a diagnosis and an action plan put', 'into practice, with analysis of the obtained results', '- Areas of expertise: Financial, Logistics, Human Resources, Marketing, Administrative Backoffice,', 'Production and Operation', 'Analysis and Management of Purchasing and Logistics in MADPIZZA', '- Evaluation, restructuring and monitoring of existing logistics department', '- Establish two-way communication procedures with an emphasis on motivation and teamwork', '- Consumption forecast', '- Supplier assessment, prospecting and monitoring', '- Settle divergences or create quick solutions', '- Creation of new work tools', '- Supply chain assessment and identification of improvement points', '- Supervision of stock and orders of each cost center in order to reduce inventory costs', '- Order Validation by Point of Sale', '- Ensure permanent inventory maintenance: controlling stock levels and stock replenishment', 'Food and Beverage Controller', '- Food & Beverage Performance Monitoring', '- Cost Control', '- Inventory Tracking', '- Identification of operational, financial and logistic improvement points (Lean)', '- Apply performance indicators', '- Periodic Reporting']; Skills: ['Human resources', 'Consulting', 'Improvement', 'Marketing', 'Analysis', 'Purchasing', 'Prospecting', 'Plan', 'Lean', 'Reporting', 'Communication', 'English', 'Word', 'Inventory', 'Logistics', 'Beverage', 'Excel']\n"
     ]
    },
    {
     "name": "stderr",
     "output_type": "stream",
     "text": [
      "/Users/sandragomes/.pyenv/versions/job_predictor-env/lib/python3.8/site-packages/spacy/util.py:275: UserWarning: [W031] Model 'en_training' (0.0.0) requires spaCy v2.1 and is incompatible with the current spaCy version (2.3.5). This may lead to unexpected results or runtime errors. To resolve this, download a newer compatible model or retrain your custom model with the current spaCy version. For more details and available updates, run: python -m spacy validate\n",
      "  warnings.warn(warn_msg)\n"
     ]
    },
    {
     "name": "stdout",
     "output_type": "stream",
     "text": [
      "Experience: None; Skills: ['Email', 'International', 'Matlab', 'Spanish', 'Programming', 'Engineering', 'English', 'Python']\n"
     ]
    },
    {
     "name": "stderr",
     "output_type": "stream",
     "text": [
      "/Users/sandragomes/.pyenv/versions/job_predictor-env/lib/python3.8/site-packages/spacy/util.py:275: UserWarning: [W031] Model 'en_training' (0.0.0) requires spaCy v2.1 and is incompatible with the current spaCy version (2.3.5). This may lead to unexpected results or runtime errors. To resolve this, download a newer compatible model or retrain your custom model with the current spaCy version. For more details and available updates, run: python -m spacy validate\n",
      "  warnings.warn(warn_msg)\n"
     ]
    },
    {
     "name": "stdout",
     "output_type": "stream",
     "text": [
      "Experience: ['Little \\xa0Italy \\xa0Group \\xa0of \\xa0Restaurants, \\xa0India', 'Duration \\xa0– \\xa02 \\xa0Years \\xa02017-\\xad2019', 'Departments \\xa0–Operations \\xa0and \\xa0Marketing', 'Role \\xa0– \\xa0Director', 'Marta’s \\xa0Kitchen, \\xa0Dubai', 'Duration \\xa0– \\xa02 \\xa0years \\xa02015-\\xad2017', 'Departments \\xa0-\\xadFood \\xa0and \\xa0Beverage \\xa0Service', 'Role \\xa0–Part \\xa0time \\xa0Waiter', 'Dish \\xa0Catering, \\xa0Dubai', 'Duration \\xa0– \\xa02 \\xa0years', 'Duration \\xa0– \\xa02 \\xa0years \\xa02015-\\xad2017', 'Departments \\xa0-\\xadFood \\xa0and \\xa0Beverage \\xa0Service', 'Role \\xa0–Part \\xa0time \\xa0Waiter', 'Senara, \\xa0Dubai', 'Duration \\xa0– \\xa02 \\xa0years \\xa02015-\\xad2017', 'Departments \\xa0– \\xa0Food \\xa0and \\xa0Beverage \\xa0Service', 'Role \\xa0– \\xa0Bartender \\xa0and \\xa0Head \\xa0Waiter', 'J.W \\xa0Marriott, \\xa0Pune', 'Duration \\xa0– \\xa020 \\xa0weeks \\xa0between \\xa0July \\xa02014 \\xa0– \\xa0December \\xa02014', 'Departments \\xa0-\\xadFood \\xa0and \\xa0Beverage \\xa0Service \\xa0and \\xa0Front \\xa0Office \\xa0Operations', 'Role \\xa0– \\xa0Industrial \\xa0Trainee', 'On the Job Training at All American diner, Lavasa.', 'Duration – 10 sessions of 8 hours each split between kitchen and service between January and', 'May 2014', 'Role -Trainee', 'Languages', 'English, German, French (Basic), Marathi,  Hindi', 'Little Italy Group of restaurants India', 'Duration- 2 years 2013-2015', 'Role - Project Manager, Marketing and Operations manager', 'Little Italy Group of restaurants India', 'Duration- 1 years 2012-2013', 'Role – Management Training Program', 'ACHIEVEMENTS', 'Completed Trinity Speech and Drama and Choral Speaking examinations levels 2,3 and 4', 'Participated in the Rotary Youth Exchange program to Germany in the year 2011-2012', 'Part of one of the 5 finalist teams in the Accor Take Off Challenge 2015', 'Successfully operated a canteen at the Beach Canteen for the Dubai Food Festival 2016', 'Part of the team hosting VIP dinner for Donald Trump at JW Marriott, Pune', 'VIP Table host at Sensation Dubai 2016', 'Personal Bartender for Drake at Formula one concerts at Du Arena', 'Preopening team for Little Italy restaurants in Mumbai, Pune, Bangalore and Bangkok', 'Conceptualizing a new Menu at Little Italy Group of Restaurants', 'Launch of Akss- Modern Indian restaurant in Dubai and Bangalore', 'HOBBIES', 'Football , Music and Travelling']; Skills: ['Hospitality', 'Operations', 'Marketing', 'Industry experience', 'French', 'Mobile', 'Training', 'German', 'English', 'Email', 'Beverage']\n"
     ]
    },
    {
     "name": "stderr",
     "output_type": "stream",
     "text": [
      "/Users/sandragomes/.pyenv/versions/job_predictor-env/lib/python3.8/site-packages/spacy/util.py:275: UserWarning: [W031] Model 'en_training' (0.0.0) requires spaCy v2.1 and is incompatible with the current spaCy version (2.3.5). This may lead to unexpected results or runtime errors. To resolve this, download a newer compatible model or retrain your custom model with the current spaCy version. For more details and available updates, run: python -m spacy validate\n",
      "  warnings.warn(warn_msg)\n"
     ]
    },
    {
     "name": "stdout",
     "output_type": "stream",
     "text": [
      "Experience: ['Colombo, Sri Lanka', 'Dubai, U.A.E.', 'Randogne, Switzerland', '+41 76 294 80 06', 'Event Sales Trainee', 'Hyatt Regency Dubai & Galleria', 'Mar 2019 – Sep 2019', 'roshini.kalawila@lesroches.ch', 'shini_baloy', 'Filipino-Sri Lankan', '12 Dec 1998']; Skills: ['Networking', 'Contracts', 'Sales', 'Beverage', 'Powerpoint', 'Hospitality', 'Operations', 'Communication', 'French', 'Training', 'Os', 'System', 'Excel', 'Payroll', 'Word', 'Inventory', 'Windows', 'Administration', 'International', 'Marketing', 'Reports', 'Requests', 'English', 'Photography']\n"
     ]
    },
    {
     "name": "stderr",
     "output_type": "stream",
     "text": [
      "/Users/sandragomes/.pyenv/versions/job_predictor-env/lib/python3.8/site-packages/spacy/util.py:275: UserWarning: [W031] Model 'en_training' (0.0.0) requires spaCy v2.1 and is incompatible with the current spaCy version (2.3.5). This may lead to unexpected results or runtime errors. To resolve this, download a newer compatible model or retrain your custom model with the current spaCy version. For more details and available updates, run: python -m spacy validate\n",
      "  warnings.warn(warn_msg)\n"
     ]
    },
    {
     "name": "stdout",
     "output_type": "stream",
     "text": [
      "Experience: ['Waiter, Madinat Jumeirah, Dubai, UAE  |  September 2015 - July 2016', 'Assisted with service operations in catering events', 'Events Team, Ghaf Kitchen, Dubai, UAE   |  June 2017', 'Assisted with service operations as well as creating and setting up seating plans for the month of', 'Ramadan at Café Rider', 'Freelance Promoter, MMZ Sports, Dubai, UAE  |   December 2017 - March 2018', 'Supervised ADIB activation events organized by MMZ Sports during the Arabian Gulf League', 'Sales and Marketing Intern', 'Radisson Hitec City, Hyderabad, India (August 2016- January 2017)', '6-month internship that included a 2-month rotation in Front Office Operations', 'Pre-opening team for Chama Gaucha, the first churascaria in Hyderabad, India', 'Promoting F&B sales and marketing venues, and concept development for events']; Skills: ['Hotel', 'Hospitality', 'Operations', 'International', 'Sports', 'Analysis', 'Marketing', 'Communication', 'Strategy', 'Legal', 'Acquisition', 'English', 'Contracts', 'Sales', 'Excel', 'Hotels', 'Beverage']\n"
     ]
    },
    {
     "name": "stderr",
     "output_type": "stream",
     "text": [
      "/Users/sandragomes/.pyenv/versions/job_predictor-env/lib/python3.8/site-packages/spacy/util.py:275: UserWarning: [W031] Model 'en_training' (0.0.0) requires spaCy v2.1 and is incompatible with the current spaCy version (2.3.5). This may lead to unexpected results or runtime errors. To resolve this, download a newer compatible model or retrain your custom model with the current spaCy version. For more details and available updates, run: python -m spacy validate\n",
      "  warnings.warn(warn_msg)\n"
     ]
    },
    {
     "name": "stdout",
     "output_type": "stream",
     "text": [
      "Experience: None; Skills: []\n"
     ]
    },
    {
     "name": "stderr",
     "output_type": "stream",
     "text": [
      "/Users/sandragomes/.pyenv/versions/job_predictor-env/lib/python3.8/site-packages/spacy/util.py:275: UserWarning: [W031] Model 'en_training' (0.0.0) requires spaCy v2.1 and is incompatible with the current spaCy version (2.3.5). This may lead to unexpected results or runtime errors. To resolve this, download a newer compatible model or retrain your custom model with the current spaCy version. For more details and available updates, run: python -m spacy validate\n",
      "  warnings.warn(warn_msg)\n"
     ]
    },
    {
     "name": "stdout",
     "output_type": "stream",
     "text": [
      "Experience: None; Skills: ['Email']\n"
     ]
    },
    {
     "name": "stderr",
     "output_type": "stream",
     "text": [
      "/Users/sandragomes/.pyenv/versions/job_predictor-env/lib/python3.8/site-packages/spacy/util.py:275: UserWarning: [W031] Model 'en_training' (0.0.0) requires spaCy v2.1 and is incompatible with the current spaCy version (2.3.5). This may lead to unexpected results or runtime errors. To resolve this, download a newer compatible model or retrain your custom model with the current spaCy version. For more details and available updates, run: python -m spacy validate\n",
      "  warnings.warn(warn_msg)\n"
     ]
    },
    {
     "name": "stdout",
     "output_type": "stream",
     "text": [
      "Experience: None; Skills: ['Safety', 'Hospitality', 'Plan', 'Forecasting', 'R', 'Email', 'Inventory', 'Ordering', 'German']\n"
     ]
    },
    {
     "name": "stderr",
     "output_type": "stream",
     "text": [
      "/Users/sandragomes/.pyenv/versions/job_predictor-env/lib/python3.8/site-packages/spacy/util.py:275: UserWarning: [W031] Model 'en_training' (0.0.0) requires spaCy v2.1 and is incompatible with the current spaCy version (2.3.5). This may lead to unexpected results or runtime errors. To resolve this, download a newer compatible model or retrain your custom model with the current spaCy version. For more details and available updates, run: python -m spacy validate\n",
      "  warnings.warn(warn_msg)\n"
     ]
    },
    {
     "name": "stdout",
     "output_type": "stream",
     "text": [
      "Experience: ['Transcend Restaurants Pvt. Ltd.', 'ASSISTANT MANAGER – FOOD SAFETY & HYGIENE', 'Hyderabad, Telangana', 'Nov’2019 – Present', '\\uf0b7  The preparation of SO Ps, working out for cleaning & sanitation schedules and their implementation along with', 'stewards, kitchen s taff training (kitchen, service, mai ntenance and hous ekeeping).', '\\uf0b7  Development and implementatio n of applicable food safety policies and related SOPs.', '\\uf0b7  Development of HACCP & FSM S plan and implementation as per SOPs .', '\\uf0b7', '\\uf0b7  To provide training in all aspects of Quality Management System, ISO, BRC, HACCP, GMP, GHP, including procedural', 'Inspected & recommended improvements in the designing & layouts of the pre -opening restaurants.', 'updates as per pl an and evaluation of training.', '\\uf0b7  Monitor and check the personal hygiene conditions & working habits of the staff.', '\\uf0b7  Ensuring Food Hy giene and Sanitation SOP’s at all production areas, dishwashing utilities, receiving and storage', 'areas.', '\\uf0b7  Ensures the temperature of refrigerators and freezers are up to the standard.', '\\uf0b7  Conducting Supplier audits.', '\\uf0b7  Conducting daily inspection regarding hy giene and sanitation conditions of all production, storage areas etc.', '\\uf0b7  Conducting in house audits including dry store.', '\\uf0b7  Evaluate the corrective actions taken for the non-conformance noted during the audi ts.', '\\uf0b7  Manage and maintai n an effective pest control system.', '\\uf0b7  To provide direct support during regulatory, customer and 3rd party audi ts.', '\\uf0b7  Manage and maintai n a satisfactory was te dispos al system.', '\\uf0b7  Responsible for review and follow up on Food Tes ting (i nclude Food, Water and Ice).', '\\uf0b7  Manage and review food complaints effectively.', '\\uf0b7  Ensure the top management is fully aware of high risk areas for the food-borne illness.', '\\uf0b7', 'Implementation of CAPA to eliminate the root causes of poor quality & safety issues.', '\\uf0b7  Coordinating with Production, Operation & Mai ntenance department to impl ement prev entive and corrective', 'actions & maintenance.', 'Solving all the problems /issues related to food safety and Quality Assurance.', '\\uf0b7', 'Massive Restaurants Pvt. Ltd.', 'FOOD SAFETY OFFICER', 'Hyderabad, Telangana', 'Dec’2017 – Sept’2019', '\\uf0b7', '\\uf0b7', '\\uf0b7', '\\uf0b7', '\\uf0b7', '\\uf0b7', '\\uf0b7', '\\uf0b7', '\\uf0b7', '\\uf0b7', 'Advises and supervises food handl ers on the proper food handling practices and ensures their observance.', 'Identifies key areas of risk in various food operations for early remedial actions.', 'Implementation of HACCP.', 'Ensures compliance wi th food and hygi ene regul ations, licensing conditions and codes of practice relating to food', 'businesses.', 'Acts as a focal point of contact wi th the Food & Environment Hy giene Department (FEHD).', 'Provides technical advice on product labeling issues for fulfilling government requirements.', 'Provides in-house food hygiene training for all the food handlers, (e.g. new hires and trainees).', 'Handling complai nts or inquiri es from customers on food hygiene matters.', 'Supporting Production and O peration department at various Quality related activities .', 'Preparation of all QA reports related to Kitchen, Store and Restaurant.', '\\uf0b7', '\\uf0b7', '\\uf0b7', '\\uf0b7', '\\uf0b7', '\\uf0b7', '\\uf0b7', 'Conducts daily kitchen inspections on the personal, environmental and food hygiene conditions and provides a', 'corrective action plan and keeps records on the findings.', 'Checks daily cleaning status in kitchens with respective kitchen managers and stewarding.', 'Ensures the temperature of refrigerators and freezers are up to the standard.', 'Coordinates microbial food tests with kitchens and laboratory in case of new products /suppliers and suspected', 'food borne illness complaints.', 'Conducts monthly vendor ins pection with the Purchasing and Executive Chef.', 'Conducts monthly internal inspection with Executive Chef and Stewardi ng.', 'Conducts monthly TOP 5 kitchen/equipment condition inspection, and identify non -conformities /defects with the', 'Engineeri ng/maintenance.', 'Liaises with Pest Control Company for any pest issues in the operations, and reviews the pest control performance.', '\\uf0b7', '\\uf0b7  Maintains and makes improv ements to hygiene standards.', '\\uf0b7  Maintains documentation on all hygiene and food safety standards throughout the operation.', '\\uf0b7  Works closely with the Learning team and conducts Great Food Safe Food Training sessions to al l food handlers.', '\\uf0b7', '\\uf0b7  Maintain documents/records applicable to above activities and as per QMS requirements.', 'Regularly review and refresh the food safety standards of all food handlers wi thin the premises.', 'ChefTalk Food & Hospitality Services Pvt. Ltd.', 'Hyderabad, Telangana', 'Jun’2017 – Dec’2017', 'HSEQ OFFICER', '\\uf0b7  Conduct food safety audits at site to measure the food safety progress of site.', '\\uf0b7  To handle the review process for all Food safety (ISO 22000), FSSAI, HACCP, GMP, GHP, 5S.', '\\uf0b7  To maintain HSEQ policies & were adhered with food safety and process.', '\\uf0b7  To ensure adherence to food laws & relevant statutory gui deline.', '\\uf0b7  Daily monitoring of personnel hygi ene and of all Walk-i ns, kitchens & equipment.', '\\uf0b7  Hygiene and Food Safety training to food handlers. Prepared Quality SOPs, Polices, and Formats etc. for', 'standardizing the process.', '\\uf0b7  Report food safety concerns and take appropriate steps as per the hygi ene & food safety policy. Maintaine d', 'database, manuals, and records to generate accurate reporting data.', '\\uf0b7  To ensure Food safety & quality awareness by conducting quality and food safety traini ng to management and', 'operational staff.', '\\uf0b7  To undertake continuous improvement activities, auditi ng and coaching.', '\\uf0b7  Represented Cheftalk at all times in a professional and ethical manner.', '\\uf0b7  To prepare monthly progress reports of audits and all related to ISO 22000 & FSSAI.', '\\uf0b7  To handle responsibility for making a module report for food s afety procedures.', '\\uf0b7', '\\uf0b7  To handle responsibility for conducting audi ts at v endor site as well as at site location.', '\\uf0b7  To monitor of Pes t Control activities.', 'Inspecting Stores & Walk-Ins for FIFO, Best Before.']; Skills: ['Safety', 'Updates', 'P', 'Process', 'Database', 'Quality assurance', 'Hospitality', 'Operations', 'Reporting', 'Communication', 'Training', 'Analytical', 'Compliance', 'Schedules', 'Licensing', 'System', 'Quality standards', 'Regulatory', 'Documentation', 'Improvement', 'Technical', 'Coaching', 'Purchasing', 'Iso', 'Distribution', 'Plan', 'Sops', 'Reports', 'Policies']\n"
     ]
    },
    {
     "name": "stderr",
     "output_type": "stream",
     "text": [
      "/Users/sandragomes/.pyenv/versions/job_predictor-env/lib/python3.8/site-packages/spacy/util.py:275: UserWarning: [W031] Model 'en_training' (0.0.0) requires spaCy v2.1 and is incompatible with the current spaCy version (2.3.5). This may lead to unexpected results or runtime errors. To resolve this, download a newer compatible model or retrain your custom model with the current spaCy version. For more details and available updates, run: python -m spacy validate\n",
      "  warnings.warn(warn_msg)\n"
     ]
    },
    {
     "name": "stdout",
     "output_type": "stream",
     "text": [
      "Experience: None; Skills: []\n"
     ]
    },
    {
     "name": "stderr",
     "output_type": "stream",
     "text": [
      "/Users/sandragomes/.pyenv/versions/job_predictor-env/lib/python3.8/site-packages/spacy/util.py:275: UserWarning: [W031] Model 'en_training' (0.0.0) requires spaCy v2.1 and is incompatible with the current spaCy version (2.3.5). This may lead to unexpected results or runtime errors. To resolve this, download a newer compatible model or retrain your custom model with the current spaCy version. For more details and available updates, run: python -m spacy validate\n",
      "  warnings.warn(warn_msg)\n"
     ]
    },
    {
     "name": "stdout",
     "output_type": "stream",
     "text": [
      "Experience: ['Management Consulting in FREESCG - Food Consultant', '- Management consultancy specialized in food & beverage', '- Consulting services for restaurants, bars and similar', '- Project developed with specialization to each client through a diagnosis and an action plan put', 'into practice, with analysis of the obtained results', '- Areas of expertise: Financial, Logistics, Human Resources, Marketing, Administrative Backoffice,', 'Production and Operation', 'Analysis and Management of Purchasing and Logistics in MADPIZZA', '- Evaluation, restructuring and monitoring of existing logistics department', '- Establish two-way communication procedures with an emphasis on motivation and teamwork', '- Consumption forecast', '- Supplier assessment, prospecting and monitoring', '- Settle divergences or create quick solutions', '- Creation of new work tools', '- Supply chain assessment and identification of improvement points', '- Supervision of stock and orders of each cost center in order to reduce inventory costs', '- Order Validation by Point of Sale', '- Ensure permanent inventory maintenance: controlling stock levels and stock replenishment', 'Food and Beverage Controller', '- Food & Beverage Performance Monitoring', '- Cost Control', '- Inventory Tracking', '- Identification of operational, financial and logistic improvement points (Lean)', '- Apply performance indicators', '- Periodic Reporting']; Skills: ['Human resources', 'Consulting', 'Improvement', 'Marketing', 'Analysis', 'Purchasing', 'Prospecting', 'Plan', 'Lean', 'Reporting', 'Communication', 'English', 'Word', 'Inventory', 'Logistics', 'Beverage', 'Excel']\n"
     ]
    },
    {
     "name": "stderr",
     "output_type": "stream",
     "text": [
      "/Users/sandragomes/.pyenv/versions/job_predictor-env/lib/python3.8/site-packages/spacy/util.py:275: UserWarning: [W031] Model 'en_training' (0.0.0) requires spaCy v2.1 and is incompatible with the current spaCy version (2.3.5). This may lead to unexpected results or runtime errors. To resolve this, download a newer compatible model or retrain your custom model with the current spaCy version. For more details and available updates, run: python -m spacy validate\n",
      "  warnings.warn(warn_msg)\n"
     ]
    },
    {
     "name": "stdout",
     "output_type": "stream",
     "text": [
      "Experience: ['•', '10th  November,  2016  - 21 st  April  2017  -', 'India', \"'\", 'Industrial  Exposure  Training  - TaJ  Exotica,  Goa,', '•  October,  2015  - December,  2015  - On  The  Job  Training  - Indlsmart,  Kolkata,  Ind!a', '•  Completed  my Industrial Training  In  Food  &  Beverage,  Food  Production,  Front  Office.', 'Organising  things  - at school,  college,  university,  local  community.', 'Achievement', '•  Organized  events  with  an  average  footfall  of 2000+  people  for school  during  different events.', '•  Represented  school  in  Karate  and  taken  part in  many  Dance  events.']; Skills: ['Hotel', 'Hospitality', 'Administration', 'International', 'Sports', 'Training', 'Analytical', 'R', 'Email', 'Beverage']\n"
     ]
    },
    {
     "name": "stderr",
     "output_type": "stream",
     "text": [
      "/Users/sandragomes/.pyenv/versions/job_predictor-env/lib/python3.8/site-packages/spacy/util.py:275: UserWarning: [W031] Model 'en_training' (0.0.0) requires spaCy v2.1 and is incompatible with the current spaCy version (2.3.5). This may lead to unexpected results or runtime errors. To resolve this, download a newer compatible model or retrain your custom model with the current spaCy version. For more details and available updates, run: python -m spacy validate\n",
      "  warnings.warn(warn_msg)\n"
     ]
    },
    {
     "name": "stdout",
     "output_type": "stream",
     "text": [
      "Experience: ['Media manager', 'Thousand pines hospitality', 'Marketing intern', 'Arthashastra', 'This is the Description panel for the job description and to write your', 'responsibilities in respective orginization', 'PR and social media manager for Sukoon, The', 'village amanora', 'The anonymous click', 'This is the Description panel for the job description and to write your', 'responsibilities in respective orginization', 'Name cannot be disclosed as per the contract', 'Content writer for a travel website', 'This is the Description panel for the job description and to write your', 'responsibilities in respective orginization', 'Social media manager for college', 'MIT ISBJ', 'This is the Description panel for the job description and to write your', 'responsibilities in respective orginization']; Skills: ['Hospitality', 'Pr', 'Click', 'Social media', 'Content', 'Marketing', 'International', 'Writing', 'Video', 'Journalism', 'Communication', 'Mobile', 'English', 'Email', 'Website', 'Travel']\n"
     ]
    },
    {
     "name": "stderr",
     "output_type": "stream",
     "text": [
      "/Users/sandragomes/.pyenv/versions/job_predictor-env/lib/python3.8/site-packages/spacy/util.py:275: UserWarning: [W031] Model 'en_training' (0.0.0) requires spaCy v2.1 and is incompatible with the current spaCy version (2.3.5). This may lead to unexpected results or runtime errors. To resolve this, download a newer compatible model or retrain your custom model with the current spaCy version. For more details and available updates, run: python -m spacy validate\n",
      "  warnings.warn(warn_msg)\n"
     ]
    },
    {
     "name": "stdout",
     "output_type": "stream",
     "text": [
      "Experience: None; Skills: ['Research', 'Tax', 'Financing', 'International', 'Analysis', 'Cfa', 'Mobile', 'Training', 'Banking', 'Finance', 'English', 'Audit', 'Email', 'Accounting', 'Erp']\n"
     ]
    },
    {
     "name": "stderr",
     "output_type": "stream",
     "text": [
      "/Users/sandragomes/.pyenv/versions/job_predictor-env/lib/python3.8/site-packages/spacy/util.py:275: UserWarning: [W031] Model 'en_training' (0.0.0) requires spaCy v2.1 and is incompatible with the current spaCy version (2.3.5). This may lead to unexpected results or runtime errors. To resolve this, download a newer compatible model or retrain your custom model with the current spaCy version. For more details and available updates, run: python -m spacy validate\n",
      "  warnings.warn(warn_msg)\n"
     ]
    },
    {
     "name": "stdout",
     "output_type": "stream",
     "text": [
      "Experience: ['GroupM ESP- Business Director', 'Sep’16 till present', 'Sports sponsorship/ Marketing', '•', '•  Brand sponsorship- films', '•', 'Client servicing and execution', 'Papa John’s Pizza- Head Marketing', 'Nov’15 till May’16', 'Set up the Digital and PR Agency', '•', '•  Marketing strategy & planning', '•  New city launch and store launches', 'Mad Over Donuts- DGM Marketing', 'Jun’14 till Nov’15', 'Sales, communications and PR', '•', '•  New Product Launches', 'McDonald’s India- Sr. Manager', 'Oct’08 till Jun’14', 'Life Philosophy', '“Success is getting what you want. Happiness is liking', 'what you get”', 'Successfully handled deals on IPL and India Cricket', 'Most Proud Of', '•', '•  Nominated for best city launch in McD', '•', 'Successful product launches in MOD', '•  Was acknowledged for sales achievement in Pidilite', '•  New  Business  Channel  lead  for  marketing  for  Home', 'Delivery, Breakfast and Dessert Kiosk', 'Local Sales Market lead for the Indian Market', '•', 'Strengths', 'Team Player • Logic Driven • Motivator', 'Pidilite Industries- Section Head Mktg', 'Nov’07 till Oct’08', '•  Brand Manager for Art and Stationary brands', '•  Handling Sales and Product Development', 'Reliance Communications- Dy. Manager MARCOM', 'Mar’06 till Nov’07', '•', 'Communication of Prepaid, Post-paid and FWP', 'Rediffusion DY&R – Account Executive', 'May’05 till Mar’06', '•', 'Client Servicing for Tata group viz Tata Motors & Taj Hotels', 'Optimum Media Solutions- Media Planner', 'Jun ’04 till Apr’05', '•  Media planner for PSU clients- LIC, HPCL & Air India', 'Consumer Centric • Digital Marketing • Insight Provider']; Skills: ['Pr', 'Sports', 'Marketing', 'Digital marketing', 'Communication', 'Strategy', 'Brand', 'Sales', 'Hotels', 'Marketing strategy']\n"
     ]
    },
    {
     "name": "stderr",
     "output_type": "stream",
     "text": [
      "/Users/sandragomes/.pyenv/versions/job_predictor-env/lib/python3.8/site-packages/spacy/util.py:275: UserWarning: [W031] Model 'en_training' (0.0.0) requires spaCy v2.1 and is incompatible with the current spaCy version (2.3.5). This may lead to unexpected results or runtime errors. To resolve this, download a newer compatible model or retrain your custom model with the current spaCy version. For more details and available updates, run: python -m spacy validate\n",
      "  warnings.warn(warn_msg)\n"
     ]
    },
    {
     "name": "stdout",
     "output_type": "stream",
     "text": [
      "Experience: None; Skills: ['Marketing', 'Sales']\n"
     ]
    },
    {
     "name": "stderr",
     "output_type": "stream",
     "text": [
      "/Users/sandragomes/.pyenv/versions/job_predictor-env/lib/python3.8/site-packages/spacy/util.py:275: UserWarning: [W031] Model 'en_training' (0.0.0) requires spaCy v2.1 and is incompatible with the current spaCy version (2.3.5). This may lead to unexpected results or runtime errors. To resolve this, download a newer compatible model or retrain your custom model with the current spaCy version. For more details and available updates, run: python -m spacy validate\n",
      "  warnings.warn(warn_msg)\n"
     ]
    },
    {
     "name": "stdout",
     "output_type": "stream",
     "text": [
      "Experience: None; Skills: ['Product design', 'Plan', 'Architecture', 'Photoshop', 'Algorithms', 'Programming', 'Autocad', 'Installation', 'English', 'Illustrator', 'Design', 'Construction']\n"
     ]
    },
    {
     "name": "stderr",
     "output_type": "stream",
     "text": [
      "/Users/sandragomes/.pyenv/versions/job_predictor-env/lib/python3.8/site-packages/spacy/util.py:275: UserWarning: [W031] Model 'en_training' (0.0.0) requires spaCy v2.1 and is incompatible with the current spaCy version (2.3.5). This may lead to unexpected results or runtime errors. To resolve this, download a newer compatible model or retrain your custom model with the current spaCy version. For more details and available updates, run: python -m spacy validate\n",
      "  warnings.warn(warn_msg)\n"
     ]
    },
    {
     "name": "stdout",
     "output_type": "stream",
     "text": [
      "Experience: ['I come from Rajasthan, India. I am a Bachelor’s Degree holder in the Marketing', 'and aspire to achieve my goals being in the same field. I want to be a self-made', 'man and work faithfully.']; Skills: ['Research', 'Operations', 'Marketing', 'Communication', 'English', 'Sales', 'Email']\n"
     ]
    },
    {
     "name": "stderr",
     "output_type": "stream",
     "text": [
      "/Users/sandragomes/.pyenv/versions/job_predictor-env/lib/python3.8/site-packages/spacy/util.py:275: UserWarning: [W031] Model 'en_training' (0.0.0) requires spaCy v2.1 and is incompatible with the current spaCy version (2.3.5). This may lead to unexpected results or runtime errors. To resolve this, download a newer compatible model or retrain your custom model with the current spaCy version. For more details and available updates, run: python -m spacy validate\n",
      "  warnings.warn(warn_msg)\n"
     ]
    },
    {
     "name": "stdout",
     "output_type": "stream",
     "text": [
      "Experience: ['April 2019-May 2019', 'Summer Intern | Ferrero India Private Limited', 'Project Title- Effective Implementation of Call Value Optimization in Pune City', '1. Drafted out a start-to-finish roadmap to change the frequency of sales visits in', '2400+ outlets in Kothrud and 3000+ outlets in PCMC.', '2. Went beyond the scope of the project assigned to suggest a fortnightly beat', 'review model to analyze the optimality of beat in question.', 'Winter Intern | TOPPR', '1. Charted storyboards and watched videos to create content in the format given.', '2. Created 29 approved engaging stories which were then presented to the end', 'consumers (students)', 'December 2018-', 'January 2019']; Skills: ['Research', 'Content', 'Marketing', 'Analytics', 'Sales', 'Analyze', 'Excel']\n"
     ]
    },
    {
     "name": "stderr",
     "output_type": "stream",
     "text": [
      "/Users/sandragomes/.pyenv/versions/job_predictor-env/lib/python3.8/site-packages/spacy/util.py:275: UserWarning: [W031] Model 'en_training' (0.0.0) requires spaCy v2.1 and is incompatible with the current spaCy version (2.3.5). This may lead to unexpected results or runtime errors. To resolve this, download a newer compatible model or retrain your custom model with the current spaCy version. For more details and available updates, run: python -m spacy validate\n",
      "  warnings.warn(warn_msg)\n"
     ]
    },
    {
     "name": "stdout",
     "output_type": "stream",
     "text": [
      "Experience: None; Skills: ['Writing', 'Mobile', 'Finance', 'English', 'Word', 'Logistics', 'Excel']\n"
     ]
    },
    {
     "name": "stderr",
     "output_type": "stream",
     "text": [
      "/Users/sandragomes/.pyenv/versions/job_predictor-env/lib/python3.8/site-packages/spacy/util.py:275: UserWarning: [W031] Model 'en_training' (0.0.0) requires spaCy v2.1 and is incompatible with the current spaCy version (2.3.5). This may lead to unexpected results or runtime errors. To resolve this, download a newer compatible model or retrain your custom model with the current spaCy version. For more details and available updates, run: python -m spacy validate\n",
      "  warnings.warn(warn_msg)\n"
     ]
    },
    {
     "name": "stdout",
     "output_type": "stream",
     "text": [
      "Experience: ['within the hospitality sector. My aim is to excel,', \"provide and meet guests' expectations through\", 'competency and sheer creativity.']; Skills: ['Hotel', 'Hospitality', 'Presentation', 'C', 'Forecasting', 'Reports', 'French', 'Training', 'Proposal', 'English', 'R', 'Email', 'Excel', 'Inventory', 'System', 'Beverage']\n"
     ]
    },
    {
     "name": "stderr",
     "output_type": "stream",
     "text": [
      "/Users/sandragomes/.pyenv/versions/job_predictor-env/lib/python3.8/site-packages/spacy/util.py:275: UserWarning: [W031] Model 'en_training' (0.0.0) requires spaCy v2.1 and is incompatible with the current spaCy version (2.3.5). This may lead to unexpected results or runtime errors. To resolve this, download a newer compatible model or retrain your custom model with the current spaCy version. For more details and available updates, run: python -m spacy validate\n",
      "  warnings.warn(warn_msg)\n"
     ]
    },
    {
     "name": "stdout",
     "output_type": "stream",
     "text": [
      "Experience: ['Analyzed industry trends and compiled market research data to inform planning and strategy.', 'Directed targeted marketing efforts that introduced new products and promoted product visibility.', 'Increased volume of business by 60% by following up on leads, cold calling and networking.', 'Prospected to obtain new accounts while maintaining relationships with existing accounts.', 'Solicited and developed new business accounts by cold calling and networking.', 'Establish and maintained high profile global corporate clients', 'Researched public perception of products and services and used findings to create and implement sales strategies.', 'Set up new accounts, established customer credit, and set up payment methods.', '-', '-', '-', '-', '-', '-', '-', '-', '- Worked alongside Market research and development team to get the maximum use of marketing material.', '-', 'Played a main role in the International market entry into Bangladesh and India.', '▪', 'BUSINESS ANALYST, February 2019 – Present (PART-TIME)', 'WEB ARK', 'Performed initial client assessment and analysis to begin research process.', '-', '- Worked directly with Marketing & product development teams to achieve 100% product optimization.', '-', '-', '-', '-', '-', '-', 'Implemented marketing strategies which resulted in 12% growth of customer base.', 'Initiated two key partnerships which resulted in 54% revenue growth.', 'Provided tech-based solutions to increase effective process and management flow', 'Analyzed departmental documents for appropriate distribution and filing.', 'Supported Chief Operating Officer with daily operational functions.', \"Created boardroom and courtroom multimedia presentations including video and text- sync'd depositions.\", '▪  SENIOR BRAND EXECUTIVE (Management Trainee), June 2018 – December 2018', 'THE CAPITAL MAHARAJA ORGANIZATION', 'Implemented marketing strategies which resulted in 20% growth of customer base.', '-  Conducted FMCG Market research nationwide to find consumption patterns of the Sri Lankan consumers.', '-', '-  Conducted Brand activation activities targeting the youth of the country all over Sri Lanka.', '-  Developed Brands plans for financial years and presented the flow plan to the CEO.', '-  Launched 3 new FMCG products under men’s grooming to the Sri Lankan Market.', '-  Undertook and was totally in charge of the very first exporting procedure of products to Kosovo and Iran.', '-  Coordinated with agencies to get done marketing materials on time for launches.', '▪  MARKETING COORDINATOR, January 2018 – June 2018', 'DIALOG AXIATA PLC (e-commerce arm)', '-  Analyzed KPI’s and conversion metrics.', '-  Assisted category managers in monthly campaign planning’s.', '-  Conducted multi-channel marketing via email newsletters, WhatsApp promotions and Instagram promotions.', '-  Assisted Head of Marketing in running digital marketing campaigns', '-  Assisted category managers in project management and content management.']; Skills: ['Research', 'Networking', 'Strategy', 'Product marketing', 'Finance', 'Process', 'Sales', 'Content', 'Video', 'Communication', 'Product development', 'Analytical', 'Presentation', 'Partnerships', 'Marketing materials', 'Brand', 'Email', 'Conversion', 'Administration', 'Kpi', 'International', 'Marketing', 'Analysis', 'Distribution', 'Plan', 'Filing', 'Metrics', 'Presentations', 'English', 'Project management']\n"
     ]
    },
    {
     "name": "stderr",
     "output_type": "stream",
     "text": [
      "/Users/sandragomes/.pyenv/versions/job_predictor-env/lib/python3.8/site-packages/spacy/util.py:275: UserWarning: [W031] Model 'en_training' (0.0.0) requires spaCy v2.1 and is incompatible with the current spaCy version (2.3.5). This may lead to unexpected results or runtime errors. To resolve this, download a newer compatible model or retrain your custom model with the current spaCy version. For more details and available updates, run: python -m spacy validate\n",
      "  warnings.warn(warn_msg)\n"
     ]
    },
    {
     "name": "stdout",
     "output_type": "stream",
     "text": [
      "Experience: ['Bachelor Of Business Administration In International Hospitality Management (BBA)', 'Graduated 2018', '•', 'The Emirates Academy of Hospitality Management', 'ACADEMIC QUALIFICATIONS', 'Italian - native speaker, English – fluent speaker, Mandarin Chinese - intermediate oral / basic written', 'LANGUAGES']; Skills: ['Transportation', 'Mobile', 'Budgeting', 'Design', 'Hospitality', 'Operations', 'Negotiation', 'Engagement', 'Communication', 'Emea', 'Logistics', 'Pr', 'Acquisition', 'Sourcing', 'Email', 'Coaching', 'Administration', 'International', 'Analysis', 'Plan', 'Staffing', 'English', 'Budget', 'Operations management']\n"
     ]
    },
    {
     "name": "stderr",
     "output_type": "stream",
     "text": [
      "/Users/sandragomes/.pyenv/versions/job_predictor-env/lib/python3.8/site-packages/spacy/util.py:275: UserWarning: [W031] Model 'en_training' (0.0.0) requires spaCy v2.1 and is incompatible with the current spaCy version (2.3.5). This may lead to unexpected results or runtime errors. To resolve this, download a newer compatible model or retrain your custom model with the current spaCy version. For more details and available updates, run: python -m spacy validate\n",
      "  warnings.warn(warn_msg)\n"
     ]
    },
    {
     "name": "stdout",
     "output_type": "stream",
     "text": [
      "Experience: ['Technologies  industries such as (Diebold -Nixdorf , Sigma , BS2 )', 'Lastly associated with Al mutaafi Trading , Khartoum, Sudan', 'as ATM Department Manager; reported to the Director;', 'successfully managed entire ATM department', 'including Department set-up, finding a good brand , ATM', 'Certification from the Central Bank of Sudan  team hiring &', 'development, train the engineers', 'Recognized by the top management Istinara MATC , Khartoum ,', 'Sudan   for increasing the number of customers by 10', 'customers to reach approximately 40 % of market share of', 'ATM in Sudan by selling 200 Diebold - Nixdorf  ATMs and 600', 'units for ATMEYE . Establishing the ATM Operations', 'Department which increase the uptime percentage for the', 'machines', 'In Alfa Trading Installing and configuring more than 250 ATMs', 'which belong to 14 Banks in Sudan. Migrate the ATMs from', 'old national Host (S2M) to new national Host (campus)', 'Upgrade the ATM software from NDX 1.4 to NDX  XV 2.1, First', 'implementation for ATMEYE CCTV system in Sudan. Support', 'The company ERP System.', 'Talent Hiring/Team Training & Development', 'ORGANI ZATI ONAL  EXPERI ENC E', \"MAY’17 -  MARCH'19  :  Al mutaafi Trading , Khartoum–Sudan as ATM Department Manager\", 'Lastly managed the entire functions of business operations for Al mutaafi Trading  which included Finding ATM brand', 'and signing  the Partnership  setting up the department ,  approval and certifying the machine from the Central Bank of', 'Sudan and deploying the machine in the customer site as pilot project .', 'Highlights:', '\\uf0b7 Establishing ATM department .', '\\uf0b7\\uf020Catching  Global Partners for Banking products', '\\uf0b7\\uf020Developing ATM machine and follow process of  Certifying & Testing all  scenarios of  the new ATM brand from Central', 'Bank of Sudan Switch (TranzWare , Compass plus )', '\\uf0b7\\uf020Deployment the ATM machines in test and  live environment', '\\uf0b7\\uf020Training the technical staff', '\\uf0b7\\uf020Visit customers and follow up their needs and  propose solutions and alternative solutions for the customers', '\\uf0b7\\uf020Prepare professional technical and financial proposal and Presentation .', '\\uf0b7\\uf020Developing business by finding new ideas ,promotions and new products & services which can fit the EFT market', 'Base on cost and benefits of product .', '\\uf0b7\\uf020 Building and maintaining important client relationships by solving their issues during project lifecycle  and partners', 'as well', \"JAN’17 -  MAY'17 :  Private Work  Family Business  , Khartoum–Sudan as Car Rent Agency  Manager\", 'PREVIOUS  EXPERI ENC E', 'Highlights:', '\\uf0b7 Overseeing the cars rent activities  .', '\\uf0b7\\uf020Controlling the office budget &  Accounts  .', \"NOV’13  -  JAN '17 :  Istinara MATC  , Khartoum–Sudan as Business Development & Marketing  Manager\", 'Highlights:', '\\uf0b7\\uf020Developing business , adding more than 5 new products in the company .', '\\uf0b7\\uf020Success to promote the service of replacing old machines with new machines considering the value of old machines in', 'the prices  .', '\\uf0b7\\uf020Adding 6 new Banks to our customers list and increase the market share to reach 40%   .', '\\uf0b7\\uf020Selling more than 200 ATMs   .', '\\uf0b7\\uf020Selling 600 Units for the ATMEYE CCTV Surveillance   .', \"JUN’13  OCT'13 :  Istinara MATC  , Khartoum–Sudan as ATM Operations Manager\", 'Highlights:', '\\uf0b7\\uf020Establishing the Operation Department  .', '\\uf0b7\\uf020Success to increase the uptime of the machines by 60%', '\\uf0b7\\uf020Send my team for training and development', '\\uf0b7\\uf020Deploying the ATMEYE system in Different ATM brands successfully  .', '\\uf0b7\\uf020Solving all issues and conflict with the clients which create good relationship with the clients  .', '\\uf0b7\\uf020Provide optimum solutions and advise for ATM issues including SW and HW    .', '\\uf0b7\\uf020Close the issue ticket on time .', \"FEB’09  -  JAN'13 :  Alfa Trading   , Khartoum–Sudan as ATMs Technical Support   Manager\", 'Highlights:', '\\uf0b7\\uf020Deployment, Install  of more than 250 Diebold  ATMs for 14 banks  .', '\\uf0b7\\uf020Migrate ATMs from old National host (S2M) to New one (Campus plus)', '\\uf0b7\\uf020Implement of ATM and  ATMEYE  system in Sudan for the first time    .', '\\uf0b7\\uf020Upgrade  ATM Network Software    .', '\\uf0b7\\uf020Migrate FIB Host to Alaric Host    .', '\\uf0b7\\uf020Overseeing all ATMs department activities ( maintenance , ordering ATMs & spare parts , troubleshooting L1/L2 ,', 'installing- de- installing ATMs  , upgrading models base on the Location )', \"NOV’04  -  JAN'09 :  Alfa Trading   , Khartoum–Sudan as Senior ATMs Technical Support  Engineer\", 'Highlights:', '\\uf0b7\\uf020Targeting Preventive maintenance Delivery  and calls on time', '\\uf0b7\\uf020Train the Team.', '\\uf0b7\\uf020Spare parts stock control  .', '\\uf0b7\\uf020Company ERP Support , solving issues  .', '\\uf0b7\\uf020Participate in sales of ATMs   .', 'ACADEMIC DETAILS', 'BSC(honor ) in Computer Science , 2001 Future University , Khartoum , Sudan', 'CERTIFICATION & TRAINING ATTENDED', '\\uf0b7 SIGMA ATM SW&HW Training , 2017 , Sigma , Italy', '\\uf0b7\\uf020 Wincor ATM Certified sales training 1, 2015 ,Wincor-Nixdorf ,Online course', '\\uf0b7\\uf020 Wincor ATM Certified sales training 2, 2015 ,Wincor-Nixdorf ,Online course', '\\uf0b7\\uf020Prince 2 , 2014 , Kiwi Training Center , Sudan', '\\uf0b7\\uf020 Wincor Procash CCDM , 2013 , cns , UAE', '\\uf0b7\\uf020 Formal Documents Writing Training , 2013 , Alsakeena Training Center , Sudan', '\\uf0b7\\uf020 General English Language , 2012 , Cambridge Training College ,Sudan', '\\uf0b7\\uf020 Diebold Software  (Agilis NDX 2.4) , 2009 , Diebold , UAE', '\\uf0b7\\uf020 Diebold Software  General , 2008, Diebold , UAE', '\\uf0b7\\uf020 Diebold (Opteva) Hardware ,2006 , Raya Integration , Egypt']; Skills: ['Computer science', 'Writing', 'Certification', 'Banking', 'Proposal', 'Hardware', 'Process', 'Sales', 'Ordering', 'Operations', 'Reporting', 'Negotiation', 'Testing', 'Training', 'System', 'Erp', 'Presentation', 'Technical', 'Acquisition', 'Brand', 'Lifecycle', 'Troubleshooting', 'International', 'Marketing', 'Analysis', 'English', 'Partnership', 'Budget']\n"
     ]
    },
    {
     "name": "stderr",
     "output_type": "stream",
     "text": [
      "/Users/sandragomes/.pyenv/versions/job_predictor-env/lib/python3.8/site-packages/spacy/util.py:275: UserWarning: [W031] Model 'en_training' (0.0.0) requires spaCy v2.1 and is incompatible with the current spaCy version (2.3.5). This may lead to unexpected results or runtime errors. To resolve this, download a newer compatible model or retrain your custom model with the current spaCy version. For more details and available updates, run: python -m spacy validate\n",
      "  warnings.warn(warn_msg)\n"
     ]
    },
    {
     "name": "stdout",
     "output_type": "stream",
     "text": [
      "An exception occurred - CV not read \n"
     ]
    }
   ],
   "source": [
    "# iterate over files in that directory\n",
    "\n",
    "for filename in directory_pdf:\n",
    "    try:\n",
    "        file = ResumeParser(filename).get_extracted_data()\n",
    "        print (f\"Experience: {file['experience']}; Skills: {file['skills']}\")\n",
    "    except:\n",
    "        print(\"An exception occurred - CV not read \")"
   ]
  },
  {
   "cell_type": "code",
   "execution_count": null,
   "id": "3cc52182",
   "metadata": {},
   "outputs": [],
   "source": []
  }
 ],
 "metadata": {
  "kernelspec": {
   "display_name": "Python 3 (ipykernel)",
   "language": "python",
   "name": "python3"
  },
  "language_info": {
   "codemirror_mode": {
    "name": "ipython",
    "version": 3
   },
   "file_extension": ".py",
   "mimetype": "text/x-python",
   "name": "python",
   "nbconvert_exporter": "python",
   "pygments_lexer": "ipython3",
   "version": "3.8.12"
  },
  "toc": {
   "base_numbering": 1,
   "nav_menu": {},
   "number_sections": true,
   "sideBar": true,
   "skip_h1_title": false,
   "title_cell": "Table of Contents",
   "title_sidebar": "Contents",
   "toc_cell": false,
   "toc_position": {},
   "toc_section_display": true,
   "toc_window_display": false
  }
 },
 "nbformat": 4,
 "nbformat_minor": 5
}
