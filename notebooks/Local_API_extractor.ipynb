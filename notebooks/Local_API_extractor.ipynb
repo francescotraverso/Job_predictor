{
 "cells": [
  {
   "cell_type": "code",
   "execution_count": 128,
   "id": "ecd01fbb",
   "metadata": {},
   "outputs": [],
   "source": [
    "import pandas as pd\n",
    "import numpy as np\n",
    "import requests\n",
    "from tqdm import tqdm\n",
    "import string\n",
    "import collections\n",
    "import random\n",
    "import time\n",
    "import nltk\n",
    "from nltk import word_tokenize\n",
    "from textaugment import Wordnet"
   ]
  },
  {
   "cell_type": "code",
   "execution_count": 129,
   "id": "c41c3f49",
   "metadata": {},
   "outputs": [],
   "source": [
    "local_api_url = 'http://localhost:8080/resource/skill'"
   ]
  },
  {
   "cell_type": "code",
   "execution_count": null,
   "id": "7fd7c7c4",
   "metadata": {},
   "outputs": [],
   "source": [
    "# Not needed for now, just saved here in case it's needed for later -- also Silenced\n",
    "\n",
    "# search for all jobs that have 'manager' in their title  --- IGNORE this cell for now\n",
    "# WEB API URL (in case you don't want to use the local API): url_title = \"https://ec.europa.eu/esco/api/search\"\n",
    "# also: url = \"https://ec.europa.eu/esco/api/resource/skill\"\n",
    "\n",
    "params = {\n",
    "    'language': 'en',\n",
    "    'type': 'occupation',\n",
    "    'text': 'pig'\n",
    "         }\n",
    "\n",
    "api_title = requests.get(url=url_title, params=params).json()"
   ]
  },
  {
   "cell_type": "code",
   "execution_count": null,
   "id": "7eee22fa",
   "metadata": {},
   "outputs": [],
   "source": [
    "# create an augmented dataframe by appending rows for each alternative label of each job title\n",
    "# and uses the Text Augmentation model to create synonym descriptions for each alternative label\n",
    "# DON'T RUN THIS, IT'S BEEN RUN ALREADY -- it can only to be run once because it takes a while :)\n",
    "# (also, this cell has been set to Silence)\n",
    "\n",
    "# get word thesaurus\n",
    "\n",
    "nltk.download('punkt')\n",
    "nltk.download('wordnet')\n",
    "nltk.download('averaged_perceptron_tagger')\n",
    "\n",
    "# initialize augment model\n",
    "\n",
    "t = Wordnet(v=False ,n=True, p=0.75)\n",
    "\n",
    "# run the API sweeping loop\n",
    "\n",
    "df_occupations_aug = df_occupations\n",
    "\n",
    "for index, row in df_occupations.iterrows():\n",
    "\n",
    "    if pd.notna(df_occupations.iloc[index,4]):\n",
    "        \n",
    "        list_of_altLabels_per_row = row[4].split('\\n')        \n",
    "        \n",
    "        for altLabel in list_of_altLabels_per_row:\n",
    "            \n",
    "            df_of_separate_row = pd.DataFrame([row])\n",
    "            df_occupations_aug = pd.concat([df_occupations_aug, df_of_separate_row])\n",
    "            print(f\"Job Title {index}: Appended {row[3]}'s alternative label: {altLabel}\")\n",
    "            df_occupations_aug.iloc[-1,3] = altLabel\n",
    "            df_occupations_aug.iloc[-1,12] = t.augment(row[12])\n",
    "\n",
    "# write augmented occupations dataframe to CSV file\n",
    "df_occupations_aug.to_csv('../data/ESCO/occupations_augmented.csv')"
   ]
  },
  {
   "cell_type": "code",
   "execution_count": 130,
   "id": "3dd8264d",
   "metadata": {},
   "outputs": [],
   "source": [
    "df_occupations_aug = pd.read_csv('../data/ESCO/occupations_augmented.csv')"
   ]
  },
  {
   "cell_type": "code",
   "execution_count": 131,
   "id": "f3a4f7a9",
   "metadata": {},
   "outputs": [],
   "source": [
    "df_occupations_aug['skills'] = 0"
   ]
  },
  {
   "cell_type": "code",
   "execution_count": 132,
   "id": "eaac1ba4",
   "metadata": {},
   "outputs": [
    {
     "name": "stderr",
     "output_type": "stream",
     "text": [
      "35824it [56:35, 10.55it/s]\n"
     ]
    }
   ],
   "source": [
    "### create a separate skill column on the augmented dataframe for the skills got from the local API\n",
    "\n",
    "for index, row in tqdm(df_occupations_aug.iterrows()):\n",
    "    \n",
    "    params = {'uri': df_occupations_aug.iloc[index,2], 'language': 'en'}\n",
    "    api_skills = requests.get(url=local_api_url, params=params).json()\n",
    "    api_skills_dict = api_skills.get('_links').get('hasEssentialSkill')\n",
    "    \n",
    "    try:\n",
    "        skills_list = [skill.get('title') for skill in api_skills_dict]\n",
    "    except:\n",
    "        pass\n",
    "        \n",
    "    df_occupations_aug.iloc[index,15] = ', '.join(skills_list) "
   ]
  },
  {
   "cell_type": "code",
   "execution_count": 149,
   "id": "04e649bb",
   "metadata": {},
   "outputs": [],
   "source": [
    "df_occupations_aug.to_csv('../data/ESCO/occupations_augmented_with_skills.csv')\n"
   ]
  }
 ],
 "metadata": {
  "kernelspec": {
   "display_name": "Python 3 (ipykernel)",
   "language": "python",
   "name": "python3"
  },
  "language_info": {
   "codemirror_mode": {
    "name": "ipython",
    "version": 3
   },
   "file_extension": ".py",
   "mimetype": "text/x-python",
   "name": "python",
   "nbconvert_exporter": "python",
   "pygments_lexer": "ipython3",
   "version": "3.8.12"
  },
  "toc": {
   "base_numbering": 1,
   "nav_menu": {},
   "number_sections": true,
   "sideBar": true,
   "skip_h1_title": false,
   "title_cell": "Table of Contents",
   "title_sidebar": "Contents",
   "toc_cell": false,
   "toc_position": {},
   "toc_section_display": true,
   "toc_window_display": false
  }
 },
 "nbformat": 4,
 "nbformat_minor": 5
}
