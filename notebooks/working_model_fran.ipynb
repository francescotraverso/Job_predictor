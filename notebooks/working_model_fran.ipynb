{
 "cells": [
  {
   "cell_type": "code",
   "execution_count": 1,
   "id": "fbc18917",
   "metadata": {},
   "outputs": [],
   "source": [
    "import pandas as pd\n",
    "import numpy as np\n",
    "import string\n",
    "import random\n",
    "import pickle\n",
    "from tqdm import tqdm\n",
    "from gensim.models.phrases import Phrases, ENGLISH_CONNECTOR_WORDS\n",
    "from gensim.models.doc2vec import TaggedDocument\n",
    "import nltk\n",
    "from nltk import word_tokenize\n",
    "from nltk.corpus import stopwords\n",
    "from nltk.stem import WordNetLemmatizer\n",
    "from sentence_transformers import SentenceTransformer\n",
    "from sklearn.metrics.pairwise import cosine_similarity\n",
    "from pyresparser import ResumeParser\n",
    "import re\n",
    "import csv"
   ]
  },
  {
   "cell_type": "code",
   "execution_count": null,
   "id": "e9c1bf55",
   "metadata": {},
   "outputs": [],
   "source": []
  },
  {
   "cell_type": "code",
   "execution_count": 2,
   "id": "aed5de1c",
   "metadata": {
    "scrolled": true
   },
   "outputs": [
    {
     "name": "stderr",
     "output_type": "stream",
     "text": [
      "/home/ftraverso/.pyenv/versions/3.8.12/envs/job_predictor-env/lib/python3.8/site-packages/spacy/util.py:275: UserWarning: [W031] Model 'en_training' (0.0.0) requires spaCy v2.1 and is incompatible with the current spaCy version (2.3.5). This may lead to unexpected results or runtime errors. To resolve this, download a newer compatible model or retrain your custom model with the current spaCy version. For more details and available updates, run: python -m spacy validate\n",
      "  warnings.warn(warn_msg)\n"
     ]
    },
    {
     "data": {
      "text/plain": [
       "'and report information. Looking for a career change to a purer Data Science role.'"
      ]
     },
     "execution_count": 2,
     "metadata": {},
     "output_type": "execute_result"
    }
   ],
   "source": [
    "###DECLARE CV PATH###\n",
    "path = '/home/ftraverso/code/francescotraverso/job_predictor/data/cv_directory/cv_rui.pdf'\n",
    "\n",
    "###OPEN RESUME###\n",
    "resume = ResumeParser(path).get_extracted_data()\n",
    "\n",
    "###EXTRACT JOB EXPERIENCE###\n",
    "JD = \" \".join(resume['experience'])\n",
    "JD"
   ]
  },
  {
   "cell_type": "code",
   "execution_count": 3,
   "id": "ff56b797",
   "metadata": {},
   "outputs": [
    {
     "data": {
      "text/plain": [
       "'and report information. Looking for a career change to a purer Data Science role.'"
      ]
     },
     "execution_count": 3,
     "metadata": {},
     "output_type": "execute_result"
    }
   ],
   "source": [
    "JD"
   ]
  },
  {
   "cell_type": "code",
   "execution_count": 9,
   "id": "03c38a27",
   "metadata": {},
   "outputs": [],
   "source": [
    "with open('../data/skill_packages/ESCO/marketing_skills_esco.csv', newline='') as f:\n",
    "    reader = csv.reader(f)\n",
    "    csv_data = list(reader)\n",
    "    ds_keywords = [item for sublist in csv_data for item in sublist]\n",
    "\n",
    "ds_skills = \" \".join(ds_keywords)\n",
    "#ds_skills"
   ]
  },
  {
   "cell_type": "code",
   "execution_count": null,
   "id": "c00aa9dc",
   "metadata": {},
   "outputs": [],
   "source": [
    "############################\n",
    "### describe your job!!! ###\n",
    "############################\n",
    "\n",
    "describe_your_job = JD + ds_skills\n",
    "\n",
    "##################################\n",
    "### get 'n' job suggeestion!!! ###\n",
    "##################################\n",
    "\n",
    "n_jobs = 10\n",
    "\n",
    "describe_your_job"
   ]
  },
  {
   "cell_type": "code",
   "execution_count": null,
   "id": "c1f5bccc",
   "metadata": {},
   "outputs": [],
   "source": [
    "# get dataframes from CSV files\n",
    "\n",
    "df_occ_n_skills = pd.read_csv('../data/ESCO/occupations_augmented_with_skills.csv')"
   ]
  },
  {
   "cell_type": "code",
   "execution_count": null,
   "id": "87169c10",
   "metadata": {
    "scrolled": false
   },
   "outputs": [],
   "source": [
    "# filter unneeded columns of of the dataframe and add needed ones\n",
    "\n",
    "df_occ_n_skills = df_occ_n_skills.filter(items=['preferredLabel', 'description', 'skills'])\n",
    "df_occ_n_skills = df_occ_n_skills.reindex(columns=['preferredLabel','description', 'skills'])\n",
    "df_occ_n_skills.rename(columns={'preferredLabel': 'job_title'}, inplace=True)\n",
    "df_occ_n_skills['description_input'] = 0\n",
    "df_occ_n_skills['skills_input'] = 0"
   ]
  },
  {
   "cell_type": "code",
   "execution_count": null,
   "id": "a24a5345",
   "metadata": {},
   "outputs": [],
   "source": [
    "# create description_input and skills_input, which are strings on which the model will be fit\n",
    "\n",
    "for row, index in tqdm(df_occ_n_skills.iterrows()):\n",
    "    underscored_job_title = index['job_title'].replace(\" \", \"_\")\n",
    "    this_rows_description_input = underscored_job_title + ' ' + index['description']\n",
    "    this_rows_skills_input = underscored_job_title + ' ' + index['skills']\n",
    "    df_occ_n_skills.iloc[row,-2] = this_rows_description_input\n",
    "    df_occ_n_skills.iloc[row,-1] = this_rows_skills_input"
   ]
  },
  {
   "cell_type": "code",
   "execution_count": null,
   "id": "b3e40f6b",
   "metadata": {
    "scrolled": true
   },
   "outputs": [],
   "source": [
    "# inspect dataframe\n",
    "\n",
    "df_occ_n_skills.head()"
   ]
  },
  {
   "cell_type": "code",
   "execution_count": null,
   "id": "0e56f86c",
   "metadata": {},
   "outputs": [],
   "source": [
    "# get entire dataframe as dataset according to Qiewi's suggestion\n",
    "# concatenate the job_title:skills list to the end of df_occ_n_skills\n",
    "\n",
    "X_all = pd.concat([df_occ_n_skills['description_input'], df_occ_n_skills['skills_input']]).reset_index(drop=True)"
   ]
  },
  {
   "cell_type": "code",
   "execution_count": null,
   "id": "8f64558b",
   "metadata": {},
   "outputs": [],
   "source": [
    "# applying preprocessing to corpus as in Gensim tutorial, also applying Phraser\n",
    "\n",
    "def read_corpus(corpus):\n",
    "   \n",
    "    # instantiate Phraser outside of the loop\n",
    "    sentence_stream = [entry.split(\" \") for entry in corpus]\n",
    "    bigrams = Phrases(\n",
    "        sentence_stream,\n",
    "        min_count=5,\n",
    "        threshold=5,\n",
    "        connector_words=ENGLISH_CONNECTOR_WORDS\n",
    "        )\n",
    "    \n",
    "    for i, line in enumerate(corpus):    \n",
    "    \n",
    "        # remove punctuation\n",
    "        for punctuation in string.punctuation:        \n",
    "            sentence = line.replace(punctuation, '')\n",
    "\n",
    "        # remove stopwords\n",
    "        stop_words = set(stopwords.words('english'))\n",
    "        tokens = word_tokenize(sentence)\n",
    "        stopword_free_tokens = [token for token in tokens if token not in stop_words]\n",
    "        sentence = ' '.join(stopword_free_tokens)\n",
    "\n",
    "        # lemmatize\n",
    "        sentence = WordNetLemmatizer().lemmatize(sentence, pos='n')\n",
    "        sentence = WordNetLemmatizer().lemmatize(sentence, pos='v')\n",
    "        \n",
    "        # get bigrams\n",
    "        sent = sentence.split()\n",
    "\n",
    "        # yield tagged final corpus\n",
    "        yield TaggedDocument(bigrams[sent], [i])\n",
    "\n",
    "all_corpus = list(read_corpus(X_all))"
   ]
  },
  {
   "cell_type": "code",
   "execution_count": null,
   "id": "522a0c7b",
   "metadata": {},
   "outputs": [],
   "source": [
    "# Preprocessing function for job descriptions\n",
    "\n",
    "def preprocess_input(sentence, ds_insert=False, ds_insert_ratio=0.2):\n",
    "    \n",
    "    if ds_insert == True:\n",
    "\n",
    "        sentence_splitted = sentence.split()\n",
    "\n",
    "        if len(sentence_splitted) * ds_insert_ratio >= len(ds_keywords):\n",
    "            print('Warning: Chosen ratio is using up all available Data Science keywords!')\n",
    "\n",
    "        insertion_amount = int(len(sentence_splitted) * ds_insert_ratio)\n",
    "        insertion_counter = 0\n",
    "\n",
    "        for insertion in range(insertion_amount):\n",
    "            if len(sentence_splitted) * ds_insert_ratio <= len(ds_keywords):\n",
    "                sentence_splitted.append(ds_keywords[insertion_counter])\n",
    "                insertion_counter += 1\n",
    "\n",
    "        sentence = ' '.join(sentence_splitted)\n",
    "    \n",
    "    # remove punctuation\n",
    "    for punctuation in string.punctuation:        \n",
    "        sentence = sentence.replace(punctuation, '')\n",
    "    \n",
    "    # set lowercase\n",
    "    sentence = sentence.lower()\n",
    "    \n",
    "    # remove numbers\n",
    "    sentence = ''.join(char for char in sentence if not char.isdigit())\n",
    "    \n",
    "    # remove stopwords\n",
    "    stop_words = set(stopwords.words('english'))\n",
    "    tokens = word_tokenize(sentence)\n",
    "    stopword_free_tokens = [token for token in tokens if token not in stop_words]\n",
    "    sentence = ' '.join(stopword_free_tokens)\n",
    "\n",
    "    # lemmatize\n",
    "    sentence = WordNetLemmatizer().lemmatize(sentence, pos='n')\n",
    "    sentence = WordNetLemmatizer().lemmatize(sentence, pos='v')\n",
    "    \n",
    "    # split into tokens again after Lemmatizing --- this was replaced by Phraser \n",
    "    # sentence = word_tokenize(sentence)\n",
    "    \n",
    "    # insert data science keywords if ds_insert==True\n",
    "    \n",
    "    \n",
    "    return sentence"
   ]
  },
  {
   "cell_type": "code",
   "execution_count": null,
   "id": "b02b7096",
   "metadata": {},
   "outputs": [],
   "source": [
    "ds_keywords"
   ]
  },
  {
   "cell_type": "code",
   "execution_count": null,
   "id": "fc70ec3a",
   "metadata": {},
   "outputs": [],
   "source": [
    "new_description = preprocess_input(describe_your_job)\n",
    "# new_description"
   ]
  },
  {
   "cell_type": "code",
   "execution_count": null,
   "id": "272d934b",
   "metadata": {},
   "outputs": [],
   "source": [
    "# load saved BERT model and its embedding from disk\n",
    "\n",
    "filename = '../model/bert_model.sav'\n",
    "bert_model = pickle.load(open(filename, 'rb'))\n",
    "\n",
    "filename = '../model/all_corpus_embed.sav'\n",
    "all_corpus_embed = pickle.load(open(filename, 'rb'))"
   ]
  },
  {
   "cell_type": "code",
   "execution_count": null,
   "id": "53650fbc",
   "metadata": {},
   "outputs": [],
   "source": [
    "# # run model\n",
    "\n",
    "# # run input through the model\n",
    "# new_description_embed = bert_model.encode(new_description)\n",
    "\n",
    "# # calculate and order cosine similarity\n",
    "# similarity_rank = cosine_similarity([new_description_embed], all_corpus_embed)\n",
    "# similarity_rank_index = np.argsort(similarity_rank[0])[::-1]\n",
    "\n"
   ]
  },
  {
   "cell_type": "code",
   "execution_count": null,
   "id": "29ff668e",
   "metadata": {
    "scrolled": false
   },
   "outputs": [],
   "source": [
    "### result comparison between no DS keywords and DS keywords ###\n",
    "\n",
    "# insert the ratio you want for the insertion of data science keywords (value between 0 and 1)\n",
    "ds_ratio = 0\n",
    "\n",
    "# preprocess\n",
    "new_description_no_ds = preprocess_input(describe_your_job)\n",
    "new_description_w_ds = preprocess_input(describe_your_job, ds_insert=True, ds_insert_ratio=ds_ratio)\n",
    "\n",
    "print(new_description_no_ds)\n",
    "print(new_description_w_ds)\n",
    "\n",
    "\n",
    "# run input through the model\n",
    "new_description_no_ds_embed = bert_model.encode(new_description_no_ds)\n",
    "new_description_w_ds_embed = bert_model.encode(new_description_w_ds)\n",
    "\n",
    "# calculate and order cosine similarity\n",
    "similarity_rank_no_ds = cosine_similarity([new_description_no_ds_embed], all_corpus_embed)\n",
    "similarity_rank_index_no_ds = np.argsort(similarity_rank_no_ds[0])[::-1]\n",
    "similarity_rank_w_ds = cosine_similarity([new_description_w_ds_embed], all_corpus_embed)\n",
    "similarity_rank_index_w_ds = np.argsort(similarity_rank_w_ds[0])[::-1]\n",
    "\n",
    "# show results\n",
    "print('~~~RESULT COMPARISON~~~ \\n')\n",
    "\n",
    "for i in range(n_jobs):\n",
    "    \n",
    "    if similarity_rank_index_no_ds[i] <= len(df_occ_n_skills):\n",
    "        new_index = similarity_rank_index_no_ds[i]\n",
    "    else:\n",
    "        new_index = similarity_rank_index_no_ds[i] - len(df_occ_n_skills)\n",
    "\n",
    "    print(f'RANK #{i+1}:')\n",
    "    print('ORIGINAL: ' + df_occ_n_skills.loc[new_index]['job_title'])\n",
    "\n",
    "    if similarity_rank_index_w_ds[i] <= len(df_occ_n_skills):\n",
    "        new_index = similarity_rank_index_w_ds[i]\n",
    "    else:\n",
    "        new_index = similarity_rank_index_w_ds[i] - len(df_occ_n_skills)\n",
    "    \n",
    "    print('W/ DS KW: ' + df_occ_n_skills.loc[new_index]['job_title'])\n",
    "    print('')"
   ]
  },
  {
   "cell_type": "code",
   "execution_count": null,
   "id": "a694d074",
   "metadata": {},
   "outputs": [],
   "source": [
    "# print(f'TEST DOCUMENT: {new_description} \\n')\n",
    "# print('LISTING 10 MOST SIMILAR JOB ROLES & DESCRIPTIONS \\n')\n",
    "\n",
    "# for i in range(n_jobs):\n",
    "    \n",
    "#     if similarity_rank_index[i] <= len(df_occ_n_skills):\n",
    "#         new_index = similarity_rank_index[i]\n",
    "#     else:\n",
    "#         new_index = similarity_rank_index[i] - len(df_occ_n_skills)\n",
    "\n",
    "#     print(f'RANK #{i+1}: ' + df_occ_n_skills.loc[new_index]['job_title'])\n",
    "#     print(df_occ_n_skills.loc[new_index]['description'])\n",
    "#     print(f'Similarity score: {round(similarity_rank[0][similarity_rank_index[i]]*100,1)} %')\n",
    "#     print(f'Index in dataframe: {new_index} \\n')\n",
    "\n"
   ]
  },
  {
   "cell_type": "code",
   "execution_count": null,
   "id": "575cb409",
   "metadata": {},
   "outputs": [],
   "source": []
  },
  {
   "cell_type": "code",
   "execution_count": null,
   "id": "92e65e28",
   "metadata": {},
   "outputs": [],
   "source": []
  }
 ],
 "metadata": {
  "kernelspec": {
   "display_name": "Python 3 (ipykernel)",
   "language": "python",
   "name": "python3"
  },
  "language_info": {
   "codemirror_mode": {
    "name": "ipython",
    "version": 3
   },
   "file_extension": ".py",
   "mimetype": "text/x-python",
   "name": "python",
   "nbconvert_exporter": "python",
   "pygments_lexer": "ipython3",
   "version": "3.8.12"
  },
  "toc": {
   "base_numbering": 1,
   "nav_menu": {},
   "number_sections": true,
   "sideBar": true,
   "skip_h1_title": false,
   "title_cell": "Table of Contents",
   "title_sidebar": "Contents",
   "toc_cell": false,
   "toc_position": {},
   "toc_section_display": true,
   "toc_window_display": false
  }
 },
 "nbformat": 4,
 "nbformat_minor": 5
}
