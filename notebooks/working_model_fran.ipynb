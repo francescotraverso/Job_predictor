{
 "cells": [
  {
   "cell_type": "code",
   "execution_count": 1,
   "id": "fbc18917",
   "metadata": {},
   "outputs": [],
   "source": [
    "import pandas as pd\n",
    "import numpy as np\n",
    "import string\n",
    "import random\n",
    "import pickle\n",
    "from tqdm import tqdm\n",
    "from gensim.models.phrases import Phrases, ENGLISH_CONNECTOR_WORDS\n",
    "from gensim.models.doc2vec import TaggedDocument\n",
    "import nltk\n",
    "from nltk import word_tokenize\n",
    "from nltk.corpus import stopwords\n",
    "from nltk.stem import WordNetLemmatizer\n",
    "from sentence_transformers import SentenceTransformer\n",
    "from sklearn.metrics.pairwise import cosine_similarity\n",
    "from pyresparser import ResumeParser\n",
    "import re"
   ]
  },
  {
   "cell_type": "code",
   "execution_count": null,
   "id": "a0ac3bd7",
   "metadata": {},
   "outputs": [],
   "source": []
  },
  {
   "cell_type": "code",
   "execution_count": 15,
   "id": "a4af686a",
   "metadata": {},
   "outputs": [
    {
     "name": "stderr",
     "output_type": "stream",
     "text": [
      "/home/ftraverso/.pyenv/versions/3.8.12/envs/job_predictor-env/lib/python3.8/site-packages/spacy/util.py:275: UserWarning: [W031] Model 'en_training' (0.0.0) requires spaCy v2.1 and is incompatible with the current spaCy version (2.3.5). This may lead to unexpected results or runtime errors. To resolve this, download a newer compatible model or retrain your custom model with the current spaCy version. For more details and available updates, run: python -m spacy validate\n",
      "  warnings.warn(warn_msg)\n"
     ]
    },
    {
     "data": {
      "text/plain": [
       "'Management Consulting in FREESCG - Food Consultant - Management consultancy specialized in food & beverage - Consulting services for restaurants, bars and similar - Project developed with specialization to each client through a diagnosis and an action plan put into practice, with analysis of the obtained results - Areas of expertise: Financial, Logistics, Human Resources, Marketing, Administrative Backoffice, Production and Operation Analysis and Management of Purchasing and Logistics in MADPIZZA - Evaluation, restructuring and monitoring of existing logistics department - Establish two-way communication procedures with an emphasis on motivation and teamwork - Consumption forecast - Supplier assessment, prospecting and monitoring - Settle divergences or create quick solutions - Creation of new work tools - Supply chain assessment and identification of improvement points - Supervision of stock and orders of each cost center in order to reduce inventory costs - Order Validation by Point of Sale - Ensure permanent inventory maintenance: controlling stock levels and stock replenishment Food and Beverage Controller - Food & Beverage Performance Monitoring - Cost Control - Inventory Tracking - Identification of operational, financial and logistic improvement points (Lean) - Apply performance indicators - Periodic Reporting'"
      ]
     },
     "execution_count": 15,
     "metadata": {},
     "output_type": "execute_result"
    }
   ],
   "source": [
    "###DECLARE CV PATH###\n",
    "path = '/home/ftraverso/code/francescotraverso/job_predictor/data/cv_directory/CV_Example.pdf'\n",
    "\n",
    "###OPEN RESUME###\n",
    "resume = ResumeParser(path).get_extracted_data()\n",
    "\n",
    "###EXTRACT JOB EXPERIENCE###\n",
    "JD = \" \".join(resume['experience'])\n",
    "JD"
   ]
  },
  {
   "cell_type": "code",
   "execution_count": null,
   "id": "4e367866",
   "metadata": {},
   "outputs": [],
   "source": []
  },
  {
   "cell_type": "code",
   "execution_count": 3,
   "id": "c00aa9dc",
   "metadata": {},
   "outputs": [],
   "source": [
    "############################\n",
    "### describe your job!!! ###\n",
    "############################\n",
    "\n",
    "describe_your_job = JD + DS_skills\n",
    "\n",
    "##################################\n",
    "### get 'n' job suggeestion!!! ###\n",
    "##################################\n",
    "\n",
    "n_jobs = 10\n"
   ]
  },
  {
   "cell_type": "code",
   "execution_count": 4,
   "id": "c1f5bccc",
   "metadata": {},
   "outputs": [
    {
     "name": "stderr",
     "output_type": "stream",
     "text": [
      "/tmp/ipykernel_29694/608757610.py:3: DtypeWarning: Columns (12) have mixed types. Specify dtype option on import or set low_memory=False.\n",
      "  df_occ_n_skills = pd.read_csv('../data/ESCO/occupations_augmented_with_skills.csv')\n"
     ]
    }
   ],
   "source": [
    "# get dataframes from CSV files\n",
    "\n",
    "df_occ_n_skills = pd.read_csv('../data/ESCO/occupations_augmented_with_skills.csv')"
   ]
  },
  {
   "cell_type": "code",
   "execution_count": 5,
   "id": "87169c10",
   "metadata": {
    "scrolled": false
   },
   "outputs": [],
   "source": [
    "# filter unneeded columns of of the dataframe and add needed ones\n",
    "\n",
    "df_occ_n_skills = df_occ_n_skills.filter(items=['preferredLabel', 'description', 'skills'])\n",
    "df_occ_n_skills = df_occ_n_skills.reindex(columns=['preferredLabel','description', 'skills'])\n",
    "df_occ_n_skills.rename(columns={'preferredLabel': 'job_title'}, inplace=True)\n",
    "df_occ_n_skills['description_input'] = 0\n",
    "df_occ_n_skills['skills_input'] = 0"
   ]
  },
  {
   "cell_type": "code",
   "execution_count": 6,
   "id": "a24a5345",
   "metadata": {},
   "outputs": [
    {
     "name": "stderr",
     "output_type": "stream",
     "text": [
      "35824it [00:05, 7091.98it/s]\n"
     ]
    }
   ],
   "source": [
    "# create description_input and skills_input, which are strings on which the model will be fit\n",
    "\n",
    "for row, index in tqdm(df_occ_n_skills.iterrows()):\n",
    "    underscored_job_title = index['job_title'].replace(\" \", \"_\")\n",
    "    this_rows_description_input = underscored_job_title + ' ' + index['description']\n",
    "    this_rows_skills_input = underscored_job_title + ' ' + index['skills']\n",
    "    df_occ_n_skills.iloc[row,-2] = this_rows_description_input\n",
    "    df_occ_n_skills.iloc[row,-1] = this_rows_skills_input"
   ]
  },
  {
   "cell_type": "code",
   "execution_count": 7,
   "id": "b3e40f6b",
   "metadata": {
    "scrolled": true
   },
   "outputs": [
    {
     "data": {
      "text/html": [
       "<div>\n",
       "<style scoped>\n",
       "    .dataframe tbody tr th:only-of-type {\n",
       "        vertical-align: middle;\n",
       "    }\n",
       "\n",
       "    .dataframe tbody tr th {\n",
       "        vertical-align: top;\n",
       "    }\n",
       "\n",
       "    .dataframe thead th {\n",
       "        text-align: right;\n",
       "    }\n",
       "</style>\n",
       "<table border=\"1\" class=\"dataframe\">\n",
       "  <thead>\n",
       "    <tr style=\"text-align: right;\">\n",
       "      <th></th>\n",
       "      <th>job_title</th>\n",
       "      <th>description</th>\n",
       "      <th>skills</th>\n",
       "      <th>description_input</th>\n",
       "      <th>skills_input</th>\n",
       "    </tr>\n",
       "  </thead>\n",
       "  <tbody>\n",
       "    <tr>\n",
       "      <th>0</th>\n",
       "      <td>technical director</td>\n",
       "      <td>Technical directors realise the artistic visio...</td>\n",
       "      <td>adapt to artists' creative demands, organise r...</td>\n",
       "      <td>technical_director Technical directors realise...</td>\n",
       "      <td>technical_director adapt to artists' creative ...</td>\n",
       "    </tr>\n",
       "    <tr>\n",
       "      <th>1</th>\n",
       "      <td>metal drawing machine operator</td>\n",
       "      <td>Metal drawing machine operators set up and ope...</td>\n",
       "      <td>cold drawing processes, monitor moving workpie...</td>\n",
       "      <td>metal_drawing_machine_operator Metal drawing m...</td>\n",
       "      <td>metal_drawing_machine_operator cold drawing pr...</td>\n",
       "    </tr>\n",
       "    <tr>\n",
       "      <th>2</th>\n",
       "      <td>precision device inspector</td>\n",
       "      <td>Precision device inspectors make sure precisio...</td>\n",
       "      <td>precision measuring instruments, monitor machi...</td>\n",
       "      <td>precision_device_inspector Precision device in...</td>\n",
       "      <td>precision_device_inspector precision measuring...</td>\n",
       "    </tr>\n",
       "    <tr>\n",
       "      <th>3</th>\n",
       "      <td>air traffic safety technician</td>\n",
       "      <td>Air traffic safety technicians provide technic...</td>\n",
       "      <td>air transport law, aircraft flight control sys...</td>\n",
       "      <td>air_traffic_safety_technician Air traffic safe...</td>\n",
       "      <td>air_traffic_safety_technician air transport la...</td>\n",
       "    </tr>\n",
       "    <tr>\n",
       "      <th>4</th>\n",
       "      <td>hospitality revenue manager</td>\n",
       "      <td>Hospitality revenue managers maximise revenue ...</td>\n",
       "      <td>develop revenue generation strategies, ensure ...</td>\n",
       "      <td>hospitality_revenue_manager Hospitality revenu...</td>\n",
       "      <td>hospitality_revenue_manager develop revenue ge...</td>\n",
       "    </tr>\n",
       "  </tbody>\n",
       "</table>\n",
       "</div>"
      ],
      "text/plain": [
       "                        job_title  \\\n",
       "0              technical director   \n",
       "1  metal drawing machine operator   \n",
       "2      precision device inspector   \n",
       "3   air traffic safety technician   \n",
       "4     hospitality revenue manager   \n",
       "\n",
       "                                         description  \\\n",
       "0  Technical directors realise the artistic visio...   \n",
       "1  Metal drawing machine operators set up and ope...   \n",
       "2  Precision device inspectors make sure precisio...   \n",
       "3  Air traffic safety technicians provide technic...   \n",
       "4  Hospitality revenue managers maximise revenue ...   \n",
       "\n",
       "                                              skills  \\\n",
       "0  adapt to artists' creative demands, organise r...   \n",
       "1  cold drawing processes, monitor moving workpie...   \n",
       "2  precision measuring instruments, monitor machi...   \n",
       "3  air transport law, aircraft flight control sys...   \n",
       "4  develop revenue generation strategies, ensure ...   \n",
       "\n",
       "                                   description_input  \\\n",
       "0  technical_director Technical directors realise...   \n",
       "1  metal_drawing_machine_operator Metal drawing m...   \n",
       "2  precision_device_inspector Precision device in...   \n",
       "3  air_traffic_safety_technician Air traffic safe...   \n",
       "4  hospitality_revenue_manager Hospitality revenu...   \n",
       "\n",
       "                                        skills_input  \n",
       "0  technical_director adapt to artists' creative ...  \n",
       "1  metal_drawing_machine_operator cold drawing pr...  \n",
       "2  precision_device_inspector precision measuring...  \n",
       "3  air_traffic_safety_technician air transport la...  \n",
       "4  hospitality_revenue_manager develop revenue ge...  "
      ]
     },
     "execution_count": 7,
     "metadata": {},
     "output_type": "execute_result"
    }
   ],
   "source": [
    "# inspect dataframe\n",
    "\n",
    "df_occ_n_skills.head()"
   ]
  },
  {
   "cell_type": "code",
   "execution_count": 8,
   "id": "0e56f86c",
   "metadata": {},
   "outputs": [],
   "source": [
    "# get entire dataframe as dataset according to Qiewi's suggestion\n",
    "# concatenate the job_title:skills list to the end of df_occ_n_skills\n",
    "\n",
    "X_all = pd.concat([df_occ_n_skills['description_input'], df_occ_n_skills['skills_input']]).reset_index(drop=True)"
   ]
  },
  {
   "cell_type": "code",
   "execution_count": 9,
   "id": "8f64558b",
   "metadata": {},
   "outputs": [],
   "source": [
    "# applying preprocessing to corpus as in Gensim tutorial, also applying Phraser\n",
    "\n",
    "def read_corpus(corpus):\n",
    "   \n",
    "    # instantiate Phraser outside of the loop\n",
    "    sentence_stream = [entry.split(\" \") for entry in corpus]\n",
    "    bigrams = Phrases(\n",
    "        sentence_stream,\n",
    "        min_count=5,\n",
    "        threshold=5,\n",
    "        connector_words=ENGLISH_CONNECTOR_WORDS\n",
    "        )\n",
    "    \n",
    "    for i, line in enumerate(corpus):    \n",
    "    \n",
    "        # remove punctuation\n",
    "        for punctuation in string.punctuation:        \n",
    "            sentence = line.replace(punctuation, '')\n",
    "\n",
    "        # remove stopwords\n",
    "        stop_words = set(stopwords.words('english'))\n",
    "        tokens = word_tokenize(sentence)\n",
    "        stopword_free_tokens = [token for token in tokens if token not in stop_words]\n",
    "        sentence = ' '.join(stopword_free_tokens)\n",
    "\n",
    "        # lemmatize\n",
    "        sentence = WordNetLemmatizer().lemmatize(sentence, pos='n')\n",
    "        sentence = WordNetLemmatizer().lemmatize(sentence, pos='v')\n",
    "        \n",
    "        # get bigrams\n",
    "        sent = sentence.split()\n",
    "\n",
    "        # yield tagged final corpus\n",
    "        yield TaggedDocument(bigrams[sent], [i])\n",
    "\n",
    "all_corpus = list(read_corpus(X_all))"
   ]
  },
  {
   "cell_type": "code",
   "execution_count": 10,
   "id": "522a0c7b",
   "metadata": {},
   "outputs": [],
   "source": [
    "# Preprocessing function for job descriptions\n",
    "\n",
    "def preprocess_input(sentence):\n",
    "    \n",
    "    # remove punctuation\n",
    "    for punctuation in string.punctuation:        \n",
    "        sentence = sentence.replace(punctuation, '')\n",
    "    \n",
    "    # set lowercase\n",
    "    sentence = sentence.lower()\n",
    "    \n",
    "    # remove numbers\n",
    "    sentence = ''.join(char for char in sentence if not char.isdigit())\n",
    "    \n",
    "    # remove stopwords\n",
    "    stop_words = set(stopwords.words('english'))\n",
    "    tokens = word_tokenize(sentence)\n",
    "    stopword_free_tokens = [token for token in tokens if token not in stop_words]\n",
    "    sentence = ' '.join(stopword_free_tokens)\n",
    "\n",
    "    # lemmatize\n",
    "    sentence = WordNetLemmatizer().lemmatize(sentence, pos='n')\n",
    "    sentence = WordNetLemmatizer().lemmatize(sentence, pos='v')\n",
    "    \n",
    "    # split into tokens again after Lemmatizing --- this was replaced by Phraser \n",
    "    # sentence = word_tokenize(sentence)\n",
    "    \n",
    "    return sentence\n",
    "\n",
    "new_description = preprocess_input(describe_your_job)"
   ]
  },
  {
   "cell_type": "code",
   "execution_count": 11,
   "id": "666fde5c",
   "metadata": {},
   "outputs": [
    {
     "data": {
      "text/plain": [
       "'technologies industries diebold nixdorf sigma bs lastly associated al mutaafi trading khartoum sudan atm department manager reported director successfully managed entire atm department including department setup finding good brand atm certification central bank sudan team hiring development train engineers recognized top management istinara matc khartoum sudan increasing number customers customers reach approximately market share atm sudan selling diebold nixdorf atms units atmeye establishing atm operations department increase uptime percentage machines alfa trading installing configuring atms belong banks sudan migrate atms old national host sm new national host campus upgrade atm software ndx ndx xv first implementation atmeye cctv system sudan support company erp system talent hiringteam training development organi zati onal experi enc e may ’ march al mutaafi trading khartoum–sudan atm department manager lastly managed entire functions business operations al mutaafi trading included finding atm brand signing partnership setting department approval certifying machine central bank sudan deploying machine customer site pilot project highlights \\uf0b7 establishing atm department \\uf0b7\\uf020catching global partners banking products \\uf0b7\\uf020developing atm machine follow process certifying testing scenarios new atm brand central bank sudan switch tranzware compass plus \\uf0b7\\uf020deployment atm machines test live environment \\uf0b7\\uf020training technical staff \\uf0b7\\uf020visit customers follow needs propose solutions alternative solutions customers \\uf0b7\\uf020prepare professional technical financial proposal presentation \\uf0b7\\uf020developing business finding new ideas promotions new products services fit eft market base cost benefits product \\uf0b7\\uf020 building maintaining important client relationships solving issues project lifecycle partners well jan ’ may private work family business khartoum–sudan car rent agency manager previous experi enc e highlights \\uf0b7 overseeing cars rent activities \\uf0b7\\uf020controlling office budget accounts nov ’ jan istinara matc khartoum–sudan business development marketing manager highlights \\uf0b7\\uf020developing business adding new products company \\uf0b7\\uf020success promote service replacing old machines new machines considering value old machines prices \\uf0b7\\uf020adding new banks customers list increase market share reach \\uf0b7\\uf020selling atms \\uf0b7\\uf020selling units atmeye cctv surveillance jun ’ oct istinara matc khartoum–sudan atm operations manager highlights \\uf0b7\\uf020establishing operation department \\uf0b7\\uf020success increase uptime machines \\uf0b7\\uf020send team training development \\uf0b7\\uf020deploying atmeye system different atm brands successfully \\uf0b7\\uf020solving issues conflict clients create good relationship clients \\uf0b7\\uf020provide optimum solutions advise atm issues including sw hw \\uf0b7\\uf020close issue ticket time feb ’ jan alfa trading khartoum–sudan atms technical support manager highlights \\uf0b7\\uf020deployment install diebold atms banks \\uf0b7\\uf020migrate atms old national host sm new one campus plus \\uf0b7\\uf020implement atm atmeye system sudan first time \\uf0b7\\uf020upgrade atm network software \\uf0b7\\uf020migrate fib host alaric host \\uf0b7\\uf020overseeing atms department activities maintenance ordering atms spare parts troubleshooting installing de installing atms upgrading models base location nov ’ jan alfa trading khartoum–sudan senior atms technical support engineer highlights \\uf0b7\\uf020targeting preventive maintenance delivery calls time \\uf0b7\\uf020train team \\uf0b7\\uf020spare parts stock control \\uf0b7\\uf020company erp support solving issues \\uf0b7\\uf020participate sales atms academic details bschonor computer science future university khartoum sudan certification training attended \\uf0b7 sigma atm swhw training sigma italy \\uf0b7\\uf020 wincor atm certified sales training wincornixdorf online course \\uf0b7\\uf020 wincor atm certified sales training wincornixdorf online course \\uf0b7\\uf020prince kiwi training center sudan \\uf0b7\\uf020 wincor procash ccdm cns uae \\uf0b7\\uf020 formal documents writing training alsakeena training center sudan \\uf0b7\\uf020 general english language cambridge training college sudan \\uf0b7\\uf020 diebold software agilis ndx diebold uae \\uf0b7\\uf020 diebold software general diebold uae \\uf0b7\\uf020 diebold opteva hardware raya integration egypt'"
      ]
     },
     "execution_count": 11,
     "metadata": {},
     "output_type": "execute_result"
    }
   ],
   "source": [
    "new_description"
   ]
  },
  {
   "cell_type": "code",
   "execution_count": 12,
   "id": "272d934b",
   "metadata": {},
   "outputs": [],
   "source": [
    "# load saved BERT model and its embedding from disk\n",
    "\n",
    "filename = '../model/bert_model.sav'\n",
    "bert_model = pickle.load(open(filename, 'rb'))\n",
    "\n",
    "filename = '../model/all_corpus_embed.sav'\n",
    "all_corpus_embed = pickle.load(open(filename, 'rb'))"
   ]
  },
  {
   "cell_type": "code",
   "execution_count": 13,
   "id": "53650fbc",
   "metadata": {},
   "outputs": [],
   "source": [
    "# run model\n",
    "\n",
    "# run input through the model\n",
    "new_description_embed = bert_model.encode(new_description)\n",
    "\n",
    "# calculate and order cosine similarity\n",
    "similarity_rank = cosine_similarity([new_description_embed], all_corpus_embed)\n",
    "similarity_rank_index = np.argsort(similarity_rank[0])[::-1]"
   ]
  },
  {
   "cell_type": "code",
   "execution_count": 14,
   "id": "a694d074",
   "metadata": {},
   "outputs": [
    {
     "name": "stdout",
     "output_type": "stream",
     "text": [
      "TEST DOCUMENT: technologies industries diebold nixdorf sigma bs lastly associated al mutaafi trading khartoum sudan atm department manager reported director successfully managed entire atm department including department setup finding good brand atm certification central bank sudan team hiring development train engineers recognized top management istinara matc khartoum sudan increasing number customers customers reach approximately market share atm sudan selling diebold nixdorf atms units atmeye establishing atm operations department increase uptime percentage machines alfa trading installing configuring atms belong banks sudan migrate atms old national host sm new national host campus upgrade atm software ndx ndx xv first implementation atmeye cctv system sudan support company erp system talent hiringteam training development organi zati onal experi enc e may ’ march al mutaafi trading khartoum–sudan atm department manager lastly managed entire functions business operations al mutaafi trading included finding atm brand signing partnership setting department approval certifying machine central bank sudan deploying machine customer site pilot project highlights  establishing atm department catching global partners banking products developing atm machine follow process certifying testing scenarios new atm brand central bank sudan switch tranzware compass plus deployment atm machines test live environment training technical staff visit customers follow needs propose solutions alternative solutions customers prepare professional technical financial proposal presentation developing business finding new ideas promotions new products services fit eft market base cost benefits product  building maintaining important client relationships solving issues project lifecycle partners well jan ’ may private work family business khartoum–sudan car rent agency manager previous experi enc e highlights  overseeing cars rent activities controlling office budget accounts nov ’ jan istinara matc khartoum–sudan business development marketing manager highlights developing business adding new products company success promote service replacing old machines new machines considering value old machines prices adding new banks customers list increase market share reach selling atms selling units atmeye cctv surveillance jun ’ oct istinara matc khartoum–sudan atm operations manager highlights establishing operation department success increase uptime machines send team training development deploying atmeye system different atm brands successfully solving issues conflict clients create good relationship clients provide optimum solutions advise atm issues including sw hw close issue ticket time feb ’ jan alfa trading khartoum–sudan atms technical support manager highlights deployment install diebold atms banks migrate atms old national host sm new one campus plus implement atm atmeye system sudan first time upgrade atm network software migrate fib host alaric host overseeing atms department activities maintenance ordering atms spare parts troubleshooting installing de installing atms upgrading models base location nov ’ jan alfa trading khartoum–sudan senior atms technical support engineer highlights targeting preventive maintenance delivery calls time train team spare parts stock control company erp support solving issues participate sales atms academic details bschonor computer science future university khartoum sudan certification training attended  sigma atm swhw training sigma italy  wincor atm certified sales training wincornixdorf online course  wincor atm certified sales training wincornixdorf online course prince kiwi training center sudan  wincor procash ccdm cns uae  formal documents writing training alsakeena training center sudan  general english language cambridge training college sudan  diebold software agilis ndx diebold uae  diebold software general diebold uae  diebold opteva hardware raya integration egypt \n",
      "\n",
      "LISTING 10 MOST SIMILAR JOB ROLES & DESCRIPTIONS \n",
      "\n",
      "RANK #1: casino manager\n",
      "betting manager organise and coordinate the activeness of a betting shop. they oversee daily operations and facilitate communication between faculty and customers. they carry out cashier duties, train faculty and strive to improve the profitableness of their business. they take responsibility for all betting activeness and ensure that relevant betting ruler and regularization are followed.\n",
      "Similarity score: 61.9 %\n",
      "Index in dataframe: 21194 \n",
      "\n",
      "RANK #2: senior banking products manager\n",
      "banking production manager study the grocery of banking production and adapt the existing 1 to the feature of this phylogenesis or create new production to suit client needs. they monitor and evaluate the performance indicant of these production and suggest improvements. banking products manager assist with the sales and marketing scheme of the bank.\n",
      "Similarity score: 61.2 %\n",
      "Index in dataframe: 29225 \n",
      "\n",
      "RANK #3: trainee import export manager  in household goods\n",
      "import exportation manager in home good install and maintain procedure for cross-border business, coordinating internal and external parties.\n",
      "Similarity score: 61.2 %\n",
      "Index in dataframe: 26490 \n",
      "\n",
      "RANK #4: betting manager\n",
      "betting manager organise and coordinate the activeness of a betting shop. they oversee daily surgery and facilitate communicating between faculty and customers. they carry out cashier duties, train faculty and strive to improve the profitableness of their business. they take province for all betting activeness and ensure that relevant betting ruler and regulations are followed.\n",
      "Similarity score: 60.9 %\n",
      "Index in dataframe: 21191 \n",
      "\n",
      "RANK #5: retail chemist shop manager\n",
      "medical good shop manager are responsible for activeness and faculty in specialised shops. ​they manage employees, monitor the sales of the store, manage budget and lodge supplies when a production is out of supply and perform administrative duties if required.\n",
      "Similarity score: 60.8 %\n",
      "Index in dataframe: 6937 \n",
      "\n",
      "RANK #6: bingo manager\n",
      "betting manager organise and coordinate the activeness of a betting shop. they oversee daily operations and facilitate communication between stave and customers. they carry out cashier duties, string faculty and strive to improve the profitableness of their business. they take province for all betting activity and ensure that relevant betting normal and regularization are followed.\n",
      "Similarity score: 60.8 %\n",
      "Index in dataframe: 21192 \n",
      "\n",
      "RANK #7: senior import manager in sugar, chocolate and sugar confectionery\n",
      "implication exportation manager in sugar, chocolate and shekels confectionery install and maintain procedure for cross-border business, coordinating internal and external parties.\n",
      "Similarity score: 60.7 %\n",
      "Index in dataframe: 26212 \n",
      "\n",
      "RANK #8: graduate supermarket manager\n",
      "supermarket director are responsible for activeness and faculty in a supermarket.\n",
      "Similarity score: 60.5 %\n",
      "Index in dataframe: 27372 \n",
      "\n",
      "RANK #9: senior export manager in sugar, chocolate and sugar confectionery\n",
      "import exportation director in sugar, chocolate and saccharide confectionery install and maintain subroutine for cross-border business, coordinating internal and external parties.\n",
      "Similarity score: 60.3 %\n",
      "Index in dataframe: 26204 \n",
      "\n",
      "RANK #10: chocolate confections store manager\n",
      "confectionary shop manager assume responsibility for activities and faculty in specialised store for confectionery e.g. pastries, candy, and chocolate.\n",
      "Similarity score: 60.3 %\n",
      "Index in dataframe: 32464 \n",
      "\n"
     ]
    }
   ],
   "source": [
    "print(f'TEST DOCUMENT: {new_description} \\n')\n",
    "print('LISTING 10 MOST SIMILAR JOB ROLES & DESCRIPTIONS \\n')\n",
    "\n",
    "for i in range(n_jobs):\n",
    "    \n",
    "    if similarity_rank_index[i] <= len(df_occ_n_skills):\n",
    "        new_index = similarity_rank_index[i]\n",
    "    else:\n",
    "        new_index = similarity_rank_index[i] - len(df_occ_n_skills)\n",
    "\n",
    "    print(f'RANK #{i+1}: ' + df_occ_n_skills.loc[new_index]['job_title'])\n",
    "    print(df_occ_n_skills.loc[new_index]['description'])\n",
    "    print(f'Similarity score: {round(similarity_rank[0][similarity_rank_index[i]]*100,1)} %')\n",
    "    print(f'Index in dataframe: {new_index} \\n')\n",
    "\n"
   ]
  }
 ],
 "metadata": {
  "kernelspec": {
   "display_name": "Python 3 (ipykernel)",
   "language": "python",
   "name": "python3"
  },
  "language_info": {
   "codemirror_mode": {
    "name": "ipython",
    "version": 3
   },
   "file_extension": ".py",
   "mimetype": "text/x-python",
   "name": "python",
   "nbconvert_exporter": "python",
   "pygments_lexer": "ipython3",
   "version": "3.8.12"
  },
  "toc": {
   "base_numbering": 1,
   "nav_menu": {},
   "number_sections": true,
   "sideBar": true,
   "skip_h1_title": false,
   "title_cell": "Table of Contents",
   "title_sidebar": "Contents",
   "toc_cell": false,
   "toc_position": {},
   "toc_section_display": true,
   "toc_window_display": false
  }
 },
 "nbformat": 4,
 "nbformat_minor": 5
}
