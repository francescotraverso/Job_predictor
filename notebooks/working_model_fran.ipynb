{
 "cells": [
  {
   "cell_type": "code",
   "execution_count": null,
   "id": "27469732",
   "metadata": {},
   "outputs": [],
   "source": [
    "# print(f'TEST DOCUMENT: {new_description} \\n')\n",
    "# print('LISTING 10 MOST SIMILAR JOB ROLES & DESCRIPTIONS \\n')\n",
    "\n",
    "# for i in range(n_jobs):\n",
    "    \n",
    "#     if similarity_rank_index[i] <= len(df_occ_n_skills):\n",
    "#         new_index = similarity_rank_index[i]\n",
    "#     else:\n",
    "#         new_index = similarity_rank_index[i] - len(df_occ_n_skills)\n",
    "\n",
    "#     print(f'RANK #{i+1}: ' + df_occ_n_skills.loc[new_index]['job_title'])\n",
    "#     print(df_occ_n_skills.loc[new_index]['description'])\n",
    "#     print(f'Similarity score: {round(similarity_rank[0][similarity_rank_index[i]]*100,1)} %')\n",
    "#     print(f'Index in dataframe: {new_index} \\n')\n",
    "\n"
   ]
  },
  {
   "cell_type": "code",
   "execution_count": 1,
   "id": "fbc18917",
   "metadata": {},
   "outputs": [],
   "source": [
    "import pandas as pd\n",
    "import numpy as np\n",
    "import string\n",
    "import random\n",
    "import pickle\n",
    "from tqdm import tqdm\n",
    "from gensim.models.phrases import Phrases, ENGLISH_CONNECTOR_WORDS\n",
    "from gensim.models.doc2vec import TaggedDocument\n",
    "import nltk\n",
    "from nltk import word_tokenize\n",
    "from nltk.corpus import stopwords\n",
    "from nltk.stem import WordNetLemmatizer\n",
    "from sentence_transformers import SentenceTransformer\n",
    "from sklearn.metrics.pairwise import cosine_similarity\n",
    "from pyresparser import ResumeParser\n",
    "import re\n",
    "import csv"
   ]
  },
  {
   "cell_type": "code",
   "execution_count": 2,
   "id": "c7a7264b",
   "metadata": {
    "scrolled": false
   },
   "outputs": [
    {
     "name": "stderr",
     "output_type": "stream",
     "text": [
      "/home/ftraverso/.pyenv/versions/3.8.12/envs/job_predictor-env/lib/python3.8/site-packages/spacy/util.py:275: UserWarning: [W031] Model 'en_training' (0.0.0) requires spaCy v2.1 and is incompatible with the current spaCy version (2.3.5). This may lead to unexpected results or runtime errors. To resolve this, download a newer compatible model or retrain your custom model with the current spaCy version. For more details and available updates, run: python -m spacy validate\n",
      "  warnings.warn(warn_msg)\n"
     ]
    },
    {
     "data": {
      "text/plain": [
       "'Management Consulting in FREESCG - Food Consultant - Management consultancy specialized in food & beverage - Consulting services for restaurants, bars and similar - Project developed with specialization to each client through a diagnosis and an action plan put into practice, with analysis of the obtained results - Areas of expertise: Financial, Logistics, Human Resources, Marketing, Administrative Backoffice, Production and Operation Analysis and Management of Purchasing and Logistics in MADPIZZA - Evaluation, restructuring and monitoring of existing logistics department - Establish two-way communication procedures with an emphasis on motivation and teamwork - Consumption forecast - Supplier assessment, prospecting and monitoring - Settle divergences or create quick solutions - Creation of new work tools - Supply chain assessment and identification of improvement points - Supervision of stock and orders of each cost center in order to reduce inventory costs - Order Validation by Point of Sale - Ensure permanent inventory maintenance: controlling stock levels and stock replenishment Food and Beverage Controller - Food & Beverage Performance Monitoring - Cost Control - Inventory Tracking - Identification of operational, financial and logistic improvement points (Lean) - Apply performance indicators - Periodic Reporting'"
      ]
     },
     "execution_count": 2,
     "metadata": {},
     "output_type": "execute_result"
    }
   ],
   "source": [
    "###DECLARE CV PATH###\n",
    "path = '/home/ftraverso/code/francescotraverso/job_predictor/data/cv_directory/CV_Example.pdf'\n",
    "\n",
    "###OPEN RESUME###\n",
    "resume = ResumeParser(path).get_extracted_data()\n",
    "\n",
    "###EXTRACT JOB EXPERIENCE###\n",
    "JD = \" \".join(resume['experience'])\n",
    "JD"
   ]
  },
  {
   "cell_type": "code",
   "execution_count": 3,
   "id": "21678829",
   "metadata": {
    "collapsed": true
   },
   "outputs": [
    {
     "data": {
      "text/plain": [
       "{'name': 'SANDRA C.',\n",
       " 'email': 'sandracgeraldes@gmail.com',\n",
       " 'mobile_number': None,\n",
       " 'skills': ['Marketing',\n",
       "  'Beverage',\n",
       "  'Logistics',\n",
       "  'English',\n",
       "  'Human resources',\n",
       "  'Analysis',\n",
       "  'Reporting',\n",
       "  'Purchasing',\n",
       "  'Improvement',\n",
       "  'Excel',\n",
       "  'Word',\n",
       "  'Consulting',\n",
       "  'Inventory',\n",
       "  'Communication',\n",
       "  'Prospecting',\n",
       "  'Lean',\n",
       "  'Plan'],\n",
       " 'college_name': None,\n",
       " 'degree': None,\n",
       " 'designation': None,\n",
       " 'experience': ['Management Consulting in FREESCG - Food Consultant',\n",
       "  '- Management consultancy specialized in food & beverage',\n",
       "  '- Consulting services for restaurants, bars and similar',\n",
       "  '- Project developed with specialization to each client through a diagnosis and an action plan put',\n",
       "  'into practice, with analysis of the obtained results',\n",
       "  '- Areas of expertise: Financial, Logistics, Human Resources, Marketing, Administrative Backoffice,',\n",
       "  'Production and Operation',\n",
       "  'Analysis and Management of Purchasing and Logistics in MADPIZZA',\n",
       "  '- Evaluation, restructuring and monitoring of existing logistics department',\n",
       "  '- Establish two-way communication procedures with an emphasis on motivation and teamwork',\n",
       "  '- Consumption forecast',\n",
       "  '- Supplier assessment, prospecting and monitoring',\n",
       "  '- Settle divergences or create quick solutions',\n",
       "  '- Creation of new work tools',\n",
       "  '- Supply chain assessment and identification of improvement points',\n",
       "  '- Supervision of stock and orders of each cost center in order to reduce inventory costs',\n",
       "  '- Order Validation by Point of Sale',\n",
       "  '- Ensure permanent inventory maintenance: controlling stock levels and stock replenishment',\n",
       "  'Food and Beverage Controller',\n",
       "  '- Food & Beverage Performance Monitoring',\n",
       "  '- Cost Control',\n",
       "  '- Inventory Tracking',\n",
       "  '- Identification of operational, financial and logistic improvement points (Lean)',\n",
       "  '- Apply performance indicators',\n",
       "  '- Periodic Reporting'],\n",
       " 'company_names': None,\n",
       " 'no_of_pages': 1,\n",
       " 'total_experience': 0.0}"
      ]
     },
     "execution_count": 3,
     "metadata": {},
     "output_type": "execute_result"
    }
   ],
   "source": [
    "resume"
   ]
  },
  {
   "cell_type": "code",
   "execution_count": 33,
   "id": "00aa7795",
   "metadata": {},
   "outputs": [],
   "source": [
    "with open('../data/ESCO/data_science_skills_ESCO.csv', newline='') as f:\n",
    "    reader = csv.reader(f)\n",
    "    csv_data = list(reader)\n",
    "    ds_keywords = [item for sublist in csv_data for item in sublist]\n",
    "\n",
    "ds_skills = \" \".join(ds_keywords)\n",
    "#ds_skills"
   ]
  },
  {
   "cell_type": "code",
   "execution_count": 73,
   "id": "1963cc90",
   "metadata": {},
   "outputs": [],
   "source": [
    "def truncate_description(job_description, no_words):\n",
    "    return ' '.join(describe_your_job.split()[:no_words:1])"
   ]
  },
  {
   "cell_type": "code",
   "execution_count": 80,
   "id": "c00aa9dc",
   "metadata": {},
   "outputs": [
    {
     "data": {
      "text/plain": [
       "'Property Value Analyst, 2017 – present Companies: Fenacam (creditoagricola.pt), Coimbra District Court, private clients and 9 other appraisal companies - Appraisal of flats, houses, stores, warehouses, hotels and lands for investment funds, city courts, private clients and bank mortgage loans for almost every major bank in Portugal. - Property data was gathered daily and treated statistically to produce appraisal reports, fueling the desire to pursue'"
      ]
     },
     "execution_count": 80,
     "metadata": {},
     "output_type": "execute_result"
    }
   ],
   "source": [
    "############################\n",
    "### describe your job!!! ###\n",
    "############################\n",
    "\n",
    "describe_your_job = \"\"\"Property Value Analyst, 2017 – present\n",
    "Companies: Fenacam (creditoagricola.pt), Coimbra District Court, private clients and 9 other appraisal companies\n",
    "- Appraisal of flats, houses, stores, warehouses, hotels and lands for investment funds, city courts, private clients and \n",
    "bank mortgage loans for almost every major bank in Portugal.\n",
    "- Property data was gathered daily and treated statistically to produce appraisal reports, fueling the desire to pursue a \n",
    "path in Data Science.\n",
    "- Also issued Energy Performance Certificates of flats, houses and shops.\n",
    "- Created the imostudio brand (imostudio.pt) for online business promotion.\n",
    "Cluster and Operations Manager, 2016 – 2018\n",
    "MTD Pure Water (mtd.net)\n",
    "- Coordinated design and setting up of technical solutions for temporary water and wastewater installations for the \n",
    "2016 Olympic Games in Rio de Janeiro and for 3 exhibition centers in Paris.\n",
    "- Responsible for team leadership, planning, equipment requests and liaison with venue managers.\n",
    "- For its delivery in the 2016 Olympics, MTD was awarded Best Operations Team at the Sports Business Awards 2017.\n",
    "Site and Supervision Manager in Civil Engineering, 2006 – 2016\n",
    "Companies: Pengest (pengest.pt), Lena Group (grupolena.pt), Projectual (projectual.pt) and Serrialu (serrialu.com)\n",
    "- Managed and supervised construction projects from 0,5 M€ to 31 M€ in Portugal, Algeria, Angola and France.\n",
    "- Responsible for team leadership, planning, works coordination, invoicing, procurement, contract management,\n",
    "tendering and cost control.\n",
    "- Throughout the projects, data was collected and treated to make decisions and to report financial performance\n",
    "\"\"\"\n",
    "\n",
    "\n",
    "\" \".join(JD.split()[:50:1])\n",
    "\n",
    "##################################\n",
    "### get 'n' job suggeestion!!! ###\n",
    "##################################\n",
    "\n",
    "n_jobs = 10\n",
    "\n",
    "describe_your_job =  truncate_description(describe_your_job,65)\n",
    "describe_your_job"
   ]
  },
  {
   "cell_type": "code",
   "execution_count": 81,
   "id": "c1f5bccc",
   "metadata": {},
   "outputs": [
    {
     "name": "stderr",
     "output_type": "stream",
     "text": [
      "/tmp/ipykernel_492/608757610.py:3: DtypeWarning: Columns (12) have mixed types. Specify dtype option on import or set low_memory=False.\n",
      "  df_occ_n_skills = pd.read_csv('../data/ESCO/occupations_augmented_with_skills.csv')\n"
     ]
    }
   ],
   "source": [
    "# get dataframes from CSV files\n",
    "\n",
    "df_occ_n_skills = pd.read_csv('../data/ESCO/occupations_augmented_with_skills.csv')"
   ]
  },
  {
   "cell_type": "code",
   "execution_count": 82,
   "id": "87169c10",
   "metadata": {
    "scrolled": false
   },
   "outputs": [],
   "source": [
    "# filter unneeded columns of of the dataframe and add needed ones\n",
    "\n",
    "df_occ_n_skills = df_occ_n_skills.filter(items=['preferredLabel', 'description', 'skills'])\n",
    "df_occ_n_skills = df_occ_n_skills.reindex(columns=['preferredLabel','description', 'skills'])\n",
    "df_occ_n_skills.rename(columns={'preferredLabel': 'job_title'}, inplace=True)\n",
    "df_occ_n_skills['description_input'] = 0\n",
    "df_occ_n_skills['skills_input'] = 0"
   ]
  },
  {
   "cell_type": "code",
   "execution_count": 83,
   "id": "a24a5345",
   "metadata": {},
   "outputs": [
    {
     "name": "stderr",
     "output_type": "stream",
     "text": [
      "35824it [00:04, 7420.76it/s]\n"
     ]
    }
   ],
   "source": [
    "# create description_input and skills_input, which are strings on which the model will be fit\n",
    "\n",
    "for row, index in tqdm(df_occ_n_skills.iterrows()):\n",
    "    underscored_job_title = index['job_title'].replace(\" \", \"_\")\n",
    "    this_rows_description_input = underscored_job_title + ' ' + index['description']\n",
    "    this_rows_skills_input = underscored_job_title + ' ' + index['skills']\n",
    "    df_occ_n_skills.iloc[row,-2] = this_rows_description_input\n",
    "    df_occ_n_skills.iloc[row,-1] = this_rows_skills_input"
   ]
  },
  {
   "cell_type": "code",
   "execution_count": 84,
   "id": "b3e40f6b",
   "metadata": {
    "scrolled": true
   },
   "outputs": [
    {
     "data": {
      "text/html": [
       "<div>\n",
       "<style scoped>\n",
       "    .dataframe tbody tr th:only-of-type {\n",
       "        vertical-align: middle;\n",
       "    }\n",
       "\n",
       "    .dataframe tbody tr th {\n",
       "        vertical-align: top;\n",
       "    }\n",
       "\n",
       "    .dataframe thead th {\n",
       "        text-align: right;\n",
       "    }\n",
       "</style>\n",
       "<table border=\"1\" class=\"dataframe\">\n",
       "  <thead>\n",
       "    <tr style=\"text-align: right;\">\n",
       "      <th></th>\n",
       "      <th>job_title</th>\n",
       "      <th>description</th>\n",
       "      <th>skills</th>\n",
       "      <th>description_input</th>\n",
       "      <th>skills_input</th>\n",
       "    </tr>\n",
       "  </thead>\n",
       "  <tbody>\n",
       "    <tr>\n",
       "      <th>0</th>\n",
       "      <td>technical director</td>\n",
       "      <td>Technical directors realise the artistic visio...</td>\n",
       "      <td>adapt to artists' creative demands, organise r...</td>\n",
       "      <td>technical_director Technical directors realise...</td>\n",
       "      <td>technical_director adapt to artists' creative ...</td>\n",
       "    </tr>\n",
       "    <tr>\n",
       "      <th>1</th>\n",
       "      <td>metal drawing machine operator</td>\n",
       "      <td>Metal drawing machine operators set up and ope...</td>\n",
       "      <td>cold drawing processes, monitor moving workpie...</td>\n",
       "      <td>metal_drawing_machine_operator Metal drawing m...</td>\n",
       "      <td>metal_drawing_machine_operator cold drawing pr...</td>\n",
       "    </tr>\n",
       "    <tr>\n",
       "      <th>2</th>\n",
       "      <td>precision device inspector</td>\n",
       "      <td>Precision device inspectors make sure precisio...</td>\n",
       "      <td>precision measuring instruments, monitor machi...</td>\n",
       "      <td>precision_device_inspector Precision device in...</td>\n",
       "      <td>precision_device_inspector precision measuring...</td>\n",
       "    </tr>\n",
       "    <tr>\n",
       "      <th>3</th>\n",
       "      <td>air traffic safety technician</td>\n",
       "      <td>Air traffic safety technicians provide technic...</td>\n",
       "      <td>air transport law, aircraft flight control sys...</td>\n",
       "      <td>air_traffic_safety_technician Air traffic safe...</td>\n",
       "      <td>air_traffic_safety_technician air transport la...</td>\n",
       "    </tr>\n",
       "    <tr>\n",
       "      <th>4</th>\n",
       "      <td>hospitality revenue manager</td>\n",
       "      <td>Hospitality revenue managers maximise revenue ...</td>\n",
       "      <td>develop revenue generation strategies, ensure ...</td>\n",
       "      <td>hospitality_revenue_manager Hospitality revenu...</td>\n",
       "      <td>hospitality_revenue_manager develop revenue ge...</td>\n",
       "    </tr>\n",
       "  </tbody>\n",
       "</table>\n",
       "</div>"
      ],
      "text/plain": [
       "                        job_title  \\\n",
       "0              technical director   \n",
       "1  metal drawing machine operator   \n",
       "2      precision device inspector   \n",
       "3   air traffic safety technician   \n",
       "4     hospitality revenue manager   \n",
       "\n",
       "                                         description  \\\n",
       "0  Technical directors realise the artistic visio...   \n",
       "1  Metal drawing machine operators set up and ope...   \n",
       "2  Precision device inspectors make sure precisio...   \n",
       "3  Air traffic safety technicians provide technic...   \n",
       "4  Hospitality revenue managers maximise revenue ...   \n",
       "\n",
       "                                              skills  \\\n",
       "0  adapt to artists' creative demands, organise r...   \n",
       "1  cold drawing processes, monitor moving workpie...   \n",
       "2  precision measuring instruments, monitor machi...   \n",
       "3  air transport law, aircraft flight control sys...   \n",
       "4  develop revenue generation strategies, ensure ...   \n",
       "\n",
       "                                   description_input  \\\n",
       "0  technical_director Technical directors realise...   \n",
       "1  metal_drawing_machine_operator Metal drawing m...   \n",
       "2  precision_device_inspector Precision device in...   \n",
       "3  air_traffic_safety_technician Air traffic safe...   \n",
       "4  hospitality_revenue_manager Hospitality revenu...   \n",
       "\n",
       "                                        skills_input  \n",
       "0  technical_director adapt to artists' creative ...  \n",
       "1  metal_drawing_machine_operator cold drawing pr...  \n",
       "2  precision_device_inspector precision measuring...  \n",
       "3  air_traffic_safety_technician air transport la...  \n",
       "4  hospitality_revenue_manager develop revenue ge...  "
      ]
     },
     "execution_count": 84,
     "metadata": {},
     "output_type": "execute_result"
    }
   ],
   "source": [
    "# inspect dataframe\n",
    "\n",
    "df_occ_n_skills.head()"
   ]
  },
  {
   "cell_type": "code",
   "execution_count": 85,
   "id": "0e56f86c",
   "metadata": {},
   "outputs": [],
   "source": [
    "# get entire dataframe as dataset according to Qiewi's suggestion\n",
    "# concatenate the job_title:skills list to the end of df_occ_n_skills\n",
    "\n",
    "X_all = pd.concat([df_occ_n_skills['description_input'], df_occ_n_skills['skills_input']]).reset_index(drop=True)"
   ]
  },
  {
   "cell_type": "code",
   "execution_count": 86,
   "id": "8f64558b",
   "metadata": {},
   "outputs": [],
   "source": [
    "# applying preprocessing to corpus as in Gensim tutorial, also applying Phraser\n",
    "\n",
    "def read_corpus(corpus):\n",
    "   \n",
    "    # instantiate Phraser outside of the loop\n",
    "    sentence_stream = [entry.split(\" \") for entry in corpus]\n",
    "    bigrams = Phrases(\n",
    "        sentence_stream,\n",
    "        min_count=5,\n",
    "        threshold=5,\n",
    "        connector_words=ENGLISH_CONNECTOR_WORDS\n",
    "        )\n",
    "    \n",
    "    for i, line in enumerate(corpus):    \n",
    "    \n",
    "        # remove punctuation\n",
    "        for punctuation in string.punctuation:        \n",
    "            sentence = line.replace(punctuation, '')\n",
    "\n",
    "        # remove stopwords\n",
    "        stop_words = set(stopwords.words('english'))\n",
    "        tokens = word_tokenize(sentence)\n",
    "        stopword_free_tokens = [token for token in tokens if token not in stop_words]\n",
    "        sentence = ' '.join(stopword_free_tokens)\n",
    "\n",
    "        # lemmatize\n",
    "        sentence = WordNetLemmatizer().lemmatize(sentence, pos='n')\n",
    "        sentence = WordNetLemmatizer().lemmatize(sentence, pos='v')\n",
    "        \n",
    "        # get bigrams\n",
    "        sent = sentence.split()\n",
    "\n",
    "        # yield tagged final corpus\n",
    "        yield TaggedDocument(bigrams[sent], [i])\n",
    "\n",
    "all_corpus = list(read_corpus(X_all))"
   ]
  },
  {
   "cell_type": "code",
   "execution_count": 87,
   "id": "522a0c7b",
   "metadata": {},
   "outputs": [],
   "source": [
    "# Preprocessing function for job descriptions\n",
    "\n",
    "def preprocess_input(sentence, ds_insert=False, ds_insert_ratio=0.2):\n",
    "    \n",
    "    if ds_insert == True:\n",
    "\n",
    "        sentence_splitted = sentence.split()\n",
    "\n",
    "        if len(sentence_splitted) * ds_insert_ratio >= len(ds_skills):\n",
    "            print('Warning: Chosen ratio is using up all available Data Science keywords!')\n",
    "\n",
    "        insertion_amount = int(len(sentence_splitted) * ds_insert_ratio)\n",
    "        insertion_counter = 0\n",
    "\n",
    "        for insertion in range(insertion_amount):\n",
    "            if len(sentence_splitted) * ds_insert_ratio <= len(ds_keywords):\n",
    "                sentence_splitted.append(ds_keywords[insertion_counter])\n",
    "                insertion_counter += 1\n",
    "\n",
    "        sentence = ' '.join(sentence_splitted)\n",
    "    \n",
    "    # remove punctuation\n",
    "    for punctuation in string.punctuation:        \n",
    "        sentence = sentence.replace(punctuation, '')\n",
    "    \n",
    "    # set lowercase\n",
    "    sentence = sentence.lower()\n",
    "    \n",
    "    # remove numbers\n",
    "    sentence = ''.join(char for char in sentence if not char.isdigit())\n",
    "    \n",
    "    # remove stopwords\n",
    "    stop_words = set(stopwords.words('english'))\n",
    "    tokens = word_tokenize(sentence)\n",
    "    stopword_free_tokens = [token for token in tokens if token not in stop_words]\n",
    "    sentence = ' '.join(stopword_free_tokens)\n",
    "\n",
    "    # lemmatize\n",
    "    sentence = WordNetLemmatizer().lemmatize(sentence, pos='n')\n",
    "    sentence = WordNetLemmatizer().lemmatize(sentence, pos='v')\n",
    "    \n",
    "    # split into tokens again after Lemmatizing --- this was replaced by Phraser \n",
    "    # sentence = word_tokenize(sentence)\n",
    "    \n",
    "    # insert data science keywords if ds_insert==True\n",
    "    \n",
    "    \n",
    "    return sentence"
   ]
  },
  {
   "cell_type": "code",
   "execution_count": 88,
   "id": "1c89270b",
   "metadata": {},
   "outputs": [],
   "source": [
    "new_description = preprocess_input(describe_your_job)\n",
    "# new_description"
   ]
  },
  {
   "cell_type": "code",
   "execution_count": 89,
   "id": "272d934b",
   "metadata": {},
   "outputs": [],
   "source": [
    "# load saved BERT model and its embedding from disk\n",
    "\n",
    "filename = '../model/bert_model.sav'\n",
    "bert_model = pickle.load(open(filename, 'rb'))\n",
    "\n",
    "filename = '../model/all_corpus_embed.sav'\n",
    "all_corpus_embed = pickle.load(open(filename, 'rb'))"
   ]
  },
  {
   "cell_type": "code",
   "execution_count": 90,
   "id": "53650fbc",
   "metadata": {},
   "outputs": [],
   "source": [
    "# # run model\n",
    "\n",
    "# # run input through the model\n",
    "# new_description_embed = bert_model.encode(new_description)\n",
    "\n",
    "# # calculate and order cosine similarity\n",
    "# similarity_rank = cosine_similarity([new_description_embed], all_corpus_embed)\n",
    "# similarity_rank_index = np.argsort(similarity_rank[0])[::-1]\n",
    "\n"
   ]
  },
  {
   "cell_type": "code",
   "execution_count": 91,
   "id": "46942d26",
   "metadata": {
    "scrolled": false
   },
   "outputs": [
    {
     "name": "stdout",
     "output_type": "stream",
     "text": [
      "property value analyst – present companies fenacam creditoagricolapt coimbra district court private clients appraisal companies appraisal flats houses stores warehouses hotels lands investment funds city courts private clients bank mortgage loans almost every major bank portugal property data gathered daily treated statistically produce appraisal reports fueling desire pursue\n",
      "property value analyst – present companies fenacam creditoagricolapt coimbra district court private clients appraisal companies appraisal flats houses stores warehouses hotels lands investment funds city courts private clients bank mortgage loans almost every major bank portugal property data gathered daily treated statistically produce appraisal reports fueling desire pursue machine learning algorithms deep learning algorithms statistics data science data analysis business intelligence use databases data processing collect ict data data models data mining analyse big data normalize data query languages statistical analysis techniques online analytical processing handle data samples visual presentation techniques data cleansing\n",
      "~~~RESULT COMPARISON~~~ \n",
      "\n",
      "RANK #1:\n",
      "ORIGINAL: private banking relationship manager\n",
      "W/ DS KW: graduate import export manager in office furniture\n",
      "\n",
      "RANK #2:\n",
      "ORIGINAL: corporate investment banker\n",
      "W/ DS KW: trainee import manager in office furniture\n",
      "\n",
      "RANK #3:\n",
      "ORIGINAL: senior banking products manager\n",
      "W/ DS KW: internet banking manager\n",
      "\n",
      "RANK #4:\n",
      "ORIGINAL: mortgage coordinator\n",
      "W/ DS KW: mortgage products manager\n",
      "\n",
      "RANK #5:\n",
      "ORIGINAL: bank branch manager\n",
      "W/ DS KW: trainee import export specialist in office furniture\n",
      "\n",
      "RANK #6:\n",
      "ORIGINAL: mortgage officer\n",
      "W/ DS KW: senior banking products manager\n",
      "\n",
      "RANK #7:\n",
      "ORIGINAL: mortgage broker\n",
      "W/ DS KW: international trade compliance specialist in office furniture\n",
      "\n",
      "RANK #8:\n",
      "ORIGINAL: mortgage professional\n",
      "W/ DS KW: business banking officer\n",
      "\n",
      "RANK #9:\n",
      "ORIGINAL: corporate bank manager\n",
      "W/ DS KW: trainee import export manager in computers, computer peripheral equipment and software\n",
      "\n",
      "RANK #10:\n",
      "ORIGINAL: bank treasurer\n",
      "W/ DS KW: internet banking executive\n",
      "\n"
     ]
    }
   ],
   "source": [
    "### result comparison between no DS keywords and DS keywords ###\n",
    "\n",
    "# insert the ratio you want for the insertion of data science keywords (value between 0 and 1)\n",
    "ds_ratio = 0.3\n",
    "\n",
    "# preprocess\n",
    "new_description_no_ds = preprocess_input(describe_your_job)\n",
    "new_description_w_ds = preprocess_input(describe_your_job, ds_insert=True, ds_insert_ratio=ds_ratio)\n",
    "\n",
    "print(new_description_no_ds)\n",
    "print(new_description_w_ds)\n",
    "\n",
    "\n",
    "# run input through the model\n",
    "new_description_no_ds_embed = bert_model.encode(new_description_no_ds)\n",
    "new_description_w_ds_embed = bert_model.encode(new_description_w_ds)\n",
    "\n",
    "# calculate and order cosine similarity\n",
    "similarity_rank_no_ds = cosine_similarity([new_description_no_ds_embed], all_corpus_embed)\n",
    "similarity_rank_index_no_ds = np.argsort(similarity_rank_no_ds[0])[::-1]\n",
    "similarity_rank_w_ds = cosine_similarity([new_description_w_ds_embed], all_corpus_embed)\n",
    "similarity_rank_index_w_ds = np.argsort(similarity_rank_w_ds[0])[::-1]\n",
    "\n",
    "# show results\n",
    "print('~~~RESULT COMPARISON~~~ \\n')\n",
    "\n",
    "for i in range(n_jobs):\n",
    "    \n",
    "    if similarity_rank_index_no_ds[i] <= len(df_occ_n_skills):\n",
    "        new_index = similarity_rank_index_no_ds[i]\n",
    "    else:\n",
    "        new_index = similarity_rank_index_no_ds[i] - len(df_occ_n_skills)\n",
    "\n",
    "    print(f'RANK #{i+1}:')\n",
    "    print('ORIGINAL: ' + df_occ_n_skills.loc[new_index]['job_title'])\n",
    "\n",
    "    if similarity_rank_index_w_ds[i] <= len(df_occ_n_skills):\n",
    "        new_index = similarity_rank_index_w_ds[i]\n",
    "    else:\n",
    "        new_index = similarity_rank_index_w_ds[i] - len(df_occ_n_skills)\n",
    "    \n",
    "    print('W/ DS KW: ' + df_occ_n_skills.loc[new_index]['job_title'])\n",
    "    print('')"
   ]
  }
 ],
 "metadata": {
  "kernelspec": {
   "display_name": "Python 3 (ipykernel)",
   "language": "python",
   "name": "python3"
  },
  "language_info": {
   "codemirror_mode": {
    "name": "ipython",
    "version": 3
   },
   "file_extension": ".py",
   "mimetype": "text/x-python",
   "name": "python",
   "nbconvert_exporter": "python",
   "pygments_lexer": "ipython3",
   "version": "3.8.12"
  },
  "toc": {
   "base_numbering": 1,
   "nav_menu": {},
   "number_sections": true,
   "sideBar": true,
   "skip_h1_title": false,
   "title_cell": "Table of Contents",
   "title_sidebar": "Contents",
   "toc_cell": false,
   "toc_position": {},
   "toc_section_display": true,
   "toc_window_display": false
  }
 },
 "nbformat": 4,
 "nbformat_minor": 5
}
