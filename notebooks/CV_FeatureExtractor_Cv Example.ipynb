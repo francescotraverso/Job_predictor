{
 "cells": [
  {
   "cell_type": "code",
   "execution_count": 1,
   "id": "750effb9",
   "metadata": {},
   "outputs": [],
   "source": [
    "from pyresparser import ResumeParser"
   ]
  },
  {
   "cell_type": "code",
   "execution_count": 2,
   "id": "d22d927a",
   "metadata": {},
   "outputs": [
    {
     "data": {
      "text/plain": [
       "'/Users/sandragomes/code/francescotraverso/job_predictor/data/cv_directory/received_files/CV_Example.pdf'"
      ]
     },
     "execution_count": 2,
     "metadata": {},
     "output_type": "execute_result"
    }
   ],
   "source": [
    "path = '/Users/sandragomes/code/francescotraverso/job_predictor/data/cv_directory/received_files/CV_Example.pdf'\n",
    "path"
   ]
  },
  {
   "cell_type": "code",
   "execution_count": 3,
   "id": "9fc476b5",
   "metadata": {},
   "outputs": [
    {
     "name": "stderr",
     "output_type": "stream",
     "text": [
      "/Users/sandragomes/.pyenv/versions/job_predictor-env/lib/python3.8/site-packages/spacy/util.py:275: UserWarning: [W031] Model 'en_training' (0.0.0) requires spaCy v2.1 and is incompatible with the current spaCy version (2.3.5). This may lead to unexpected results or runtime errors. To resolve this, download a newer compatible model or retrain your custom model with the current spaCy version. For more details and available updates, run: python -m spacy validate\n",
      "  warnings.warn(warn_msg)\n"
     ]
    },
    {
     "data": {
      "text/plain": [
       "{'name': 'SANDRA C.',\n",
       " 'email': 'sandracgeraldes@gmail.com',\n",
       " 'mobile_number': None,\n",
       " 'skills': ['Consulting',\n",
       "  'Lean',\n",
       "  'Reporting',\n",
       "  'Marketing',\n",
       "  'Purchasing',\n",
       "  'Inventory',\n",
       "  'Excel',\n",
       "  'English',\n",
       "  'Plan',\n",
       "  'Communication',\n",
       "  'Beverage',\n",
       "  'Logistics',\n",
       "  'Prospecting',\n",
       "  'Analysis',\n",
       "  'Word',\n",
       "  'Improvement',\n",
       "  'Human resources'],\n",
       " 'college_name': None,\n",
       " 'degree': None,\n",
       " 'designation': None,\n",
       " 'experience': ['Management Consulting in FREESCG - Food Consultant',\n",
       "  '- Management consultancy specialized in food & beverage',\n",
       "  '- Consulting services for restaurants, bars and similar',\n",
       "  '- Project developed with specialization to each client through a diagnosis and an action plan put',\n",
       "  'into practice, with analysis of the obtained results',\n",
       "  '- Areas of expertise: Financial, Logistics, Human Resources, Marketing, Administrative Backoffice,',\n",
       "  'Production and Operation',\n",
       "  'Analysis and Management of Purchasing and Logistics in MADPIZZA',\n",
       "  '- Evaluation, restructuring and monitoring of existing logistics department',\n",
       "  '- Establish two-way communication procedures with an emphasis on motivation and teamwork',\n",
       "  '- Consumption forecast',\n",
       "  '- Supplier assessment, prospecting and monitoring',\n",
       "  '- Settle divergences or create quick solutions',\n",
       "  '- Creation of new work tools',\n",
       "  '- Supply chain assessment and identification of improvement points',\n",
       "  '- Supervision of stock and orders of each cost center in order to reduce inventory costs',\n",
       "  '- Order Validation by Point of Sale',\n",
       "  '- Ensure permanent inventory maintenance: controlling stock levels and stock replenishment',\n",
       "  'Food and Beverage Controller',\n",
       "  '- Food & Beverage Performance Monitoring',\n",
       "  '- Cost Control',\n",
       "  '- Inventory Tracking',\n",
       "  '- Identification of operational, financial and logistic improvement points (Lean)',\n",
       "  '- Apply performance indicators',\n",
       "  '- Periodic Reporting'],\n",
       " 'company_names': None,\n",
       " 'no_of_pages': 1,\n",
       " 'total_experience': 0.0}"
      ]
     },
     "execution_count": 3,
     "metadata": {},
     "output_type": "execute_result"
    }
   ],
   "source": [
    "data = ResumeParser(path).get_extracted_data()\n",
    "data"
   ]
  },
  {
   "cell_type": "code",
   "execution_count": null,
   "id": "7ba7daf1",
   "metadata": {},
   "outputs": [],
   "source": []
  }
 ],
 "metadata": {
  "kernelspec": {
   "display_name": "Python 3 (ipykernel)",
   "language": "python",
   "name": "python3"
  },
  "language_info": {
   "codemirror_mode": {
    "name": "ipython",
    "version": 3
   },
   "file_extension": ".py",
   "mimetype": "text/x-python",
   "name": "python",
   "nbconvert_exporter": "python",
   "pygments_lexer": "ipython3",
   "version": "3.8.12"
  },
  "toc": {
   "base_numbering": 1,
   "nav_menu": {},
   "number_sections": true,
   "sideBar": true,
   "skip_h1_title": false,
   "title_cell": "Table of Contents",
   "title_sidebar": "Contents",
   "toc_cell": false,
   "toc_position": {},
   "toc_section_display": true,
   "toc_window_display": false
  }
 },
 "nbformat": 4,
 "nbformat_minor": 5
}
