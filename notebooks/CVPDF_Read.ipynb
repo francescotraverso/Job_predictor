{
 "cells": [
  {
   "cell_type": "code",
   "execution_count": 7,
   "id": "78b5be0a-2c26-4bc4-910c-904fbb336711",
   "metadata": {},
   "outputs": [
    {
     "ename": "SyntaxError",
     "evalue": "invalid syntax (1444563159.py, line 2)",
     "output_type": "error",
     "traceback": [
      "\u001b[0;36m  Input \u001b[0;32mIn [7]\u001b[0;36m\u001b[0m\n\u001b[0;31m    pip install PIL\u001b[0m\n\u001b[0m        ^\u001b[0m\n\u001b[0;31mSyntaxError\u001b[0m\u001b[0;31m:\u001b[0m invalid syntax\n"
     ]
    }
   ],
   "source": [
    "#pip install pdf2image\n",
    "#pip install PIL\n",
    "#pip install pytesseract\n",
    "#pip install pdf2image"
   ]
  },
  {
   "cell_type": "code",
   "execution_count": 98,
   "id": "e2b1809c",
   "metadata": {},
   "outputs": [],
   "source": [
    "#Imports\n",
    "\n",
    "import os\n",
    "from pdf2image import convert_from_path\n",
    "from PIL import Image\n",
    "import pytesseract\n",
    "import glob\n",
    "import fnmatch"
   ]
  },
  {
   "cell_type": "code",
   "execution_count": 99,
   "id": "4ac60c35",
   "metadata": {},
   "outputs": [],
   "source": [
    "#PART 1 : Converting PDF to images\n",
    "\n",
    "pdf_dir = '/Users/sandragomes/code/francescotraverso/job_predictor/data/cv_directory/received_files'\n",
    "\n",
    "os.chdir(pdf_dir)"
   ]
  },
  {
   "cell_type": "code",
   "execution_count": 100,
   "id": "0e63fb26",
   "metadata": {},
   "outputs": [],
   "source": [
    "# Iterate over pdf files\n",
    "for pdf_file in os.listdir(pdf_dir):\n",
    "    if pdf_file.endswith(\".pdf\"):\n",
    "        #Read in the PDF file at 300 DPI\n",
    "        pages = convert_from_path(pdf_file, 300)\n",
    "        pdf_file = pdf_file[:-4]\n",
    "        #Iterate through all the pages stored above\n",
    "        for page in pages:\n",
    "            #Create a file name to store the image. Save the image of the page in system\n",
    "            page.save(\"%s-page%d.jpg\" % (pdf_file,pages.index(page)), \"JPEG\")"
   ]
  },
  {
   "cell_type": "code",
   "execution_count": 167,
   "id": "f7cfe51e",
   "metadata": {},
   "outputs": [],
   "source": [
    "#Part 2: Recognizing text from the images and create .txt files\n",
    "\n",
    "#identify only .jpg files\n",
    "jpg_files = fnmatch.filter(os.listdir(pdf_dir),'*.jpg')\n",
    "\n",
    "for img_file in jpg_files:\n",
    "    \n",
    "    #open each image from folder\n",
    "    img = Image.open(img_file)\n",
    "    \n",
    "    #language text image to string\n",
    "    img_to_str = pytesseract.image_to_string(img, lang='eng')\n",
    "    \n",
    "    #set as a string\n",
    "    text = str(img_to_str)\n",
    "    \n",
    "    #replace enters\n",
    "    text.replace(\"-\\n\", \"\")\n",
    "    \n",
    "    #create .txt files\n",
    "    text_file = open(img_file+\".txt\", \"w\")\n",
    "    text_file.write(text)\n",
    "    text_file.close()"
   ]
  },
  {
   "cell_type": "code",
   "execution_count": null,
   "id": "71f16d72",
   "metadata": {},
   "outputs": [],
   "source": []
  }
 ],
 "metadata": {
  "kernelspec": {
   "display_name": "Python 3 (ipykernel)",
   "language": "python",
   "name": "python3"
  },
  "language_info": {
   "codemirror_mode": {
    "name": "ipython",
    "version": 3
   },
   "file_extension": ".py",
   "mimetype": "text/x-python",
   "name": "python",
   "nbconvert_exporter": "python",
   "pygments_lexer": "ipython3",
   "version": "3.8.12"
  },
  "toc": {
   "base_numbering": 1,
   "nav_menu": {},
   "number_sections": true,
   "sideBar": true,
   "skip_h1_title": false,
   "title_cell": "Table of Contents",
   "title_sidebar": "Contents",
   "toc_cell": false,
   "toc_position": {},
   "toc_section_display": true,
   "toc_window_display": false
  },
  "vscode": {
   "interpreter": {
    "hash": "65d50f0016bbddb58e80263734f2410716cd3ff639284da43625611ffee1afc5"
   }
  }
 },
 "nbformat": 4,
 "nbformat_minor": 5
}
