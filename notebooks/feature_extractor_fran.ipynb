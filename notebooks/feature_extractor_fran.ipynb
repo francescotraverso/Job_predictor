{
 "cells": [
  {
   "cell_type": "code",
   "execution_count": 1,
   "id": "750effb9",
   "metadata": {},
   "outputs": [],
   "source": [
    "from pyresparser import ResumeParser\n",
    "import re"
   ]
  },
  {
   "cell_type": "code",
   "execution_count": 2,
   "id": "6916efcb",
   "metadata": {},
   "outputs": [
    {
     "data": {
      "text/plain": [
       "'/home/ftraverso/code/francescotraverso/job_predictor/notebooks'"
      ]
     },
     "execution_count": 2,
     "metadata": {},
     "output_type": "execute_result"
    }
   ],
   "source": [
    "pwd"
   ]
  },
  {
   "cell_type": "code",
   "execution_count": 5,
   "id": "d22d927a",
   "metadata": {},
   "outputs": [
    {
     "data": {
      "text/plain": [
       "'/home/ftraverso/code/francescotraverso/job_predictor/data/cv_directory/junaid_resume.pdf'"
      ]
     },
     "execution_count": 5,
     "metadata": {},
     "output_type": "execute_result"
    }
   ],
   "source": [
    "path = '/home/ftraverso/code/francescotraverso/job_predictor/data/cv_directory/junaid_resume.pdf'\n",
    "path"
   ]
  },
  {
   "cell_type": "code",
   "execution_count": 6,
   "id": "9fc476b5",
   "metadata": {},
   "outputs": [
    {
     "data": {
      "text/plain": [
       "{'name': 'Junaid Shahid',\n",
       " 'email': 'Junaidshahid910@gmail.com',\n",
       " 'mobile_number': '209 6520',\n",
       " 'skills': ['Human resources',\n",
       "  'Email',\n",
       "  'Operations',\n",
       "  'Communication',\n",
       "  'Sales',\n",
       "  'Repairs',\n",
       "  'Hotel',\n",
       "  'English',\n",
       "  'Research',\n",
       "  'Word',\n",
       "  'Powerpoint',\n",
       "  'Presentation',\n",
       "  'Beverage',\n",
       "  'Excel',\n",
       "  'Hospitality',\n",
       "  'Mobile',\n",
       "  'Hotels',\n",
       "  'Accounting',\n",
       "  'Falcon',\n",
       "  'Marketing',\n",
       "  'Requests',\n",
       "  'Social media'],\n",
       " 'college_name': None,\n",
       " 'degree': ['Graduate Diploma in Hospitality & Tourism Management',\n",
       "  'Intermediate in Commerce (HSSC)'],\n",
       " 'designation': ['Sales & Marketing Executive', 'Banquet Sales & Operations'],\n",
       " 'experience': ['\\uf0b7  Replenish stock of items in hotel rooms',\n",
       "  '\\uf0b7  Monitor rooms for general repairs and upkeep',\n",
       "  'Inspect guest rooms prior to checking in',\n",
       "  '\\uf0b7',\n",
       "  '\\uf0b7  Accommodate requests by guests for extra towels, ice bucket, pillows',\n",
       "  'and blankets',\n",
       "  'QUALIFICATIONS',\n",
       "  'Graduate Diploma in Hospitality & Tourism Management',\n",
       "  'COLLEGE OF TOURISM & HOTEL MANAGEMENT - COTHM, ISLMABAD,',\n",
       "  'PAKISTAN',\n",
       "  '2016 – 17',\n",
       "  'Coursework: Hospitality & Tourism Management, F&B Operations, H&T Marketing,',\n",
       "  'Mastering Communications, Front Office Operations, Human Resources, Accounting',\n",
       "  'Intermediate in Commerce (HSSC)',\n",
       "  'SUPERIOR COLLEGE, BUREWALA, PAKISTAN',\n",
       "  '2014 – 2016',\n",
       "  'Matriculation in Science (SSC)',\n",
       "  'DIVISIONAL PUBLIC SCHOOL, BUREWALA, PAKISTAN',\n",
       "  '2011 – 2013'],\n",
       " 'company_names': None,\n",
       " 'no_of_pages': 2,\n",
       " 'total_experience': 0.0}"
      ]
     },
     "execution_count": 6,
     "metadata": {},
     "output_type": "execute_result"
    }
   ],
   "source": [
    "data = ResumeParser(path).get_extracted_data()\n",
    "data"
   ]
  },
  {
   "cell_type": "code",
   "execution_count": 7,
   "id": "7ba7daf1",
   "metadata": {},
   "outputs": [
    {
     "data": {
      "text/plain": [
       "'\\uf0b7  Replenish stock of items in hotel rooms \\uf0b7  Monitor rooms for general repairs and upkeep Inspect guest rooms prior to checking in \\uf0b7 \\uf0b7  Accommodate requests by guests for extra towels, ice bucket, pillows and blankets QUALIFICATIONS Graduate Diploma in Hospitality & Tourism Management COLLEGE OF TOURISM & HOTEL MANAGEMENT - COTHM, ISLMABAD, PAKISTAN 2016 – 17 Coursework: Hospitality & Tourism Management, F&B Operations, H&T Marketing, Mastering Communications, Front Office Operations, Human Resources, Accounting Intermediate in Commerce (HSSC) SUPERIOR COLLEGE, BUREWALA, PAKISTAN 2014 – 2016 Matriculation in Science (SSC) DIVISIONAL PUBLIC SCHOOL, BUREWALA, PAKISTAN 2011 – 2013'"
      ]
     },
     "execution_count": 7,
     "metadata": {},
     "output_type": "execute_result"
    }
   ],
   "source": [
    "JT = \" \".join(data['experience'])\n",
    "JT"
   ]
  },
  {
   "cell_type": "code",
   "execution_count": null,
   "id": "de309250",
   "metadata": {},
   "outputs": [],
   "source": []
  }
 ],
 "metadata": {
  "kernelspec": {
   "display_name": "Python 3 (ipykernel)",
   "language": "python",
   "name": "python3"
  },
  "language_info": {
   "codemirror_mode": {
    "name": "ipython",
    "version": 3
   },
   "file_extension": ".py",
   "mimetype": "text/x-python",
   "name": "python",
   "nbconvert_exporter": "python",
   "pygments_lexer": "ipython3",
   "version": "3.8.12"
  },
  "toc": {
   "base_numbering": 1,
   "nav_menu": {},
   "number_sections": true,
   "sideBar": true,
   "skip_h1_title": false,
   "title_cell": "Table of Contents",
   "title_sidebar": "Contents",
   "toc_cell": false,
   "toc_position": {},
   "toc_section_display": true,
   "toc_window_display": false
  }
 },
 "nbformat": 4,
 "nbformat_minor": 5
}
