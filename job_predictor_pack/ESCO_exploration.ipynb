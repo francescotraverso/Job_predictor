{
 "cells": [
  {
   "cell_type": "code",
   "execution_count": 154,
   "id": "fbc18917",
   "metadata": {},
   "outputs": [],
   "source": [
    "import pandas as pd\n",
    "import numpy as np\n",
    "import requests\n",
    "import string\n",
    "from gensim.models.doc2vec import Doc2Vec\n",
    "from nltk import word_tokenize\n",
    "from nltk.corpus import stopwords\n",
    "from nltk.stem import WordNetLemmatizer"
   ]
  },
  {
   "cell_type": "code",
   "execution_count": 45,
   "id": "c1f5bccc",
   "metadata": {},
   "outputs": [],
   "source": [
    "df_occupations = pd.read_csv('data/ESCO/occupations_en.csv')"
   ]
  },
  {
   "cell_type": "code",
   "execution_count": 86,
   "id": "702d368a",
   "metadata": {},
   "outputs": [],
   "source": [
    "# search for all jobs that have 'manager' in their title  --- IGNORE this cell for now\n",
    "url_title = \"https://ec.europa.eu/esco/api/search\"\n",
    "\n",
    "params = {\n",
    "    'language': 'en',\n",
    "    'type': 'occupation',\n",
    "    'text': 'pig'\n",
    "         }\n",
    "\n",
    "api_title = requests.get(url=url, params=params).json()"
   ]
  },
  {
   "cell_type": "code",
   "execution_count": 131,
   "id": "4bec560f",
   "metadata": {},
   "outputs": [],
   "source": [
    "# select a role\n",
    "role = 'cattle breeder'"
   ]
  },
  {
   "cell_type": "code",
   "execution_count": 142,
   "id": "5223109b",
   "metadata": {},
   "outputs": [
    {
     "name": "stdout",
     "output_type": "stream",
     "text": [
      "***** SKILL LIST: ['assist animal birth', 'health and safety regulations', 'livestock reproduction', 'manage the health and welfare of livestock', 'maintain professional records', 'manage cattle breeding', 'provide first aid to animals', 'manage animal hygiene', 'create animal records', 'manage animal biosecurity', 'perform milk control', 'manage livestock', 'dispose of dead animals', 'milk animals', 'animal welfare legislation', 'administer treatment to animals', 'feed livestock', 'care for juvenile animals', 'monitor livestock', 'animal nutrition', 'provide nutrition to animals', 'monitor the welfare of animals', 'maintain animal accommodation', 'livestock species', 'signs of animal illness', 'assist in transportation of animals', 'control animal movement', 'select livestock', 'administer specific drugs to facilitate breeding', 'operate farm equipment']\n",
      "***** ALTERNATIVE LABELS: ['cattle specialist', 'cattle breeders', 'cattle rearer']\n",
      "***** JOB DESCRIPTION: Cattle breeders oversee the production and day-to-day care of cattle. They maintain the health and welfare of cattle.\n"
     ]
    }
   ],
   "source": [
    "### run this cell & extract skills, alternative labels, and job description from the ESCO API ###\n",
    "\n",
    "# get uri for selected role\n",
    "role_extract = df_occupations[df_occupations['preferredLabel'] == role]\n",
    "role_uri = role_extract['conceptUri']\n",
    "\n",
    "# get role information from the ESCO API\n",
    "url = \"https://ec.europa.eu/esco/api/resource/skill\"\n",
    "params = {\n",
    "    'uri': role_uri,\n",
    "    'language': 'en',\n",
    "         }\n",
    "api_skills = requests.get(url=url, params=params).json()\n",
    "\n",
    "# this line gets you the whole API url; easier to read on your browser\n",
    "requests.get(url=url, params=params).url\n",
    "\n",
    "# gets a list of all skill descriptions and extracts the skill title only\n",
    "api_skills_dict = api_skills.get('_links').get('hasEssentialSkill')\n",
    "skills_list = [skill.get('title') for skill in api_skills_dict]\n",
    "\n",
    "# gets list of alternative labels from the API\n",
    "alt_labels_list = api_skills.get('alternativeLabel').get('en')\n",
    "\n",
    "# gets job description from the API\n",
    "job_description = api_skills.get('description').get('en').get('literal')\n",
    "\n",
    "print('***** SKILL LIST:', skills_list)\n",
    "print('***** ALTERNATIVE LABELS:', alt_labels_list)\n",
    "print('***** JOB DESCRIPTION:', job_description)"
   ]
  },
  {
   "cell_type": "code",
   "execution_count": 155,
   "id": "522a0c7b",
   "metadata": {},
   "outputs": [],
   "source": [
    "# Preprocessing of job descriptions\n",
    "\n",
    "def preprocessing(sentence):\n",
    "    \n",
    "    # remove punctuation\n",
    "    for punctuation in string.punctuation:        \n",
    "        sentence = sentence.replace(punctuation, '')\n",
    "    \n",
    "    # set lowercase\n",
    "    sentence = sentence.lower()\n",
    "    \n",
    "    # remove numbers\n",
    "    sentence = ''.join(char for char in sentence if not char.isdigit())\n",
    "    \n",
    "    # remove stopwords\n",
    "    stop_words = set(stopwords.words('english'))\n",
    "    tokens = word_tokenize(sentence)\n",
    "    stopword_free_tokens = [token for token in tokens if token not in stop_words]\n",
    "    sentence = ' '.join(stopword_free_tokens)\n",
    "\n",
    "    # lemmatize\n",
    "    sentence = WordNetLemmatizer().lemmatize(sentence, pos='n')\n",
    "    sentence = WordNetLemmatizer().lemmatize(sentence, pos='v')\n",
    "    \n",
    "    return sentence"
   ]
  },
  {
   "cell_type": "code",
   "execution_count": 156,
   "id": "547521ca",
   "metadata": {},
   "outputs": [
    {
     "name": "stdout",
     "output_type": "stream",
     "text": [
      "cattle breeders oversee production daytoday care cattle maintain health welfare cattle\n"
     ]
    }
   ],
   "source": [
    "print(preprocessing(job_description))"
   ]
  },
  {
   "cell_type": "code",
   "execution_count": null,
   "id": "e33096fa",
   "metadata": {},
   "outputs": [],
   "source": [
    "# Function to embed a sentence (job description)\n",
    "\n",
    "def embed_sentence(doc2vec, sentence):\n",
    "    embedded_sentence = []\n",
    "    for word in sentence:\n",
    "        if word in word2vec.wv:\n",
    "            embedded_sentence.append(word2vec.wv[word])\n",
    "        "
   ]
  }
 ],
 "metadata": {
  "kernelspec": {
   "display_name": "Python 3 (ipykernel)",
   "language": "python",
   "name": "python3"
  },
  "language_info": {
   "codemirror_mode": {
    "name": "ipython",
    "version": 3
   },
   "file_extension": ".py",
   "mimetype": "text/x-python",
   "name": "python",
   "nbconvert_exporter": "python",
   "pygments_lexer": "ipython3",
   "version": "3.8.12"
  },
  "toc": {
   "base_numbering": 1,
   "nav_menu": {},
   "number_sections": true,
   "sideBar": true,
   "skip_h1_title": false,
   "title_cell": "Table of Contents",
   "title_sidebar": "Contents",
   "toc_cell": false,
   "toc_position": {},
   "toc_section_display": true,
   "toc_window_display": false
  }
 },
 "nbformat": 4,
 "nbformat_minor": 5
}
